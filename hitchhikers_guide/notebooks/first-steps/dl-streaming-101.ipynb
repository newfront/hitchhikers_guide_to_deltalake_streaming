{
 "cells": [
  {
   "cell_type": "code",
   "execution_count": null,
   "id": "a457036d-1d98-46e0-a64e-52faa61300e1",
   "metadata": {
    "tags": []
   },
   "outputs": [],
   "source": [
    "# run first. then have fun.\n",
    "from pyspark.sql.functions import col, current_timestamp, to_date, datediff\n",
    "# stats and agg functions\n",
    "from pyspark.sql.functions import count, session_window, window, sum, min, max, percentile_approx\n",
    "\n",
    "from delta.tables import DeltaTable\n",
    "\n",
    "# keep the default compression codec as zstd\n",
    "spark.conf.set(\"spark.sql.parquet.compression.codec\", \"zstd\")\n",
    "\n",
    "# common dirs, paths\n",
    "dataset_dir = '/opt/spark/work-dir/hitchhikers_guide/datasets/ecomm_behavior_data'\n",
    "delta_path = f\"{dataset_dir}/delta\"\n",
    "\n",
    "# table information\n",
    "dl_table_name = \"ecomm_by_day\"\n",
    "dl_managed_table = f\"default.{dl_table_name}\""
   ]
  },
  {
   "cell_type": "markdown",
   "id": "2c37f33a-778d-446f-b041-2820c1a257b2",
   "metadata": {},
   "source": [
    "# Intro to Delta Lake Streaming\n",
    "The following section will reuse the **Delta Lake** `default.ecomm_by_day` table created during [Streaming First Steps](./streaming-first-steps.ipynb).\n",
    "\n",
    "> note: run the following cell to check if you have the local table. You should see `[Table(name='ecomm_by_day', database='default', description=None, tableType='MANAGED', isTemporary=False)]` somewhere in the list (if you have more than one from the work in the Guide)"
   ]
  },
  {
   "cell_type": "code",
   "execution_count": null,
   "id": "b4a3f372-ea71-436e-9182-25d66c7b989f",
   "metadata": {
    "tags": []
   },
   "outputs": [],
   "source": [
    "spark.catalog.setCurrentDatabase(\"default\")\n",
    "spark.catalog.listTables()"
   ]
  },
  {
   "cell_type": "markdown",
   "id": "6598b8a9-bfb1-49aa-86c9-cc9b1b67f5b8",
   "metadata": {
    "tags": []
   },
   "source": [
    "> Note: If you see `java.sql.SQLException: Failed to start database 'metastore_db' with class loader jdk.internal.loader.ClassLoaders$AppClassLoader...` then you need to detach the `kernel` from the other notebook you have open. You can only have one notebook running with the local Metastore."
   ]
  },
  {
   "cell_type": "markdown",
   "id": "fcd9a92d-0b69-4131-9a17-ccbfe76f97fe",
   "metadata": {},
   "source": [
    "## Successful Streaming Begins with Metadata (lots and lots of metadata)\n",
    "> In other words, if you don't understand how the table is laid out, what the structure of the table is (columns, types, is the table narrow or wide? do you know what any of the columns actually are?\n",
    "\n",
    "Remember, when in lost or in doubt, always consult the data (metadata). To Peek at the Table Metadata with `detail()`\n",
    "* - Use `DeltaTable.forName(spark, 'catalog.schema.table|schema.table|table').detail()` \n",
    "* - or `DeltaTable.forPath(spark, '/path/to/table/).detail()` for Unmanaged tables."
   ]
  },
  {
   "cell_type": "code",
   "execution_count": null,
   "id": "5075440a-f931-40ea-886e-4249cd10b806",
   "metadata": {
    "tags": []
   },
   "outputs": [],
   "source": [
    "## Starting Small (Baby Steps)\n",
    "dt_ecomm = DeltaTable.forName(spark, dl_managed_table)\n",
    "table_details = dt_ecomm.detail()\n",
    "\n",
    "# go on, take a peek (no one's looking)\n",
    "table_details.printSchema()"
   ]
  },
  {
   "cell_type": "markdown",
   "id": "9bcfbfd3-2669-4451-9dcf-a0f21b621e2f",
   "metadata": {},
   "source": [
    "### Table Details. Providing you with all the ... well details\n",
    "Scanning the StructType of the `detail()` dataframe gives you a lot of data. The following use cases can be solved with the metadata:\n",
    "\n",
    "```\n",
    "root\n",
    " |-- format: string (nullable = true)\n",
    " |-- id: string (nullable = true)\n",
    " |-- name: string (nullable = true)\n",
    " |-- description: string (nullable = true)\n",
    " |-- location: string (nullable = true)\n",
    " |-- createdAt: timestamp (nullable = true)\n",
    " |-- lastModified: timestamp (nullable = true)\n",
    " |-- partitionColumns: array (nullable = true)\n",
    " |    |-- element: string (containsNull = true)\n",
    " |-- numFiles: long (nullable = true)\n",
    " |-- sizeInBytes: long (nullable = true)\n",
    " |-- properties: map (nullable = true)\n",
    " |    |-- key: string\n",
    " |    |-- value: string (valueContainsNull = true)\n",
    " |-- minReaderVersion: integer (nullable = true)\n",
    " |-- minWriterVersion: integer (nullable = true)\n",
    " |-- tableFeatures: array (nullable = true)\n",
    " |    |-- element: string (containsNull = true)\n",
    "```\n",
    "\n",
    "1. **Calculate Table Freshness**: `abs(current_time()-{table.lastModified})`: To answer the universal question of - \"How Fresh Is It?\".\n",
    "2. **How Fast is the Table Growing?**: Size does matter. If we have two tables, tableA is 100gb and has `createdAt` of one year ago, and tableB is 100gb and was created yesterday, then we've got a scalability monster. Using the `freshness` technique, you can calculate the `days` a table has `existed`, and calculate the `avg` bytes per day using `sizeInBytes`.\n",
    "3. **What is the Table Telling Us?**: Using the `properties` map, we can easily view ALL Table Properties, including those used to `automate` Delta Lake like `delta.logRetentionDuration` or those *we bring to the table* - pun truly intended. Like `catalog.team_name`"
   ]
  },
  {
   "cell_type": "code",
   "execution_count": null,
   "id": "5c3eb912-19c2-4354-8abf-954701bde8eb",
   "metadata": {
    "tags": []
   },
   "outputs": [],
   "source": [
    "# Feel Free to Mess with the following cell to get used to the data available to you about the ecomm_by_day table.\n",
    "\n",
    "tbl_dets = (\n",
    "    table_details\n",
    "    .withColumn(\"now\", current_timestamp())\n",
    "    .withColumn(\"todays_date\", to_date(col(\"now\")))\n",
    "    .withColumn(\"age_in_days\", datediff(col(\"todays_date\"),to_date(\"createdAt\")))\n",
    "    .withColumn(\"stale_days\", datediff(col(\"todays_date\"),to_date(\"lastModified\")))\n",
    ")\n",
    "# view all the time-based info on the table.\n",
    "tbl_dets.select(\"now\", \"todays_date\", \"createdAt\", \"lastModified\", \"age_in_days\", \"stale_days\").show(truncate=False)\n",
    "\n",
    "# fetch the dataframe as a local Row\n",
    "dets = tbl_dets.first()\n",
    "# see it's a Row...<class 'pyspark.sql.types.Row'>\n",
    "#print(type(dets))\n",
    "team_name = dets['properties']['catalog.team_name']\n",
    "team_slack = dets['properties']['catalog.engineering.comms.slack']\n",
    "\n",
    "# stick to the details\n",
    "print(f\"Don't Panic!\\nThe table {dets.name} is owned by {team_name}.\\nWe can always contact them via slack @ {team_slack}\")\n",
    "\n",
    "# or remember not to panic, everything is under control\n",
    "#print(f\"\"\"\n",
    "#I am no longer panicking.\\n \n",
    "#Why you ask?\\n\n",
    "#I know that I can count on {team_name} to deliver gold data, otherwise...\\n\n",
    "#to slack ({team_slack}) we ride questions in hand about the TABLE {dets.name}.\\n\n",
    "#Which happened to be created on {dets.createdAt} and last updated at {dets.lastModified}...\n",
    "#\"\"\")"
   ]
  },
  {
   "cell_type": "code",
   "execution_count": null,
   "id": "1474d650-5a72-47ea-9214-b327b0a75da8",
   "metadata": {
    "tags": []
   },
   "outputs": [],
   "source": [
    "bytesToMB = 1000000\n",
    "(tbl_dets\n",
    " .select(\n",
    "     col(\"numFiles\"),\n",
    "     (col(\"sizeInBytes\")/bytesToMB).alias(\"TableSizeInMegaBytes\"),\n",
    "     ((col(\"sizeInBytes\")/bytesToMB)/col(\"numFiles\")).alias(\"avgMBPerFile\")\n",
    " ).show()\n",
    ")"
   ]
  },
  {
   "cell_type": "markdown",
   "id": "3b0fae51-ea43-4a0d-83ee-b2b4fb2fdfc2",
   "metadata": {},
   "source": [
    "## What We've Learned about the Dataset\n",
    "> Note: The following information is based on the 'complete' ecomm dataset. The full 15gb csv. 807mb is the size on disk after zstd compression and Delta encoding. \n",
    "\n",
    "1. The naive average megabytes per file is around `11.2mb`. If you run `ls -lh` across any given day, you'll see more of an odd split between say 3mb and 18mb due to non optimized, non-bin backed table data on disk.\n",
    "2. There are `72` files taking up a `~807mb` for the `entire` table.\n",
    "3. There are probably many more `rows` of data in the table, so if we wanted to get a 'quick' count, then that would be a good idea too. That can give us more `approximate` math to work with (rows/day) - even if we are off - we are better informed with approximate math than wild guesses and hopes and dreams.\n"
   ]
  },
  {
   "cell_type": "code",
   "execution_count": null,
   "id": "de32047a-73c9-46fc-9858-178cbf1bab06",
   "metadata": {
    "tags": []
   },
   "outputs": [],
   "source": [
    "# convert the DeltaTable reference to a DataFrame\n",
    "\n",
    "dt_as_df = dt_ecomm.toDF()\n",
    "total_rows = dt_as_df.count()\n",
    "\n",
    "rows_per_day = total_rows/dets['numFiles']\n",
    "avg_row_size = total_rows/dets['sizeInBytes']\n",
    "\n",
    "print(f\"\"\"\n",
    "The Table has {total_rows} rows.\\n\n",
    "(Maybe) Daily Rows of {rows_per_day}\\n\n",
    "(Maybe) Average Row Size {avg_row_size} in Bytes\\n\n",
    "(Maybe) Average Rows per Delta Lake File {total_rows/dets['numFiles']}\n",
    "\"\"\")"
   ]
  },
  {
   "cell_type": "markdown",
   "id": "301bd253-cb85-4fc6-a278-30cbe11d3256",
   "metadata": {},
   "source": [
    "# Our First Delta Lake Streaming Operation\n",
    "> Clap your Hands! Or Celebrate However you want. It's time to be Streaming\n",
    "\n",
    "Because we have potentially a gigantic amount of data - (Or depending on the adventure you chose a smaller set of 60, yes it should have been 42, but time...) - regardless, it is time to create our first streaming application.\n",
    "\n",
    "## What We'll Need\n",
    "1. A Place to Store our Application Metadata. Luckily we have our Local File Sytem, so we can just store the application data there for now. (See [common application directory](../../applications/README.md) to understand a little more.\n",
    "2. A [Way of Restricting the Volume of Data We Read](https://docs.delta.io/latest/delta-streaming.html#limit-input-rate)\n",
    "3. A [Means of Ignoring Things](https://docs.databricks.com/structured-streaming/delta-lake.html#ignore-updates-and-deletes) we don't currently care about.\n",
    "3. A Way of Limiting the Frequency in which our Application Runs (just like we want to limit the volume of data, when we start learning how to work with Streaming Data, it is better to slowly increase the rate which we will learn how to do.)"
   ]
  },
  {
   "cell_type": "code",
   "execution_count": null,
   "id": "fb2ca66b-c1d7-4df1-be63-2685949069e0",
   "metadata": {
    "tags": []
   },
   "outputs": [],
   "source": [
    "#spark.sql(\"drop table default.ecomm_aggs_table\")"
   ]
  },
  {
   "cell_type": "code",
   "execution_count": null,
   "id": "c78ea8fe-c4ab-48cd-b3e6-65aa4fadf7a3",
   "metadata": {
    "tags": []
   },
   "outputs": [],
   "source": [
    "# read from the `default.ecomm_by_day` table, modify the read options to limit the maxFilesPerTrigger\n",
    "# read up to 4 files, do a simple projection (select colA, colB)\n",
    "# write out to a new Delta Lake table. \n",
    "# Checkpoint the progress so we can `pick up where we left off`\n",
    "\n",
    "app_name = \"dl_streaming_aggs\"\n",
    "app_version = \"v0.0.1\"\n",
    "checkpoint_dir = \"../../applications\"\n",
    "checkpoint_path = f\"{checkpoint_dir}/{app_name}/{app_version}/_checkpoints\"\n",
    "#print(f\"checkpoint_path={checkpoint_path}\")\n",
    "ecomm_aggs_table = 'default.ecomm_aggs_table'\n",
    "\n",
    "spark.conf.set(\"spark.sql.shuffle.partitions\", \"32\")\n",
    "# create the streaming Delta source object\n",
    "ecomm_by_day_limited = (\n",
    "    spark.readStream\n",
    "    .format(\"delta\")\n",
    "    .option(\"maxFilesPerTrigger\", 1)\n",
    "    .option(\"ignoreChanges\", True)\n",
    "    .table(dl_managed_table)\n",
    ")\n",
    "\n",
    "# view the schema for the table (since we know everything else about it now too)\n",
    "ecomm_by_day_limited.printSchema()\n",
    "\n",
    "# next select the columns we care about (feel free to switch things up here too)\n",
    "ecomm_aggs = (\n",
    "    ecomm_by_day_limited\n",
    "    .withWatermark(\"event_time\", '10 minutes')\n",
    "    .select(\"event_time\", \"event_type\", \"product_id\", \"user_session\", \"user_id\", \"event_date\")\n",
    "    .groupBy(window(\"event_time\", \"30 minutes\"), \"user_id\", \"product_id\", \"event_date\")\n",
    "    .agg(count(\"event_type\").alias('session_events'))\n",
    ")\n",
    "\n",
    "# next create the streaming sink\n",
    "\n",
    "streamingQuery = (\n",
    "    ecomm_aggs.writeStream\n",
    "    .format(\"delta\")\n",
    "    .option(\"checkpointLocation\", checkpoint_path)\n",
    "    .outputMode(\"append\")\n",
    "    .partitionBy(\"event_date\")\n",
    "    .option(\"overwriteSchema\", True)\n",
    "    # triggers allow us to control the frequency in which a job will run. \n",
    "    # For the java nerds (me included) triggers run like scheduledThreadPools when using `processingTime` \n",
    "    # and once, will fire once and then the job will complete.\n",
    "    .trigger(processingTime='30 seconds')\n",
    "    .toTable(ecomm_aggs_table)\n",
    ")"
   ]
  },
  {
   "cell_type": "markdown",
   "id": "0fae0347-0f25-49d3-90f9-9e5ca8977281",
   "metadata": {
    "tags": []
   },
   "source": [
    "## Controlling the StreamingQuery\n",
    "1. We returned a `streamingQuery` object when we executed the last cell before. The Streaming Query object provides you with a gateway into the realtime metrics and behavior of your Delta-Spark based application performance.\n",
    "\n",
    "2. Given the application is `triggering` every `30s` that means twice a minute we'll have more data, as the job slowly chews through the 72 files of the data set, pulling in 600k files per tick.\n",
    "\n",
    "Take a look at the metadata provided to you by the `streamingQuery`. Think about how impressive the numbers are."
   ]
  },
  {
   "cell_type": "code",
   "execution_count": null,
   "id": "4f5c9735-e6e2-4354-99ad-f252b0b6a8d0",
   "metadata": {
    "tags": []
   },
   "outputs": [],
   "source": [
    "streamingQuery.lastProgress"
   ]
  },
  {
   "cell_type": "markdown",
   "id": "b994d389-df47-4a30-b344-831e3da1a9b2",
   "metadata": {
    "tags": []
   },
   "source": [
    "^^ The prior output from the StreamingQueryListener is an aggregation of the collected runtime metadata, and statistical\n",
    "behavior captured during the last microBatch. You'll notice that we started on index 16, and endingOffset was 17.\n",
    "\n",
    "# Viewing the Delta Lake Information in the Streaming Query Stats\n",
    "```\n",
    "'startOffset': {\n",
    "  'sourceVersion': 1,\n",
    "  'reservoirId': '027b3701-5c07-46d4-9d96-e5539f81e8bf',\n",
    "  'reservoirVersion': 33,\n",
    "  'index': 16,\n",
    "  'isStartingVersion': True},\n",
    "'endOffset': {\n",
    "  'sourceVersion': 1,\n",
    "  'reservoirId': '027b3701-5c07-46d4-9d96-e5539f81e8bf',\n",
    "  'reservoirVersion': 33,\n",
    "  'index': 17,\n",
    "  'isStartingVersion': True\n",
    "}\n",
    "```\n",
    "\n",
    "This means we can take a look at the operations in the `/_checkpoints/offsets/17` directory. \n",
    "\n",
    "```\n",
    "v1\n",
    "{\"batchWatermarkMs\":1570578599000,\"batchTimestampMs\":1687853100013,\"conf\":{\"spark.sql.streaming.stateStore.providerClass\":\"org.apache.spark.sql.execution.streaming.state.HDFSBackedStateStoreProvider\",\"spark.sql.streaming.join.stateFormatVersion\":\"2\",\"spark.sql.streaming.stateStore.compression.codec\":\"lz4\",\"spark.sql.streaming.stateStore.rocksdb.formatVersion\":\"5\",\"spark.sql.streaming.statefulOperator.useStrictDistribution\":\"true\",\"spark.sql.streaming.flatMapGroupsWithState.stateFormatVersion\":\"2\",\"spark.sql.streaming.multipleWatermarkPolicy\":\"min\",\"spark.sql.streaming.aggregation.stateFormatVersion\":\"2\",\"spark.sql.shuffle.partitions\":\"200\"}}\n",
    "{\"sourceVersion\":1,\"reservoirId\":\"027b3701-5c07-46d4-9d96-e5539f81e8bf\",\"reservoirVersion\":33,\"index\":17,\"isStartingVersion\":true}\n",
    "```"
   ]
  },
  {
   "cell_type": "code",
   "execution_count": 80,
   "id": "4c02d514-5320-4e1d-abfc-1ef6497ab69b",
   "metadata": {
    "tags": []
   },
   "outputs": [],
   "source": [
    "streamingQuery.stop()"
   ]
  },
  {
   "cell_type": "code",
   "execution_count": 79,
   "id": "8c85a0a7-513e-42f8-82b4-a279b6f0d9b7",
   "metadata": {
    "tags": []
   },
   "outputs": [
    {
     "data": {
      "text/plain": [
       "{'message': 'Stopped', 'isDataAvailable': False, 'isTriggerActive': False}"
      ]
     },
     "execution_count": 79,
     "metadata": {},
     "output_type": "execute_result"
    }
   ],
   "source": [
    "streamingQuery.status\n"
   ]
  },
  {
   "cell_type": "markdown",
   "id": "b0f8787b-836c-4101-a126-279de702238d",
   "metadata": {
    "jp-MarkdownHeadingCollapsed": true,
    "tags": []
   },
   "source": [
    "## View the Checkpoint Data"
   ]
  },
  {
   "cell_type": "code",
   "execution_count": 85,
   "id": "611cc35e-a070-4f2a-b084-6d068fbb7d9d",
   "metadata": {
    "tags": []
   },
   "outputs": [
    {
     "name": "stdout",
     "output_type": "stream",
     "text": [
      "v1\n",
      "{\"batchWatermarkMs\":1570578599000,\"batchTimestampMs\":1687853100013,\"conf\":{\"spark.sql.streaming.stateStore.providerClass\":\"org.apache.spark.sql.execution.streaming.state.HDFSBackedStateStoreProvider\",\"spark.sql.streaming.join.stateFormatVersion\":\"2\",\"spark.sql.streaming.stateStore.compression.codec\":\"lz4\",\"spark.sql.streaming.stateStore.rocksdb.formatVersion\":\"5\",\"spark.sql.streaming.statefulOperator.useStrictDistribution\":\"true\",\"spark.sql.streaming.flatMapGroupsWithState.stateFormatVersion\":\"2\",\"spark.sql.streaming.multipleWatermarkPolicy\":\"min\",\"spark.sql.streaming.aggregation.stateFormatVersion\":\"2\",\"spark.sql.shuffle.partitions\":\"200\"}}\n",
      "{\"sourceVersion\":1,\"reservoirId\":\"027b3701-5c07-46d4-9d96-e5539f81e8bf\",\"reservoirVersion\":33,\"index\":17,\"isStartingVersion\":true}"
     ]
    }
   ],
   "source": [
    "%%sh\n",
    "cat ../../applications/dl_streaming_aggs/v0.0.1/_checkpoints/offsets/17"
   ]
  },
  {
   "cell_type": "markdown",
   "id": "03e9d7ff-acb3-4450-b718-ca434ec7aca8",
   "metadata": {
    "tags": []
   },
   "source": [
    "## Applications have State in the form of Checkpoints. \n",
    "> Delta maintains its state in the terms of completed atomic transactions.\n",
    "\n",
    "The application checkpoints track where the application has last successfully read from the Delta Lake table (source), and the application also keeps track of the delta version based on the resulting transformation and insert into the (sink). In our case we read from the `default.ecomm_by_day` and did some windowed aggregations for events per session, and then recorded the results in a new table named `default.ecomm_aggs_table`.\n",
    "\n",
    "Let's peak at the checkpoint data. Open up `"
   ]
  },
  {
   "cell_type": "markdown",
   "id": "ce70c11e-dcbb-4c49-a1cc-cb051d90ce59",
   "metadata": {
    "jp-MarkdownHeadingCollapsed": true,
    "tags": []
   },
   "source": [
    "## The Fruits of our Quick Labor\n",
    "The shopping aggregations is our own 'sessionization' based on things that would work for the hitchhikers guide to Delta Lake streaming. Have we learned a lot from the data? Maybe. Have we learned a lot more about how Delta Lake works? Surely."
   ]
  },
  {
   "cell_type": "code",
   "execution_count": 66,
   "id": "e3f2b354-6637-4a54-b30f-d1672f39fa59",
   "metadata": {
    "tags": []
   },
   "outputs": [
    {
     "name": "stdout",
     "output_type": "stream",
     "text": [
      "+------------------------------------------+---------+----------+----------+--------------+\n",
      "|window                                    |user_id  |product_id|event_date|session_events|\n",
      "+------------------------------------------+---------+----------+----------+--------------+\n",
      "|{2019-10-01 17:30:00, 2019-10-01 18:00:00}|536922877|3101045   |2019-10-01|2             |\n",
      "|{2019-10-01 20:00:00, 2019-10-01 20:30:00}|521595164|3601405   |2019-10-01|4             |\n",
      "|{2019-10-01 19:00:00, 2019-10-01 19:30:00}|542537982|26401412  |2019-10-01|1             |\n",
      "|{2019-10-01 19:00:00, 2019-10-01 19:30:00}|544624772|26204073  |2019-10-01|1             |\n",
      "|{2019-10-01 17:30:00, 2019-10-01 18:00:00}|555732683|28715756  |2019-10-01|1             |\n",
      "|{2019-10-01 22:00:00, 2019-10-01 22:30:00}|554327957|1005008   |2019-10-01|1             |\n",
      "|{2019-10-01 19:00:00, 2019-10-01 19:30:00}|515086886|1005104   |2019-10-01|1             |\n",
      "|{2019-10-01 20:00:00, 2019-10-01 20:30:00}|555779608|1005105   |2019-10-01|1             |\n",
      "|{2019-10-01 18:00:00, 2019-10-01 18:30:00}|542450933|12701845  |2019-10-01|1             |\n",
      "|{2019-10-01 19:30:00, 2019-10-01 20:00:00}|512650709|1201458   |2019-10-01|1             |\n",
      "+------------------------------------------+---------+----------+----------+--------------+\n",
      "only showing top 10 rows\n",
      "\n"
     ]
    }
   ],
   "source": [
    "(spark.read\n",
    " .table(\"default.ecomm_aggs_table\")\n",
    " .where(col(\"event_date\").isin(\"2019-10-01\",\"2019-10-02\"))\n",
    " .show(10, truncate=False))"
   ]
  },
  {
   "cell_type": "markdown",
   "id": "2bd05bd4-7963-4c40-8e08-b9df76a296ca",
   "metadata": {
    "jp-MarkdownHeadingCollapsed": true,
    "tags": []
   },
   "source": [
    "## Extra Homework: Finding Neat Patterns in the Data\n",
    "> shopping is fun. We all do it, some of us even enjoy it. Regardless of your style, the one thing we have in common is that not one of us really shops the same. Investigate the 42 million shopping data points from this dataset to understand how people are shopping. "
   ]
  },
  {
   "cell_type": "code",
   "execution_count": null,
   "id": "4a68175a-e3ca-4181-949f-331b041ed2bf",
   "metadata": {
    "tags": []
   },
   "outputs": [],
   "source": [
    "(spark.read\n",
    " .table(dl_managed_table)\n",
    " .select(\"event_time\", \"event_type\", \"product_id\", \"user_session\", \"user_id\")\n",
    " .show(100, truncate=False)\n",
    ")"
   ]
  },
  {
   "cell_type": "code",
   "execution_count": null,
   "id": "e5cb4f97-dcfb-4b49-a523-5eaeca53642e",
   "metadata": {
    "tags": []
   },
   "outputs": [],
   "source": [
    "# find a user who has an interesting shopping pattern\n",
    "# this user comes back frequently, views, comes back, and 10 days from the first\n",
    "# view finally makes a purchase\n",
    "\n",
    "(spark.read\n",
    " .table(dl_managed_table)\n",
    " .select(\"event_time\", \"event_type\", \"product_id\", \"user_id\", \"user_session\")\n",
    " .where(col(\"user_id\").eqNullSafe(516224384))\n",
    " .show(100, truncate=False)\n",
    ")"
   ]
  },
  {
   "cell_type": "markdown",
   "id": "1026cfd7-e080-41ca-aaf4-d28644ff8b53",
   "metadata": {},
   "source": [
    "# Cleaning up with Vacuum.\n",
    "We are done with the introduction to Streaming. The First steps covers creating tables, and modifying the table properties, as well as understanding a little more about the structure of a Delta Lake table. During normal processing, you most likely overwrote, or deleted some data, for each transaction that affects the data in a given Delta Lake table, there are some artifacts (call it orphaned data or files) that are no longer needed for the *CURRENT* version of the Delta Lake table. We will learn more about using `vacuum` while preserving enough history to `undo`, `rewind`, or `time-travel` to a particular point in Table Time under "
   ]
  },
  {
   "cell_type": "code",
   "execution_count": null,
   "id": "ec289a34-e8b0-4c76-b9c5-eace8ef765d4",
   "metadata": {
    "tags": []
   },
   "outputs": [],
   "source": [
    "spark.conf.set(\"spark.databricks.delta.retentionDurationCheck.enabled\",\"false\")\n",
    "DeltaTable.forName(spark, ecomm_aggs_table).vacuum(retentionHours=0)\n",
    "spark.conf.set(\"spark.databricks.delta.retentionDurationCheck.enabled\",\"true\")"
   ]
  }
 ],
 "metadata": {
  "kernelspec": {
   "display_name": "Python 3 (ipykernel)",
   "language": "python",
   "name": "python3"
  },
  "language_info": {
   "codemirror_mode": {
    "name": "ipython",
    "version": 3
   },
   "file_extension": ".py",
   "mimetype": "text/x-python",
   "name": "python",
   "nbconvert_exporter": "python",
   "pygments_lexer": "ipython3",
   "version": "3.9.2"
  }
 },
 "nbformat": 4,
 "nbformat_minor": 5
}
