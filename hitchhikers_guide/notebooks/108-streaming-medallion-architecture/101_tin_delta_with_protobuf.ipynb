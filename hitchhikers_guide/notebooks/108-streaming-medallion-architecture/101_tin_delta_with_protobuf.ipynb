{
 "cells": [
  {
   "cell_type": "code",
   "execution_count": 1,
   "id": "70c7e020-7223-4619-b9da-bce606a5b2bf",
   "metadata": {},
   "outputs": [],
   "source": [
    "from pyspark.sql.functions import col\n",
    "from pyspark.sql.protobuf.functions import from_protobuf\n",
    "from pyspark.sql.types import DateType\n",
    "from delta.tables import DeltaTable\n",
    "from pyspark.sql.streaming import StreamingQuery"
   ]
  },
  {
   "cell_type": "code",
   "execution_count": 2,
   "id": "6940d260-6a5d-4a27-bef6-ac1cbbc42683",
   "metadata": {},
   "outputs": [],
   "source": [
    "from pathlib import Path\n",
    "\n",
    "def read_binary_at(path: Path):\n",
    "    with path.open(\"rb\") as fb:\n",
    "        bindata = fb.read()\n",
    "    return bindata"
   ]
  },
  {
   "cell_type": "markdown",
   "id": "5e51d0ef-2409-4343-818e-053fb231f0f9",
   "metadata": {},
   "source": [
    "## Note on Running the Following Examples\n",
    "1. If you have gone through the process of running [highwire](https://github.com/datacircus/highwire) and have populated data using [100_automatic_kafka_to_tin_delta.ipynb](./100_automatic_kafka_to_tin_delta.ipynb), then you will have the table `default.coffeeco_v1_orders_tin`.\n",
    "2. If you haven't run the 100 level notebook, you can change the Delta reference to point to `/opt/spark/work-dir/hitchhikers_guide/datasets/coffeeco_v1_orders_tin` so that you don't need to build and run `highwire`."
   ]
  },
  {
   "cell_type": "code",
   "execution_count": 5,
   "id": "ce535b6e-7d2d-4439-b454-6545d386925e",
   "metadata": {},
   "outputs": [
    {
     "name": "stdout",
     "output_type": "stream",
     "text": [
      "checkpoint_path=/opt/spark/work-dir/hitchhikers_guide/applications/ringmaster_tin_to_bronze/v0.0.1/_checkpoints\n"
     ]
    }
   ],
   "source": [
    "app_name = \"ringmaster_tin_to_bronze\"\n",
    "app_version = \"v0.0.1\"\n",
    "\n",
    "delta_source_table = \"default.coffeeco_v1_orders_tin\"\n",
    "\n",
    "protobuf_descriptor_path: Path = (\n",
    "    Path('/opt/spark/work-dir/hitchhikers_guide')\n",
    "    .joinpath(\"common\",\"protobuf\",\"coffeeco_v1\",\"descriptor.bin\")\n",
    "    .absolute()\n",
    ")\n",
    "tin_protobuf_message_name = \"coffeeco.v1.Order\"\n",
    "\n",
    "checkpoint_dir = \"/opt/spark/work-dir/hitchhikers_guide/applications\"\n",
    "checkpoint_path = f\"{checkpoint_dir}/{app_name}/{app_version}/_checkpoints\"\n",
    "print(f\"checkpoint_path={checkpoint_path}\")\n",
    "\n",
    "delta_sink_table = \"default.coffeeco_v1_orders_tin\""
   ]
  },
  {
   "cell_type": "code",
   "execution_count": 46,
   "id": "803deb79-7ebe-4934-b4a4-940fe3a5762a",
   "metadata": {},
   "outputs": [
    {
     "data": {
      "text/plain": [
       "[Table(name='coffee_orders_base', catalog='spark_catalog', namespace=['default'], description='lineage:default.coffeeco_v1_orders_tin:coffee_orders_base', tableType='MANAGED', isTemporary=False),\n",
       " Table(name='coffeeco_tin_dq_rules', catalog='spark_catalog', namespace=['default'], description=None, tableType='MANAGED', isTemporary=False),\n",
       " Table(name='coffeeco_v1_orders_tin', catalog='spark_catalog', namespace=['default'], description='kafka-rp:coffeeco.v1.orders:tin', tableType='MANAGED', isTemporary=False)]"
      ]
     },
     "execution_count": 46,
     "metadata": {},
     "output_type": "execute_result"
    }
   ],
   "source": [
    "spark.catalog.listTables()"
   ]
  },
  {
   "cell_type": "markdown",
   "id": "04129eca-85b2-4765-8a34-a428f6748781",
   "metadata": {},
   "source": [
    "## We will start simple. We will fetch the Table and Decode in Batch\n",
    "> This allows us to ensure things are wired up correctly, and let's us have fun exploring the data"
   ]
  },
  {
   "cell_type": "code",
   "execution_count": 6,
   "id": "8189638a-418d-46da-a82a-c3eea82d597d",
   "metadata": {},
   "outputs": [],
   "source": [
    "dt_source_tin: DeltaTable = DeltaTable.forName(spark, delta_source_table)"
   ]
  },
  {
   "cell_type": "code",
   "execution_count": 53,
   "id": "791b933a-b4bd-408a-86c8-e5e10249efe3",
   "metadata": {},
   "outputs": [
    {
     "name": "stdout",
     "output_type": "stream",
     "text": [
      "+--------------------+--------------------+--------------------+----------+\n",
      "|                 key|               value|           timestamp|      date|\n",
      "+--------------------+--------------------+--------------------+----------+\n",
      "|[53 63 6F 74 74 2...|[0A 0C 08 F4 DA 9...|2024-06-11 06:23:...|2024-06-11|\n",
      "|[53 63 6F 74 74 2...|[0A 0C 08 F6 DA 9...|2024-06-11 06:23:...|2024-06-11|\n",
      "|[53 63 6F 74 74 2...|[0A 0C 08 F7 DA 9...|2024-06-11 06:23:...|2024-06-11|\n",
      "|[53 63 6F 74 74 2...|[0A 0C 08 F8 DA 9...|2024-06-11 06:23:...|2024-06-11|\n",
      "|[53 63 6F 74 74 2...|[0A 0C 08 F9 DA 9...|2024-06-11 06:23:...|2024-06-11|\n",
      "|[41 73 68 6F 6B 2...|[0A 0C 08 9A FE A...|2024-06-11 16:45:...|2024-06-11|\n",
      "|[53 63 6F 74 74 2...|[0A 0C 08 9F FE A...|2024-06-11 16:45:...|2024-06-11|\n",
      "|[53 63 6F 74 74 2...|[0A 0C 08 A1 FE A...|2024-06-11 16:45:...|2024-06-11|\n",
      "|[41 73 68 6F 6B 2...|[0A 0C 08 A2 FE A...|2024-06-11 16:45:...|2024-06-11|\n",
      "|[41 73 68 6F 6B 2...|[0A 0C 08 A4 FE A...|2024-06-11 16:45:...|2024-06-11|\n",
      "|[41 73 68 6F 6B 2...|[0A 0C 08 B0 FE A...|2024-06-11 16:45:...|2024-06-11|\n",
      "|[53 63 6F 74 74 2...|[0A 0B 08 B1 FE A...|2024-06-11 16:45:...|2024-06-11|\n",
      "|[41 73 68 6F 6B 2...|[0A 0C 08 B1 FE A...|2024-06-11 16:45:...|2024-06-11|\n",
      "|[53 63 6F 74 74 2...|[0A 0C 08 B2 FE A...|2024-06-11 16:45:...|2024-06-11|\n",
      "|[53 63 6F 74 74 2...|[0A 0B 08 B3 FE A...|2024-06-11 16:45:...|2024-06-11|\n",
      "|[41 73 68 6F 6B 2...|[0A 0C 08 B3 FE A...|2024-06-11 16:45:...|2024-06-11|\n",
      "|[41 73 68 6F 6B 2...|[0A 0C 08 B4 FE A...|2024-06-11 16:45:...|2024-06-11|\n",
      "|[53 63 6F 74 74 2...|[0A 0C 08 B5 FE A...|2024-06-11 16:45:...|2024-06-11|\n",
      "|[41 73 68 6F 6B 2...|[0A 0C 08 B6 FE A...|2024-06-11 16:45:...|2024-06-11|\n",
      "|[53 63 6F 74 74 2...|[0A 0B 08 B7 FE A...|2024-06-11 16:45:...|2024-06-11|\n",
      "+--------------------+--------------------+--------------------+----------+\n",
      "only showing top 20 rows\n",
      "\n"
     ]
    }
   ],
   "source": [
    "dt_source_tin.toDF().show()"
   ]
  },
  {
   "cell_type": "markdown",
   "id": "424c7c3c-2647-4a5d-8051-0795defe6e26",
   "metadata": {},
   "source": [
    "## Next. We need to load the Binary Protobuf Descriptor and Decode the Protobuf\n",
    "1. Using the `from_protobuf` method and the `binaryDescriptorSet` we will decode the `coffeeco.v1.Order` messages.\n",
    "2. Once we've decoded the `value:bytes` into `order:struct`, we can have fun with the baseline dataset"
   ]
  },
  {
   "cell_type": "code",
   "execution_count": 7,
   "id": "d23b8af0-9919-4782-9d9e-90c1350aa121",
   "metadata": {},
   "outputs": [],
   "source": [
    "coffeecov1_bin = read_binary_at(protobuf_descriptor_path)"
   ]
  },
  {
   "cell_type": "code",
   "execution_count": 8,
   "id": "f344e710-d2a4-49d6-9b3a-342d17bb9c04",
   "metadata": {},
   "outputs": [],
   "source": [
    "coffee_orders_df = (\n",
    "    dt_source_tin.toDF()\n",
    "    .select(\n",
    "        \"date\",\n",
    "        \"timestamp\",\n",
    "        from_protobuf(\n",
    "            data=col(\"value\"),\n",
    "            messageName=tin_protobuf_message_name,\n",
    "            options={\"mode\": \"FAILFAST\"},\n",
    "            binaryDescriptorSet=coffeecov1_bin\n",
    "        ).alias(\"order\"),\n",
    "    )\n",
    ")"
   ]
  },
  {
   "cell_type": "code",
   "execution_count": 24,
   "id": "d8a5b019-fc1b-41f6-a9cf-8190783b7205",
   "metadata": {},
   "outputs": [
    {
     "name": "stdout",
     "output_type": "stream",
     "text": [
      "root\n",
      " |-- date: date (nullable = true)\n",
      " |-- timestamp: timestamp (nullable = true)\n",
      " |-- order: struct (nullable = true)\n",
      " |    |-- order_created: timestamp (nullable = true)\n",
      " |    |-- purchased_at: struct (nullable = true)\n",
      " |    |    |-- store_id: string (nullable = true)\n",
      " |    |    |-- created: timestamp (nullable = true)\n",
      " |    |    |-- opened_on: timestamp (nullable = true)\n",
      " |    |    |-- closed_permanently_on: timestamp (nullable = true)\n",
      " |    |    |-- status: string (nullable = true)\n",
      " |    |-- customer: struct (nullable = true)\n",
      " |    |    |-- name: string (nullable = true)\n",
      " |    |    |-- uuid: string (nullable = true)\n",
      " |    |    |-- first_seen: timestamp (nullable = true)\n",
      " |    |    |-- customer_type: string (nullable = true)\n",
      " |    |    |-- loyalty_member_id: string (nullable = true)\n",
      " |    |-- items: array (nullable = true)\n",
      " |    |    |-- element: struct (containsNull = false)\n",
      " |    |    |    |-- coffee: struct (nullable = true)\n",
      " |    |    |    |    |-- coffee: struct (nullable = true)\n",
      " |    |    |    |    |    |-- name: string (nullable = true)\n",
      " |    |    |    |    |    |-- vendor: string (nullable = true)\n",
      " |    |    |    |    |    |-- roast: string (nullable = true)\n",
      " |    |    |    |    |    |-- flavor_profile: array (nullable = true)\n",
      " |    |    |    |    |    |    |-- element: string (containsNull = false)\n",
      " |    |    |    |    |-- size: string (nullable = true)\n",
      " |    |    |    |    |-- style: string (nullable = true)\n",
      " |    |-- total: struct (nullable = true)\n",
      " |    |    |-- currency: string (nullable = true)\n",
      " |    |    |-- units: long (nullable = true)\n",
      " |    |    |-- nanos: integer (nullable = true)\n",
      "\n"
     ]
    }
   ],
   "source": [
    "coffee_orders_df.printSchema()"
   ]
  },
  {
   "cell_type": "markdown",
   "id": "7d0246c8-90a8-415b-9155-427b218a02cd",
   "metadata": {},
   "source": [
    "## Take the Base Table (Tin) and Create a Useful Bronze Table\n",
    "> This table cherry-picks what it needs. Ignoring the rest"
   ]
  },
  {
   "cell_type": "code",
   "execution_count": 35,
   "id": "78c7dedc-1c85-4d41-8191-ff1d459fa769",
   "metadata": {},
   "outputs": [],
   "source": [
    "from pyspark.sql.functions import struct, col, concat_ws, lit\n",
    "\n",
    "df_transformed = (\n",
    "    coffee_orders_df\n",
    "    .select(\n",
    "        col(\"order.order_created\").alias(\"order_created\"),\n",
    "        col(\"order.customer.uuid\").alias(\"customer_uuid\"),\n",
    "        col(\"order.customer.customer_type\").alias(\"customer_type\"),\n",
    "        col(\"order.customer.loyalty_member_id\").alias(\"customer_loyalty\"),\n",
    "        col(\"order.items.coffee\").alias(\"coffee\"),\n",
    "        col(\"order.total\").alias(\"order_total\")\n",
    "    ).withColumn(\n",
    "        \"order_total\", \n",
    "        (concat_ws('.', col(\"order_total.units\"), col(\"order_total.nanos\"))).cast(\"double\"))\n",
    ")#.explain(\"COST\")"
   ]
  },
  {
   "cell_type": "code",
   "execution_count": 34,
   "id": "819e9b9b-c558-49cd-8596-949618155c7d",
   "metadata": {},
   "outputs": [
    {
     "name": "stdout",
     "output_type": "stream",
     "text": [
      "+--------------------+--------------------+--------------------+--------------------+--------------------+-----------+\n",
      "|       order_created|       customer_uuid|       customer_type|    customer_loyalty|              coffee|order_total|\n",
      "+--------------------+--------------------+--------------------+--------------------+--------------------+-----------+\n",
      "|2024-06-11 06:23:...|36366365-3638-393...|CUSTOMER_TYPE_MEMBER|5f02394e-aa12-43a...|[{{STREETLEVEL, C...|       4.75|\n",
      "|2024-06-11 06:23:...|36366365-3638-393...|CUSTOMER_TYPE_MEMBER|d9aedc4a-2474-4b6...|[{{ASTER, COFFEE_...|       7.75|\n",
      "|2024-06-11 06:23:...|36366365-3638-393...|CUSTOMER_TYPE_MEMBER|e1bbe192-1e57-4f2...|[{{SERMON, COFFEE...|      18.25|\n",
      "|2024-06-11 06:23:...|36366365-3638-393...|CUSTOMER_TYPE_MEMBER|74dd6cb6-4f20-4c5...|[{{STREETLEVEL, C...|       11.5|\n",
      "|2024-06-11 06:23:...|36366365-3638-393...|CUSTOMER_TYPE_MEMBER|01ae40b9-a561-410...|[{{ASTER, COFFEE_...|       25.0|\n",
      "|2024-06-11 16:45:...|64616633-3331-653...|CUSTOMER_TYPE_MEMBER|2d29202d-57e7-462...|[{{ASTER, COFFEE_...|       10.5|\n",
      "|2024-06-11 16:45:...|36366365-3638-393...|CUSTOMER_TYPE_MEMBER|fd753717-d5c3-40d...|[{{OMAR CALDERON,...|        9.5|\n",
      "|2024-06-11 16:45:...|36366365-3638-393...|CUSTOMER_TYPE_MEMBER|82517e88-ba84-49d...|[{{SERMON, COFFEE...|      30.75|\n",
      "|2024-06-11 16:45:...|64616633-3331-653...|CUSTOMER_TYPE_MEMBER|d30c2ffc-dec7-406...|[{{OMAR CALDERON,...|       20.0|\n",
      "|2024-06-11 16:45:...|64616633-3331-653...|CUSTOMER_TYPE_MEMBER|3e664cbb-3b18-46e...|[{{SERMON, COFFEE...|       20.0|\n",
      "|2024-06-11 16:45:...|64616633-3331-653...|CUSTOMER_TYPE_MEMBER|590bca18-a63b-4c7...|[{{SERMON, COFFEE...|      16.25|\n",
      "|2024-06-11 16:45:...|36366365-3638-393...|CUSTOMER_TYPE_MEMBER|795458ca-62d0-41d...|[{{VANCOUVER, COF...|       13.5|\n",
      "|2024-06-11 16:45:...|64616633-3331-653...|CUSTOMER_TYPE_MEMBER|1e9e8897-7665-41f...|[{{ASTER, COFFEE_...|      26.75|\n",
      "|2024-06-11 16:45:...|36366365-3638-393...|CUSTOMER_TYPE_MEMBER|da39169c-a088-4c2...|[{{OMAR CALDERON,...|      38.25|\n",
      "|2024-06-11 16:45:...|36366365-3638-393...|CUSTOMER_TYPE_MEMBER|6e23669e-7234-474...|[{{STREETLEVEL, C...|      21.75|\n",
      "|2024-06-11 16:45:...|64616633-3331-653...|CUSTOMER_TYPE_MEMBER|77993a15-5d4f-4c6...|[{{VANCOUVER, COF...|       6.75|\n",
      "|2024-06-11 16:45:...|64616633-3331-653...|CUSTOMER_TYPE_MEMBER|d5c28237-741f-4f1...|[{{VANCOUVER, COF...|      20.25|\n",
      "|2024-06-11 16:45:...|36366365-3638-393...|CUSTOMER_TYPE_MEMBER|45010d09-ffdf-4a6...|[{{VANCOUVER, COF...|      36.25|\n",
      "|2024-06-11 16:45:...|64616633-3331-653...|CUSTOMER_TYPE_MEMBER|8b06817d-608a-4f2...|[{{ASTER, COFFEE_...|      24.75|\n",
      "|2024-06-11 16:45:...|36366365-3638-393...|CUSTOMER_TYPE_MEMBER|a9076027-8823-4f8...|[{{SERMON, COFFEE...|       4.75|\n",
      "+--------------------+--------------------+--------------------+--------------------+--------------------+-----------+\n",
      "only showing top 20 rows\n",
      "\n"
     ]
    }
   ],
   "source": [
    "df_transformed.show()"
   ]
  },
  {
   "cell_type": "markdown",
   "id": "1aff1f40-ff82-45d0-a45c-9b9944b012d3",
   "metadata": {},
   "source": [
    "## Next. We Can Speed things up with Structured Streaming\n",
    "> Using what we learned before. We can now write our nicely transformed data into our 'bronze' Table"
   ]
  },
  {
   "cell_type": "code",
   "execution_count": null,
   "id": "d43a77f5-9c75-40a1-83d9-54583623557d",
   "metadata": {},
   "outputs": [],
   "source": [
    "from delta.tables import DeltaTable\n",
    "from pyspark.sql.types import TimestampType\n",
    "\n",
    "delta_table_name = \"coffee_v1_orders_base\"\n",
    "\n",
    "spark.conf.set(\"spark.databricks.delta.constraints.allowUnenforcedNotNull.enabled\", \"true\")\n",
    "\n",
    "dt: DeltaTable = (\n",
    "    DeltaTable.createIfNotExists(spark)\n",
    "    .tableName(delta_table_name)\n",
    "    .addColumns(df_transformed.schema)\n",
    "    .addColumn(\"date\", DateType(), generatedAlwaysAs=\"CAST(order_created AS DATE)\")\n",
    "    .comment(\"lineage:default.coffeeco_v1_orders_tin:coffee_orders_base\")\n",
    "    .clusterBy(\"date\")\n",
    "    .property(\"description\", \"This table stores our CoffeeCo Order History\")\\\n",
    "    .property(\"delta.logRetentionDuration\", \"interval 30 days\")\n",
    "    .property(\"delta.deletedFileRetentionDuration\", \"interval 7 days\")\n",
    "    .property(\"delta.dataSkippingNumIndexedCols\", \"7\")\n",
    "    .property(\"delta.checkpoint.writeStatsAsStruct\", \"true\")\n",
    "    .property(\"delta.checkpoint.writeStatsAsJson\", \"false\")\n",
    "    .property(\"delta.checkpointPolicy\", \"v2\")\n",
    "    .property(\"delta.enableDeletionVectors\", \"true\")\n",
    "    .execute()\n",
    ")"
   ]
  },
  {
   "cell_type": "code",
   "execution_count": 55,
   "id": "872fe958-a014-4e4d-96a9-1980b690edbf",
   "metadata": {},
   "outputs": [
    {
     "name": "stdout",
     "output_type": "stream",
     "text": [
      "+-------+\n",
      "|version|\n",
      "+-------+\n",
      "|      2|\n",
      "|      1|\n",
      "|      0|\n",
      "+-------+\n",
      "\n"
     ]
    }
   ],
   "source": [
    "dt.history().select(\"version\").show()"
   ]
  },
  {
   "cell_type": "code",
   "execution_count": null,
   "id": "d5ee01ab-6356-4029-b633-84d26071f003",
   "metadata": {},
   "outputs": [],
   "source": [
    "dt.restoreToVersion(0)"
   ]
  },
  {
   "cell_type": "code",
   "execution_count": null,
   "id": "6cc12fc8-f0ae-4844-a52a-466f1baf4cb1",
   "metadata": {},
   "outputs": [],
   "source": [
    "streamingQuery = (\n",
    "    spark.readStream\n",
    "    .format(\"delta\")\n",
    "    .option(\"withEventTimeOrder\", \"true\")\n",
    "    .option(\"ignoreChanges\", \"true\")\n",
    "    .table(delta_source_table)\n",
    "    .select(\n",
    "        \"date\",\n",
    "        \"timestamp\",\n",
    "        from_protobuf(\n",
    "            data=col(\"value\"),\n",
    "            messageName=tin_protobuf_message_name,\n",
    "            options={\"mode\": \"FAILFAST\"},\n",
    "            binaryDescriptorSet=coffeecov1_bin\n",
    "        ).alias(\"order\"),\n",
    "    )\n",
    "    .select(\n",
    "        col(\"order.order_created\").alias(\"order_created\"),\n",
    "        col(\"order.customer.uuid\").alias(\"customer_uuid\"),\n",
    "        col(\"order.customer.customer_type\").alias(\"customer_type\"),\n",
    "        col(\"order.customer.loyalty_member_id\").alias(\"customer_loyalty\"),\n",
    "        col(\"order.items.coffee\").alias(\"coffee\"),\n",
    "        col(\"order.total\").alias(\"order_total\")\n",
    "    ).withColumn(\n",
    "        \"order_total\", \n",
    "        (concat_ws('.', col(\"order_total.units\"), col(\"order_total.nanos\"))).cast(\"double\")\n",
    "    )\n",
    "    .writeStream\n",
    "    .format(\"delta\")\n",
    "    .outputMode(\"append\")\n",
    "    .option(\"checkpointLocation\", checkpoint_path)\n",
    "    .trigger(availableNow=True)\n",
    "    .toTable(delta_table_name)\n",
    ")"
   ]
  },
  {
   "cell_type": "code",
   "execution_count": 51,
   "id": "5dab2d9c-59c2-4aab-a5a7-39b236533aa1",
   "metadata": {},
   "outputs": [
    {
     "data": {
      "text/plain": [
       "{'message': 'Stopped', 'isDataAvailable': False, 'isTriggerActive': False}"
      ]
     },
     "execution_count": 51,
     "metadata": {},
     "output_type": "execute_result"
    }
   ],
   "source": [
    "streamingQuery.status"
   ]
  },
  {
   "cell_type": "code",
   "execution_count": 60,
   "id": "2f425f1d-f359-4838-bbfb-389de8f2b405",
   "metadata": {},
   "outputs": [],
   "source": [
    "bronze_from_tin = DeltaTable.forName(spark, delta_table_name)"
   ]
  },
  {
   "cell_type": "code",
   "execution_count": 61,
   "id": "c5d61e02-b7c5-4a9c-abbe-31d08081b28a",
   "metadata": {},
   "outputs": [
    {
     "name": "stdout",
     "output_type": "stream",
     "text": [
      "+--------------------+--------------------+--------------------+--------------------+--------------------+-----------+----------+\n",
      "|       order_created|       customer_uuid|       customer_type|    customer_loyalty|              coffee|order_total|      date|\n",
      "+--------------------+--------------------+--------------------+--------------------+--------------------+-----------+----------+\n",
      "|2024-06-11 06:23:...|36366365-3638-393...|CUSTOMER_TYPE_MEMBER|5f02394e-aa12-43a...|[{{STREETLEVEL, C...|       4.75|2024-06-11|\n",
      "|2024-06-11 06:23:...|36366365-3638-393...|CUSTOMER_TYPE_MEMBER|d9aedc4a-2474-4b6...|[{{ASTER, COFFEE_...|       7.75|2024-06-11|\n",
      "|2024-06-11 06:23:...|36366365-3638-393...|CUSTOMER_TYPE_MEMBER|e1bbe192-1e57-4f2...|[{{SERMON, COFFEE...|      18.25|2024-06-11|\n",
      "|2024-06-11 06:23:...|36366365-3638-393...|CUSTOMER_TYPE_MEMBER|74dd6cb6-4f20-4c5...|[{{STREETLEVEL, C...|       11.5|2024-06-11|\n",
      "|2024-06-11 06:23:...|36366365-3638-393...|CUSTOMER_TYPE_MEMBER|01ae40b9-a561-410...|[{{ASTER, COFFEE_...|       25.0|2024-06-11|\n",
      "|2024-06-11 16:45:...|64616633-3331-653...|CUSTOMER_TYPE_MEMBER|2d29202d-57e7-462...|[{{ASTER, COFFEE_...|       10.5|2024-06-11|\n",
      "|2024-06-11 16:45:...|36366365-3638-393...|CUSTOMER_TYPE_MEMBER|fd753717-d5c3-40d...|[{{OMAR CALDERON,...|        9.5|2024-06-11|\n",
      "|2024-06-11 16:45:...|36366365-3638-393...|CUSTOMER_TYPE_MEMBER|82517e88-ba84-49d...|[{{SERMON, COFFEE...|      30.75|2024-06-11|\n",
      "|2024-06-11 16:45:...|64616633-3331-653...|CUSTOMER_TYPE_MEMBER|d30c2ffc-dec7-406...|[{{OMAR CALDERON,...|       20.0|2024-06-11|\n",
      "|2024-06-11 16:45:...|64616633-3331-653...|CUSTOMER_TYPE_MEMBER|3e664cbb-3b18-46e...|[{{SERMON, COFFEE...|       20.0|2024-06-11|\n",
      "|2024-06-11 16:45:...|64616633-3331-653...|CUSTOMER_TYPE_MEMBER|590bca18-a63b-4c7...|[{{SERMON, COFFEE...|      16.25|2024-06-11|\n",
      "|2024-06-11 16:45:...|36366365-3638-393...|CUSTOMER_TYPE_MEMBER|795458ca-62d0-41d...|[{{VANCOUVER, COF...|       13.5|2024-06-11|\n",
      "|2024-06-11 16:45:...|64616633-3331-653...|CUSTOMER_TYPE_MEMBER|1e9e8897-7665-41f...|[{{ASTER, COFFEE_...|      26.75|2024-06-11|\n",
      "|2024-06-11 16:45:...|36366365-3638-393...|CUSTOMER_TYPE_MEMBER|da39169c-a088-4c2...|[{{OMAR CALDERON,...|      38.25|2024-06-11|\n",
      "|2024-06-11 16:45:...|36366365-3638-393...|CUSTOMER_TYPE_MEMBER|6e23669e-7234-474...|[{{STREETLEVEL, C...|      21.75|2024-06-11|\n",
      "|2024-06-11 16:45:...|64616633-3331-653...|CUSTOMER_TYPE_MEMBER|77993a15-5d4f-4c6...|[{{VANCOUVER, COF...|       6.75|2024-06-11|\n",
      "|2024-06-11 16:45:...|64616633-3331-653...|CUSTOMER_TYPE_MEMBER|d5c28237-741f-4f1...|[{{VANCOUVER, COF...|      20.25|2024-06-11|\n",
      "|2024-06-11 16:45:...|36366365-3638-393...|CUSTOMER_TYPE_MEMBER|45010d09-ffdf-4a6...|[{{VANCOUVER, COF...|      36.25|2024-06-11|\n",
      "|2024-06-11 16:45:...|64616633-3331-653...|CUSTOMER_TYPE_MEMBER|8b06817d-608a-4f2...|[{{ASTER, COFFEE_...|      24.75|2024-06-11|\n",
      "|2024-06-11 16:45:...|36366365-3638-393...|CUSTOMER_TYPE_MEMBER|a9076027-8823-4f8...|[{{SERMON, COFFEE...|       4.75|2024-06-11|\n",
      "+--------------------+--------------------+--------------------+--------------------+--------------------+-----------+----------+\n",
      "only showing top 20 rows\n",
      "\n"
     ]
    }
   ],
   "source": [
    "bronze_from_tin.toDF().show()"
   ]
  },
  {
   "cell_type": "code",
   "execution_count": null,
   "id": "3afa1dd4-6f60-4448-8760-5c1bab521239",
   "metadata": {},
   "outputs": [],
   "source": []
  }
 ],
 "metadata": {
  "kernelspec": {
   "display_name": "Python 3 (ipykernel)",
   "language": "python",
   "name": "python3"
  },
  "language_info": {
   "codemirror_mode": {
    "name": "ipython",
    "version": 3
   },
   "file_extension": ".py",
   "mimetype": "text/x-python",
   "name": "python",
   "nbconvert_exporter": "python",
   "pygments_lexer": "ipython3",
   "version": "3.10.12"
  }
 },
 "nbformat": 4,
 "nbformat_minor": 5
}
