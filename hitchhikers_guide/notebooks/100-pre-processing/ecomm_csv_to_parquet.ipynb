{
 "cells": [
  {
   "cell_type": "code",
   "execution_count": 5,
   "id": "d2b56ce6-25e2-4c1d-a28e-8dcdbfb8e0f2",
   "metadata": {
    "tags": []
   },
   "outputs": [],
   "source": [
    "# run first. then have fun.\n",
    "from pyspark.sql.functions import col, to_date, to_timestamp\n",
    "from pyspark.sql.types import StructType, StructField, StringType, IntegerType, LongType, FloatType\n"
   ]
  },
  {
   "attachments": {},
   "cell_type": "markdown",
   "id": "20125793-7bf3-41b4-9595-07f2dfa4b328",
   "metadata": {
    "tags": []
   },
   "source": [
    "## Generate the Schema (StructType) of the CSV Data (ecomm_behavior_data)"
   ]
  },
  {
   "cell_type": "code",
   "execution_count": 6,
   "id": "561bfd71-47e5-4d11-86a0-43bf806b62f3",
   "metadata": {
    "tags": []
   },
   "outputs": [],
   "source": [
    "from pyspark.sql.types import StructType, StructField, StringType, IntegerType, LongType, FloatType\n",
    "schema = (StructType([\n",
    "    StructField(\"event_time\", StringType(), False),\n",
    "    StructField(\"event_type\", StringType(), False),\n",
    "    StructField(\"product_id\", IntegerType(), False),\n",
    "    StructField(\"category_id\", LongType(), False),\n",
    "    StructField(\"category_code\", StringType(), False),\n",
    "    StructField(\"brand\", StringType(), False),\n",
    "    StructField(\"price\", FloatType(), False),\n",
    "    StructField(\"user_id\", IntegerType(), False),\n",
    "    StructField(\"user_session\", StringType(), False),\n",
    "]))"
   ]
  },
  {
   "attachments": {},
   "cell_type": "markdown",
   "id": "d08b64c4-2143-4a23-b65d-7aec7df072d2",
   "metadata": {},
   "source": [
    "## Load the Dataset\n",
    "> Note: The github repo contains the `-sm.csv` data sampled from [Kaggle: Ecommerce Behavior Data Multi Category Store](https://www.kaggle.com/datasets/mkechinov/ecommerce-behavior-data-from-multi-category-store). To follow along with the complete dataset, just download it and drop the `2019-Oct.csv, 2019-Nov.csv` files into the `datasets` directory in the project.\n",
    "> `.load(f\"{dataset_dir}/{datasets[0]}\")` will load the month of October. Bump to `datasets[1]` to load the month of November."
   ]
  },
  {
   "cell_type": "code",
   "execution_count": 7,
   "id": "32e09baa-3edc-4a84-899f-e2b5b46e2c76",
   "metadata": {
    "tags": []
   },
   "outputs": [],
   "source": [
    "dataset_dir = '/opt/spark/work-dir/hitchhikers_guide/datasets/ecomm_behavior_data'\n",
    "# note: if you download the full dataset from https://www.kaggle.com/datasets/mkechinov/ecommerce-behavior-data-from-multi-category-store,\n",
    "# just use the following and comment out the `-sm.csv` datasets.\n",
    "datasets = ['2019-Oct.csv','2019-Nov.csv']\n",
    "#datasets = ['2019-Oct-sm.csv','2019-Nov-sm.csv']"
   ]
  },
  {
   "cell_type": "code",
   "execution_count": 19,
   "id": "76790fab-05d2-41b0-856c-f289205be2ce",
   "metadata": {
    "tags": []
   },
   "outputs": [],
   "source": [
    "# read and process initial dataset\n",
    "# \n",
    "ecomm_df = (\n",
    "    spark.read.format(\"csv\")\n",
    "    .option(\"header\", True)\n",
    "    .schema(schema)\n",
    "    .load(f\"{dataset_dir}/{datasets[0]}\")\n",
    "    #.load(f\"{dataset_dir}/{datasets[1]}\")\n",
    ")"
   ]
  },
  {
   "cell_type": "code",
   "execution_count": 20,
   "id": "f1f2828a-8418-4277-84f1-7f272e9b3fd5",
   "metadata": {
    "tags": []
   },
   "outputs": [
    {
     "name": "stdout",
     "output_type": "stream",
     "text": [
      "+-----------------------+----------+----------+-------------------+-----------------------------------+--------+-------+---------+------------------------------------+\n",
      "|event_time             |event_type|product_id|category_id        |category_code                      |brand   |price  |user_id  |user_session                        |\n",
      "+-----------------------+----------+----------+-------------------+-----------------------------------+--------+-------+---------+------------------------------------+\n",
      "|2019-10-01 00:00:00 UTC|view      |44600062  |2103807459595387724|NULL                               |shiseido|35.79  |541312140|72d76fde-8bb3-4e00-8c23-a032dfed738c|\n",
      "|2019-10-01 00:00:00 UTC|view      |3900821   |2053013552326770905|appliances.environment.water_heater|aqua    |33.2   |554748717|9333dfbd-b87a-4708-9857-6336556b0fcc|\n",
      "|2019-10-01 00:00:01 UTC|view      |17200506  |2053013559792632471|furniture.living_room.sofa         |NULL    |543.1  |519107250|566511c2-e2e3-422b-b695-cf8e6e792ca8|\n",
      "|2019-10-01 00:00:01 UTC|view      |1307067   |2053013558920217191|computers.notebook                 |lenovo  |251.74 |550050854|7c90fc70-0e80-4590-96f3-13c02c18c713|\n",
      "|2019-10-01 00:00:04 UTC|view      |1004237   |2053013555631882655|electronics.smartphone             |apple   |1081.98|535871217|c6bd7419-2748-4c56-95b4-8cec9ff8b80d|\n",
      "|2019-10-01 00:00:05 UTC|view      |1480613   |2053013561092866779|computers.desktop                  |pulser  |908.62 |512742880|0d0d91c2-c9c2-4e81-90a5-86594dec0db9|\n",
      "|2019-10-01 00:00:08 UTC|view      |17300353  |2053013553853497655|NULL                               |creed   |380.96 |555447699|4fe811e9-91de-46da-90c3-bbd87ed3a65d|\n",
      "|2019-10-01 00:00:08 UTC|view      |31500053  |2053013558031024687|NULL                               |luminarc|41.16  |550978835|6280d577-25c8-4147-99a7-abc6048498d6|\n",
      "|2019-10-01 00:00:10 UTC|view      |28719074  |2053013565480109009|apparel.shoes.keds                 |baden   |102.71 |520571932|ac1cd4e5-a3ce-4224-a2d7-ff660a105880|\n",
      "|2019-10-01 00:00:11 UTC|view      |1004545   |2053013555631882655|electronics.smartphone             |huawei  |566.01 |537918940|406c46ed-90a4-4787-a43b-59a410c1a5fb|\n",
      "|2019-10-01 00:00:11 UTC|view      |2900536   |2053013554776244595|appliances.kitchen.microwave       |elenberg|51.46  |555158050|b5bdd0b3-4ca2-4c55-939e-9ce44bb50abd|\n",
      "|2019-10-01 00:00:11 UTC|view      |1005011   |2053013555631882655|electronics.smartphone             |samsung |900.64 |530282093|50a293fb-5940-41b2-baf3-17af0e812101|\n",
      "|2019-10-01 00:00:13 UTC|view      |3900746   |2053013552326770905|appliances.environment.water_heater|haier   |102.38 |555444559|98b88fa0-d8fa-4b9d-8a71-3dd403afab85|\n",
      "|2019-10-01 00:00:15 UTC|view      |44600062  |2103807459595387724|NULL                               |shiseido|35.79  |541312140|72d76fde-8bb3-4e00-8c23-a032dfed738c|\n",
      "|2019-10-01 00:00:16 UTC|view      |13500240  |2053013557099889147|furniture.bedroom.bed              |brw     |93.18  |555446365|7f0062d8-ead0-4e0a-96f6-43a0b79a2fc4|\n",
      "|2019-10-01 00:00:17 UTC|view      |23100006  |2053013561638126333|NULL                               |NULL    |357.79 |513642368|17566c27-0a8f-4506-9f30-c6a2ccbf583b|\n",
      "|2019-10-01 00:00:18 UTC|view      |1801995   |2053013554415534427|electronics.video.tv               |haier   |193.03 |537192226|e3151795-c355-4efa-acf6-e1fe1bebeee5|\n",
      "|2019-10-01 00:00:18 UTC|view      |10900029  |2053013555069845885|appliances.kitchen.mixer           |bosch   |58.95  |519528062|901b9e3c-3f8f-4147-a442-c25d5c5ed332|\n",
      "|2019-10-01 00:00:19 UTC|view      |1306631   |2053013558920217191|computers.notebook                 |hp      |580.89 |550050854|7c90fc70-0e80-4590-96f3-13c02c18c713|\n",
      "|2019-10-01 00:00:19 UTC|view      |1005135   |2053013555631882655|electronics.smartphone             |apple   |1747.79|535871217|c6bd7419-2748-4c56-95b4-8cec9ff8b80d|\n",
      "+-----------------------+----------+----------+-------------------+-----------------------------------+--------+-------+---------+------------------------------------+\n",
      "only showing top 20 rows\n",
      "\n"
     ]
    }
   ],
   "source": [
    "ecomm_df.show(20, truncate=False)"
   ]
  },
  {
   "cell_type": "code",
   "execution_count": 15,
   "id": "cd466561-36fc-4d4a-8448-3da5c0bdb326",
   "metadata": {
    "tags": []
   },
   "outputs": [
    {
     "name": "stderr",
     "output_type": "stream",
     "text": [
      "                                                                                \r"
     ]
    },
    {
     "data": {
      "text/plain": [
       "67501979"
      ]
     },
     "execution_count": 15,
     "metadata": {},
     "output_type": "execute_result"
    }
   ],
   "source": [
    "ecomm_df.count()"
   ]
  },
  {
   "attachments": {},
   "cell_type": "markdown",
   "id": "22874dd2-17a5-4a1d-9a67-8467878d3749",
   "metadata": {},
   "source": [
    "## Convert from CSV to Partitioned Parquet\n",
    "While there is a simplicity to using CSV. It can be a problematic format to work with. Luckily, the ecomm dataset has already been preprocessed (cleaned).\n",
    "\n",
    "**What we'll achieve**\n",
    "1. We will do some minor post-processing, converting the `event_time` from a StringType to a DateTimeType. To do that we will be using the `to_timestamp` function. You'll notice that we need to `format` the timestamp conversion given we are parsing a string and need to reflect the format. `2019-10-01 00:00:00 UTC` is referenced using `yyyy-MM-dd HH:mm:ss z`.\n",
    "2. Given the size of the data (~9GB for Nov, ~4GB for Oct) it also makes sense to partition by day (to speed up local processing). On that note, we also need to create a new column called `event_date` in order to store the partition information."
   ]
  },
  {
   "cell_type": "code",
   "execution_count": 16,
   "id": "18310bba-5328-41b4-a15f-6e4766944bd7",
   "metadata": {
    "tags": []
   },
   "outputs": [
    {
     "name": "stderr",
     "output_type": "stream",
     "text": [
      "                                                                                \r"
     ]
    }
   ],
   "source": [
    "from pyspark.sql.functions import to_date, to_timestamp\n",
    "spark.conf.set(\"spark.sql.parquet.compression.codec\", \"zstd\")\n",
    "\n",
    "sink_dir = 'sm' if datasets[1].endswith('-sm.csv') else 'lg'\n",
    "\n",
    "(ecomm_df\n",
    "   .withColumn(\"event_time\", to_timestamp(col(\"event_time\"), \"yyyy-MM-dd HH:mm:ss z\"))\n",
    "   .withColumn(\"event_date\", to_date(col(\"event_time\")))\n",
    "   .write\n",
    "   .format(\"parquet\")\n",
    "   .partitionBy(\"event_date\")\n",
    "   .mode(\"append\")\n",
    "   .save(f\"{dataset_dir}/parquet/{sink_dir}\")\n",
    ")"
   ]
  },
  {
   "attachments": {},
   "cell_type": "markdown",
   "id": "caf57ea0-b232-4013-bfb1-8f90841fece0",
   "metadata": {},
   "source": [
    "## Read Back our Parquet by Specific Date\n",
    "> Note: Now that we have our schema (StructType) set, this will be encoded into the Parquet data. This simplifies reading back from our new parquet location (as long as we don't screw up or modify the schema since parquet doesn't have any notion of Schema Enforcement. This is a plus of working with Delta Lake, which we'll see in the rest of the Hitchhiker's Guide."
   ]
  },
  {
   "cell_type": "code",
   "execution_count": 18,
   "id": "546e9fea-7619-4008-b71f-0ad7a14779c3",
   "metadata": {
    "tags": []
   },
   "outputs": [
    {
     "name": "stdout",
     "output_type": "stream",
     "text": [
      "+-------------------+----------+----------+-------------------+--------------------+-------+------+---------+--------------------+----------+\n",
      "|         event_time|event_type|product_id|        category_id|       category_code|  brand| price|  user_id|        user_session|event_date|\n",
      "+-------------------+----------+----------+-------------------+--------------------+-------+------+---------+--------------------+----------+\n",
      "|2019-11-01 00:00:00|      view|   1003461|2053013555631882655|electronics.smart...| xiaomi|489.07|520088904|4d3b30da-a5e4-49d...|2019-11-01|\n",
      "|2019-11-01 09:37:02|      view|   3701134|2053013565983425517|appliances.enviro...|  bosch|105.51|520212039|7af7952f-db32-469...|2019-11-01|\n",
      "|2019-11-01 00:00:00|      view|   5000088|2053013566100866035|appliances.sewing...| janome|293.65|530496790|8e5f4f83-366c-4f7...|2019-11-01|\n",
      "|2019-11-01 09:37:02|      view|  42300036|2095518921321874323|furniture.living_...|   NULL|155.47|514820001|b71219af-4ec3-4c3...|2019-11-01|\n",
      "|2019-11-01 00:00:01|      view|  17302664|2053013553853497655|                NULL|  creed| 28.31|561587266|755422e7-9040-477...|2019-11-01|\n",
      "|2019-11-01 09:37:02|      view|   1004209|2053013555631882655|electronics.smart...|samsung| 88.28|566396875|2d20e30d-ef55-4fe...|2019-11-01|\n",
      "|2019-11-01 00:00:01|      view|   3601530|2053013563810775923|appliances.kitche...|     lg|712.87|518085591|3bfb58cd-7892-48c...|2019-11-01|\n",
      "|2019-11-01 09:37:02|      view|  17500503|2053013558752445019|                NULL| lumene| 11.58|566398735|1daa36ef-0931-413...|2019-11-01|\n",
      "|2019-11-01 00:00:01|      view|   1004775|2053013555631882655|electronics.smart...| xiaomi|183.27|558856683|313628f1-68b8-460...|2019-11-01|\n",
      "|2019-11-01 09:37:02|      view|  45300028|2106075662325383725|          kids.swing| pituso| 89.71|529490662|63260bdd-3862-4b0...|2019-11-01|\n",
      "+-------------------+----------+----------+-------------------+--------------------+-------+------+---------+--------------------+----------+\n",
      "only showing top 10 rows\n",
      "\n"
     ]
    }
   ],
   "source": [
    "## Run a gutcheck on one of the days. See how things work. Probably pretty fast.\n",
    "# if you've imported the `lg` data - switch \n",
    "\n",
    "#source_dir = 'sm' if datasets[0].endswith('-sm.csv') else 'lg'\n",
    "source_dir = 'sm' if datasets[1].endswith('-sm.csv') else 'lg'\n",
    "(spark.read\n",
    " .format(\"parquet\")\n",
    " .load(f\"{dataset_dir}/parquet/{source_dir}/\")\n",
    " #.where(col(\"event_date\").eqNullSafe(\"2019-10-01\"))\n",
    " .where(col(\"event_date\").eqNullSafe(\"2019-11-01\"))\n",
    " .show(10)\n",
    ")"
   ]
  },
  {
   "attachments": {},
   "cell_type": "markdown",
   "id": "f67e89ce-46e4-453d-9233-1dcb10e189d4",
   "metadata": {},
   "source": [
    "## Where to go Next?\n",
    "> This notebook only exists to help read, post-process, and write partitioned data from the ecomm dataset. We will be using the `parquet` data for the actual hitchhiker's guide. \n",
    "\n",
    "Now that we've learned how to read and write our csv data, it is time to actually tackle problems using Delta Lake. If you are new to using Delta Lake, then it is easiest to head over to [First Steps](../101-first-steps/README.md) to learn how to create and modify Delta Lake tables (with the intention of going from zero-to-hero)."
   ]
  }
 ],
 "metadata": {
  "kernelspec": {
   "display_name": "Python 3 (ipykernel)",
   "language": "python",
   "name": "python3"
  },
  "language_info": {
   "codemirror_mode": {
    "name": "ipython",
    "version": 3
   },
   "file_extension": ".py",
   "mimetype": "text/x-python",
   "name": "python",
   "nbconvert_exporter": "python",
   "pygments_lexer": "ipython3",
   "version": "3.8.10"
  }
 },
 "nbformat": 4,
 "nbformat_minor": 5
}
