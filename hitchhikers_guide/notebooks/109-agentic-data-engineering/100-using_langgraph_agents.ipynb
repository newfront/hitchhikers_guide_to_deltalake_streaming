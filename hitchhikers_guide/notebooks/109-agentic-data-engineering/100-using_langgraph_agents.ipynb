{
 "cells": [
  {
   "cell_type": "code",
   "execution_count": 1,
   "id": "17823190-fc85-4bea-a508-82ad5ec8c103",
   "metadata": {
    "ExecuteTime": {
     "end_time": "2025-06-09T07:02:43.538870Z",
     "start_time": "2025-06-09T07:02:42.815383Z"
    }
   },
   "outputs": [
    {
     "name": "stdout",
     "output_type": "stream",
     "text": [
      "Note: you may need to restart the kernel to use updated packages.\n"
     ]
    }
   ],
   "source": [
    "pip install -qU \"databricks-sdk\" \"langchain-core\" \"langgraph>0.3\""
   ]
  },
  {
   "cell_type": "code",
   "execution_count": null,
   "id": "00d925cb-c464-4d6b-b9e9-198ee7d61895",
   "metadata": {},
   "outputs": [],
   "source": [
    "import os\n",
    "\n",
    "# trick the kernel into restarting\n",
    "\n",
    "os._exit(00)"
   ]
  },
  {
   "cell_type": "markdown",
   "id": "30f57793-f56f-4f66-a794-061debfc80a1",
   "metadata": {},
   "source": [
    "## Install the Langchain Foundational Model Provider"
   ]
  },
  {
   "cell_type": "code",
   "execution_count": 1,
   "id": "6deeeb95-4a97-4863-9b4c-565be834c96f",
   "metadata": {},
   "outputs": [
    {
     "name": "stdout",
     "output_type": "stream",
     "text": [
      "Note: you may need to restart the kernel to use updated packages.\n"
     ]
    }
   ],
   "source": [
    "pip install -qU \"langchain[anthropic]\""
   ]
  },
  {
   "cell_type": "code",
   "execution_count": 2,
   "id": "06d4dc23-50cb-4cde-8021-f16962697b29",
   "metadata": {},
   "outputs": [],
   "source": [
    "import os\n",
    "import getpass"
   ]
  },
  {
   "cell_type": "code",
   "execution_count": 3,
   "id": "7cea2e0c-a007-4828-86a3-a6bdcfaad38e",
   "metadata": {},
   "outputs": [
    {
     "name": "stdin",
     "output_type": "stream",
     "text": [
      " ········\n"
     ]
    }
   ],
   "source": [
    "# set the environment variables\n",
    "os.environ['LANGSMITH_TRACING'] = \"true\"\n",
    "os.environ['LANGSMITH_API_KEY'] = getpass.getpass()"
   ]
  },
  {
   "cell_type": "code",
   "execution_count": null,
   "id": "1239505e-76df-4965-81c4-20c4e31ee6d6",
   "metadata": {},
   "outputs": [],
   "source": [
    "#os.environ.get('LANGSMITH_TRACING')\n",
    "#os.environ.get('LANGSMITH_API_KEY')"
   ]
  },
  {
   "cell_type": "markdown",
   "id": "9b6943b3-0819-42ae-ac16-6fbb0dc2a8ac",
   "metadata": {},
   "source": [
    "## Provide Bindings to the Unity Catalog API\n",
    "> The following examples utilize the official databricks sdk and the non-OSS Unity Catalog (UC)\n",
    "> The catalog, schema, and table apis can be mostly used interchangably. You will just have more metadata to access using the official Databricks UC."
   ]
  },
  {
   "cell_type": "code",
   "execution_count": 4,
   "id": "dab8536f-90d8-4efa-a706-3f284dfb5ccb",
   "metadata": {},
   "outputs": [
    {
     "name": "stdin",
     "output_type": "stream",
     "text": [
      " ········\n"
     ]
    }
   ],
   "source": [
    "# this is the full host: https://{workspace-name}.cloud.databricks.com\n",
    "os.environ['DATABRICKS_HOST'] = getpass.getpass()"
   ]
  },
  {
   "cell_type": "code",
   "execution_count": null,
   "id": "e2734e0e-e9b8-42ae-ad7e-5dda2207d8c5",
   "metadata": {},
   "outputs": [],
   "source": [
    "#os.environ.get('DATABRICKS_HOST')"
   ]
  },
  {
   "cell_type": "code",
   "execution_count": 6,
   "id": "f1ef522f-79e7-4c75-b32a-c93b2ce73e60",
   "metadata": {},
   "outputs": [
    {
     "name": "stdin",
     "output_type": "stream",
     "text": [
      " ········\n"
     ]
    }
   ],
   "source": [
    "os.environ['DATABRICKS_LLM_ENDPOINT'] = 'databricks-llama-4-maverick'\n",
    "os.environ['DATABRICKS_TOKEN'] = getpass.getpass()"
   ]
  },
  {
   "cell_type": "markdown",
   "id": "bfb90cd4-9302-49e0-80c1-b1ea921a856d",
   "metadata": {},
   "source": [
    "## Connect to the Databrick's Workspace Client"
   ]
  },
  {
   "cell_type": "code",
   "execution_count": 8,
   "id": "d3547d0e-3d6a-4c4b-bb9a-4268e64a1e2d",
   "metadata": {},
   "outputs": [],
   "source": [
    "from databricks.sdk import WorkspaceClient\n",
    "\n",
    "host = os.environ.get('DATABRICKS_HOST')\n",
    "token = os.environ.get('DATABRICKS_TOKEN')\n",
    "\n",
    "workspace_client = WorkspaceClient(host=host, token=token)"
   ]
  },
  {
   "cell_type": "code",
   "execution_count": null,
   "id": "c3d0d54c-656b-4b1e-b9fe-81e004cef8f0",
   "metadata": {},
   "outputs": [],
   "source": [
    "# Check that you can connect and that you are bound to the right groups to view metadata and execute \n",
    "\n",
    "# workspace_client.current_user.me()"
   ]
  },
  {
   "cell_type": "markdown",
   "id": "ea108753-ddc2-4fe7-ab46-ef7df504a19b",
   "metadata": {},
   "source": [
    "## Provide your Anthropic API Key and Environment Variables"
   ]
  },
  {
   "cell_type": "code",
   "execution_count": 10,
   "id": "2bd1cb7b-2dd8-40ac-8493-71d7a4461338",
   "metadata": {},
   "outputs": [
    {
     "name": "stdin",
     "output_type": "stream",
     "text": [
      "Enter API Key for Anthropic:  ········\n"
     ]
    }
   ],
   "source": [
    "if not os.environ.get('ANTHROPIC_API_KEY'):\n",
    "    os.environ['ANTHROPIC_API_KEY'] = getpass.getpass(\"Enter API Key for Anthropic: \")"
   ]
  },
  {
   "cell_type": "markdown",
   "id": "c9376d6b-fe81-427f-9b78-304091c22f19",
   "metadata": {},
   "source": [
    "## Finally, We're Ready to Rock and Roll. "
   ]
  },
  {
   "cell_type": "code",
   "execution_count": 11,
   "id": "4d752370-e8a4-443e-8990-d0ee7cccb629",
   "metadata": {},
   "outputs": [],
   "source": [
    "# let's get our imports out of the way\n",
    "from langchain_anthropic import ChatAnthropic\n",
    "from typing import Sequence, Annotated, List, Dict, Optional\n",
    "from langgraph.checkpoint.memory import MemorySaver\n",
    "from langgraph.graph import START, MessagesState, StateGraph\n",
    "from langchain_core.prompts import ChatPromptTemplate, MessagesPlaceholder\n",
    "\n",
    "from langchain_core.messages import BaseMessage, SystemMessage, trim_messages\n",
    "from langgraph.graph.message import add_messages\n",
    "\n",
    "from typing_extensions import Annotated, TypedDict\n",
    "\n",
    "from langchain_core.tools import tool, ToolException\n",
    "\n",
    "from pydantic import BaseModel, Field"
   ]
  },
  {
   "cell_type": "code",
   "execution_count": 12,
   "id": "39bda119-823f-41c9-8609-5d2371b169ae",
   "metadata": {},
   "outputs": [],
   "source": [
    "def clean_string(s: str) -> str:\n",
    "    \"\"\"\n",
    "    :param s: str is the string to clean\n",
    "    \"\"\"\n",
    "    return s.strip().replace(\".\", \"\")"
   ]
  },
  {
   "cell_type": "code",
   "execution_count": 13,
   "id": "cc374bdb-c0e7-404c-93c6-6f86425a2ac2",
   "metadata": {},
   "outputs": [],
   "source": [
    "from langchain.chat_models import init_chat_model\n",
    "model = init_chat_model(\"claude-3-5-sonnet-latest\", model_provider=\"anthropic\")"
   ]
  },
  {
   "cell_type": "markdown",
   "id": "60c06c88-d3ec-420c-ad6e-eb7804c69f7c",
   "metadata": {},
   "source": [
    "## Creating our Agentic Tools\n",
    "> The following tools can be registered with a \"tool calling agent\" to provide important context for our data engineering \"persona\"."
   ]
  },
  {
   "cell_type": "markdown",
   "id": "0eee727f-65fe-406a-9df3-2d173a4587e8",
   "metadata": {},
   "source": [
    "## Catalogs\n",
    "With Unity Catalog we have the option of having many \"root\" catalogs. It helps to provide tools that work \"at various levels\", to prevent \"turtle's all the way down\". In most cases, there will be a finite number of \"root\" or \"base\" catalogs, so the LLM can start at the top and work it's way down along with you.\n",
    "\n",
    "> todo: add catalog tool call."
   ]
  },
  {
   "cell_type": "code",
   "execution_count": 14,
   "id": "c4664026-12fd-4129-81e2-0c4eddc4aeb4",
   "metadata": {},
   "outputs": [],
   "source": [
    "class ListCatalogsRequest(BaseModel):\n",
    "    max_results: Optional[int] = Field(default=1, description=\"The number of schema's to return from the request\", gt=0, lt=100)\n",
    "\n",
    "class ListCatalogsResponse(BaseModel):\n",
    "    catalogs: List[str] = Field(description=\"The name of the base catalog\")\n",
    "\n",
    "@tool(\"list_catalogs\",\n",
    "      description=\"returns a list of base catalogs. Individually, each catalog name can be used as the parent catalog reference for schema or table discovery\",\n",
    "      args_schema=ListCatalogsRequest,\n",
    "      return_direct=True)\n",
    "def list_catalogs(max_results: Optional[int] = 1) -> ListCatalogsResponse:\n",
    "    # returns an Iterator[CatalogInfo]\n",
    "    print(f\"limit to max_results:{max_results}\")\n",
    "    try:\n",
    "        # browse_only, catalog_type, comment, metastore_id, securable_type, properties\n",
    "        return ListCatalogsResponse(\n",
    "            catalogs=[clean_string(catalog.name) for catalog in workspace_client.catalogs.list()])\n",
    "    except Exception as e:\n",
    "        raise ToolException(f\"Failed to List the Catalogs: {e}\")\n"
   ]
  },
  {
   "cell_type": "code",
   "execution_count": null,
   "id": "ddc31575-9ffe-403c-ac24-a450f6b62a0a",
   "metadata": {},
   "outputs": [],
   "source": [
    "list_catalogs({'max_results': 10})"
   ]
  },
  {
   "cell_type": "markdown",
   "id": "75ff5b0a-bd9e-42dd-8fcf-3604ccaee787",
   "metadata": {},
   "source": [
    "### Schemas\n",
    "Within Unity Catalog, schemas define a container that stores tables, functions, and files (via Volumes), as well as AI models, and a whole lot more. For this example, we will be sticking with \"schemas\" as a 1:1 to the older hive metastore based databases. "
   ]
  },
  {
   "cell_type": "code",
   "execution_count": 17,
   "id": "0e0721e9-ea04-4f45-bc6a-b141b7c27dcd",
   "metadata": {},
   "outputs": [],
   "source": [
    "class ListSchemaRequest(BaseModel):\n",
    "    catalog_name: str = Field(description=\"The name of the parent catalog (Unity Catalog) containing this schema\")\n",
    "    max_results: Optional[int] = Field(default=1, description=\"The number of schema's to return from the request\", gt=0, lt=100)\n",
    "\n",
    "class ListSchemaResponse(BaseModel):\n",
    "    catalog_name: str = Field(description=\"The name of the parent catalog (Unity Catalog) containing this schema\")\n",
    "    schemas: Optional[List[str]] = Field(default=None, description=\"The name of the schemas. Schemas are also referred to as databases in older systems\")\n",
    "\n",
    "@tool(\n",
    "    \"list_schemas\",\n",
    "    description=\"returns a list of schema names, if they exist, from the associated unity catalog name\", \n",
    "    args_schema=ListSchemaRequest,\n",
    "    return_direct=True)\n",
    "def list_schemas(catalog_name: str, max_results: Optional[int] = 1) -> ListSchemaResponse:\n",
    "    # returns an Iterator[SchemaInfo]\n",
    "    print(f\"limit to max_results:{max_results}\")\n",
    "    try:\n",
    "        schemas = workspace_client.schemas.list(\n",
    "            catalog_name=clean_string(catalog_name),\n",
    "            include_browse=False,\n",
    "            max_results=max_results\n",
    "        )\n",
    "        return ListSchemaResponse(\n",
    "            catalog_name=clean_string(catalog_name),\n",
    "            schemas=[schema.name for schema in schemas]\n",
    "        )\n",
    "    except Exception as e:\n",
    "        raise ToolException(f\"Failed to List the Schemas: {e}\")"
   ]
  },
  {
   "cell_type": "markdown",
   "id": "2f21c7b6-0148-4112-8248-f08e65b857fa",
   "metadata": {},
   "source": [
    "### Tables\n",
    "Tables represent exactly what you would think they would. In the case of the following tools, tables represent the **metadata** required to **teach** our LLM enough context to **learn** how to work with a given table.\n",
    "> The table is based on the **TableInfo** data structure in the databricks.sdk."
   ]
  },
  {
   "cell_type": "code",
   "execution_count": 18,
   "id": "4e60ed87-65ff-4273-a882-7c3419013947",
   "metadata": {},
   "outputs": [],
   "source": [
    "class ListTablesRequest(BaseModel):\n",
    "    catalog_name: str = Field(description=\"The name of the parent catalog (Unity Catalog) containing this schema\")\n",
    "    schema_name: str = Field(description=\"The name of the schema containing the tables to list. The schema is a child of the parent catalog named catalog_name\")\n",
    "    max_results: Optional[int] = Field(default=10, description=\"The number of table's to list in this request\", gt=0, lt=100)\n",
    "\n",
    "class ListTablesResponse(BaseModel):\n",
    "    catalog_name: str = Field(description=\"The name of the parent catalog (Unity Catalog) containing this schema\")\n",
    "    schema_name: str = Field(description=\"The name of the schema containing the tables to list. The schema is a child of the parent catalog named catalog_name\")\n",
    "    tables: Optional[List[str]] = Field(default=None, description=\"The list of full table names. Each table's full name includes the catalog.schema.table_name.\")\n",
    "\n",
    "@tool(\n",
    "    \"list_tables\",\n",
    "    description=\"returns a list of table names, if any exist, from the associated catalog_name.schema_name provided in the request\",\n",
    "    args_schema=ListTablesRequest,\n",
    "    return_direct=True)\n",
    "def list_tables(catalog_name: str, schema_name: str, max_results: Optional[int] = 10) -> ListTablesResponse:\n",
    "    # returns an Iterator[TableInfo]\n",
    "    print(f\"limit to max_results:{max_results}\")\n",
    "    try:\n",
    "        tables = workspace_client.tables.list(\n",
    "            catalog_name=clean_string(catalog_name),\n",
    "            schema_name=clean_string(schema_name),\n",
    "            max_results=max_results,\n",
    "            include_delta_metadata=False,\n",
    "            include_manifest_capabilities=False,\n",
    "            omit_username=True,\n",
    "            omit_columns=True,\n",
    "            omit_properties=True,\n",
    "        )\n",
    "        return ListTablesResponse(\n",
    "            catalog_name=clean_string(catalog_name),\n",
    "            schema_name=clean_string(schema_name),\n",
    "            tables=[table.full_name for table in tables if table.full_name is not None]\n",
    "        )\n",
    "    except Exception as e:\n",
    "        raise ToolException(f\"Failed to List the Tables under the {catalog_name}.{schema_name}\")"
   ]
  },
  {
   "cell_type": "markdown",
   "id": "b3e7a6ec-4884-4fc5-ac90-34af53f83939",
   "metadata": {},
   "source": [
    "### Tables: Extended Metadata Harvesting\n",
    "Once we've isolated the table or tables we want to work with, we can utilize the following data classes and tools in order to really learn about a table. This is where the hard work of adding **comments**, and other **descriptive metadata** really helps."
   ]
  },
  {
   "cell_type": "code",
   "execution_count": 19,
   "id": "ac962b64-3564-4e11-8b97-38bee35c77e8",
   "metadata": {},
   "outputs": [],
   "source": [
    "# The TableColumn class is a lighter weight version of \"TableInfo\". This allows us to tune the amount of data we provide\n",
    "# to the LLM. This can be extended if you wanted to \"query\" system tables to understand what \"tags\" are associated with a given table\n",
    "# or even to learn from the lineage to see what other tables are \"commonly\" constructed from \"this\" table.\n",
    "class TableColumn(BaseModel):\n",
    "    name: str = Field(description=\"The name of the column. This is used for querying the table\")\n",
    "    sql_type: str = Field(description=\"Full data type specification as SQL/catalogString text\")\n",
    "    comment: Optional[str] = Field(default=None, description=\"Describes what the column represents. The comment provides a semantic understanding for better queries\")\n",
    "    nullable: Optional[bool] = Field(default=True, description=\"If the value is True, then this field isn't required and we can't count on it to always be present\")"
   ]
  },
  {
   "cell_type": "code",
   "execution_count": 20,
   "id": "cb6df069-f3c9-4974-8aed-7e63d9cab77c",
   "metadata": {},
   "outputs": [],
   "source": [
    "class TableDetailsRequest(BaseModel):\n",
    "    catalog_name: str = Field(description=\"The name of the parent catalog (Unity Catalog) containing this schema\")\n",
    "    schema_name: str = Field(description=\"The name of the schema containing the tables to list. The schema is a child of the parent catalog named catalog_name\")\n",
    "    table_name: str = Field(description=\"The name of the table to inspect and discover. This is a child of the associated schema\")\n",
    "\n",
    "# This is fed from the ColumnInfo class via the Databricks SDK\n",
    "class TableDetailsResponse(BaseModel):\n",
    "    full_table_name: str = Field(description=\"The full name of the table. The full name includes the catalog.schema.table_name\")\n",
    "    comment: Optional[str] = Field(default=None, description=\"The table description if it has been provided\")\n",
    "    columns: Optional[List[TableColumn]] = Field(default=None, description=\"The columns of the table. These are important for querying the table\")\n",
    "\n",
    "@tool(\n",
    "    \"get_table_details\",\n",
    "    description=\"Provides metadata about a table within Unity Catalog. The details include the table name, comment, description, columns, cluster or partition information, as well as table properties\",\n",
    "    args_schema=TableDetailsRequest,\n",
    "    return_direct=True)\n",
    "def get_table_details(catalog_name: str, schema_name: str, table_name: str) -> TableDetailsResponse:\n",
    "    full_name = f\"{clean_string(catalog_name)}.{clean_string(schema_name)}.{clean_string(table_name)}\"\n",
    "    print(f\"getting table details: for `{full_name}`\")\n",
    "    try:\n",
    "        table_details = workspace_client.tables.get(full_name=full_name, include_delta_metadata=True, include_browse=True, include_manifest_capabilities=True)\n",
    "        #print(f\"{table_details}\")\n",
    "        return TableDetailsResponse(\n",
    "            full_table_name=full_name,\n",
    "            comment=table_details.comment,\n",
    "            columns=[\n",
    "                TableColumn(\n",
    "                    name=column.name, \n",
    "                    sql_type=column.type_text,\n",
    "                    comment=column.comment,\n",
    "                    nullable=column.nullable\n",
    "                ) for column in table_details.columns]\n",
    "        )\n",
    "    except Exception as e:\n",
    "        raise ToolException(f\"Failed to collect the Table details and metadata for {full_name}\")\n"
   ]
  },
  {
   "cell_type": "markdown",
   "id": "60926110-a654-4622-9aab-a4e39e61c76a",
   "metadata": {},
   "source": [
    "## Testing our Tools\n",
    "> Tip: It is much cheaper to test your tools like you would any other \"microservice\" API.\n",
    "1. Does the **tool** function as expected?\n",
    "2. Can the tool **Handle Failures?** without hitting \"eject\"?\n",
    "3. Would the tool metadata (comments, args) describe how to use the tool to a stranger?"
   ]
  },
  {
   "cell_type": "code",
   "execution_count": null,
   "id": "6f119a71-e674-4bd9-bb6d-c081952a06b4",
   "metadata": {},
   "outputs": [],
   "source": [
    "list_catalogs({'max_results': 10})"
   ]
  },
  {
   "cell_type": "code",
   "execution_count": null,
   "id": "ff78f69b-4acb-4125-a7df-82da86198297",
   "metadata": {},
   "outputs": [],
   "source": [
    "catalog_name = \"development\"\n",
    "list_schemas({\"catalog_name\": catalog_name, \"max_results\": 10})"
   ]
  },
  {
   "cell_type": "code",
   "execution_count": null,
   "id": "be1f75ca-8cbd-4452-b0b7-b89b31c4deff",
   "metadata": {},
   "outputs": [],
   "source": [
    "print(list_schemas.name)\n",
    "print(list_schemas.description)\n",
    "print(list_schemas.args)\n",
    "print(list_schemas.return_direct)"
   ]
  },
  {
   "cell_type": "code",
   "execution_count": null,
   "id": "d03b7c4f-458a-4e71-8a78-35047eb7fb43",
   "metadata": {},
   "outputs": [],
   "source": [
    "schema_name = \"consumer_behavior_events\"\n",
    "list_tables({\"catalog_name\": catalog_name, \"schema_name\": schema_name, \"max_results\": 10})"
   ]
  },
  {
   "cell_type": "code",
   "execution_count": null,
   "id": "4ccf2f20-93b0-44ea-b898-55fe773e42bf",
   "metadata": {},
   "outputs": [],
   "source": [
    "focus_table_name = \"caas_mobile\"\n",
    "get_table_details({\"catalog_name\": catalog_name, \"schema_name\": schema_name, \"table_name\": focus_table_name})"
   ]
  },
  {
   "cell_type": "markdown",
   "id": "f550df43-52a7-4ddd-ad77-0bf455f3b0f4",
   "metadata": {},
   "source": [
    "# Create and Run the Actual Tool Calling Agent\n",
    "----\n",
    "1. What we did before was just bind tools to our chat model. However, this just allows us to create the arguments for tool calling....\n",
    "2. We need to actually react to what the \"user\" is requesting in order to \"execute\" an \"action\" on their behalf.\n",
    "3. We'll need Memory just like we used before. This will allow our \"chat\" to reference prior context."
   ]
  },
  {
   "cell_type": "code",
   "execution_count": 30,
   "id": "bbe5d307-33f3-4e05-b0c9-5392c5242c08",
   "metadata": {},
   "outputs": [],
   "source": [
    "from langgraph.prebuilt import create_react_agent\n",
    "from langgraph.checkpoint.memory import MemorySaver\n",
    "\n",
    "memory = MemorySaver()"
   ]
  },
  {
   "cell_type": "code",
   "execution_count": 38,
   "id": "dd24a345-f47d-452e-bccc-26e44b69f388",
   "metadata": {},
   "outputs": [],
   "source": [
    "import base64, hashlib\n",
    "\n",
    "# create the Agent\n",
    "tools = [list_catalogs, list_schemas, list_tables, get_table_details]\n",
    "\n",
    "# bind the tools to our agent\n",
    "agent_executor = create_react_agent(model, tools, checkpointer=memory)\n",
    "\n",
    "# create a pointer to our \"session's memory\"\n",
    "session_hash = hashlib.md5(b'scott_haines:agent_session:2').digest()\n",
    "thread_id = base64.urlsafe_b64encode(session_hash).decode('ascii')\n",
    "agent_session = { \"configurable\": { \"thread_id\": thread_id } }"
   ]
  },
  {
   "cell_type": "code",
   "execution_count": 39,
   "id": "5046ad43-df99-467e-8bfd-570e9662b894",
   "metadata": {},
   "outputs": [
    {
     "data": {
      "text/plain": [
       "{'configurable': {'thread_id': 'PricQ9unSv_0TjXZX-XD2g=='}}"
      ]
     },
     "execution_count": 39,
     "metadata": {},
     "output_type": "execute_result"
    }
   ],
   "source": [
    "agent_session"
   ]
  },
  {
   "cell_type": "markdown",
   "id": "b734a9b1-10c3-4a15-beaa-8f5595cb9c3c",
   "metadata": {},
   "source": [
    "## Agents: Providing the Persona\n",
    "Given that an LLM is trained on what seems like literally everything, we need to reduce the \"scope\" of what the LLM is focused on to provide clarity.\n",
    "\n",
    "> I like to think about \"context\" as \"focus\" and the persona helps \"provide\" the boundaries like a horse with blinders :) "
   ]
  },
  {
   "cell_type": "code",
   "execution_count": 40,
   "id": "020fda63-d0bf-4cc3-883a-ee210046ad35",
   "metadata": {},
   "outputs": [
    {
     "name": "stdout",
     "output_type": "stream",
     "text": [
      "limit to max_results:10\n"
     ]
    }
   ],
   "source": [
    "from langchain_core.messages import BaseMessage, SystemMessage, HumanMessage, trim_messages\n",
    "input_messages = [\n",
    "    (\"system\", \"You are a senior principal engineer. You specialize in data intensive applications and stream processing at scale. You prefer to have short conversations and your brief responses contain mostly code examples. You are an expert in the python programming language. All code examples must utilize python\"),\n",
    "    HumanMessage(\"Hi! I'm Scott. I just joined the team. Can you help me find some tables to work with?\"),\n",
    "]\n",
    "response = agent_executor.invoke({\"messages\": input_messages}, agent_session)"
   ]
  },
  {
   "cell_type": "code",
   "execution_count": null,
   "id": "5104b727-ef16-4c98-af5b-bfc82d4b918d",
   "metadata": {},
   "outputs": [],
   "source": [
    "# view the ai message and tool calling message.\n",
    "response[\"messages\"][-2:]"
   ]
  },
  {
   "cell_type": "code",
   "execution_count": 48,
   "id": "38e2008b-6892-4e51-8d70-49bdc0b93933",
   "metadata": {},
   "outputs": [
    {
     "data": {
      "text/plain": [
       "[ConfigurableFieldSpec(id='thread_id', annotation=<class 'str'>, name='Thread ID', description=None, default='', is_shared=True, dependencies=None),\n",
       " ConfigurableFieldSpec(id='checkpoint_ns', annotation=<class 'str'>, name='Checkpoint NS', description='Checkpoint namespace. Denotes the path to the subgraph node the checkpoint originates from, separated by `|` character, e.g. `\"child|grandchild\"`. Defaults to \"\" (root graph).', default='', is_shared=True, dependencies=None),\n",
       " ConfigurableFieldSpec(id='checkpoint_id', annotation=typing.Optional[str], name='Checkpoint ID', description='Pass to fetch a past checkpoint. If None, fetches the latest checkpoint.', default=None, is_shared=True, dependencies=None)]"
      ]
     },
     "execution_count": 48,
     "metadata": {},
     "output_type": "execute_result"
    }
   ],
   "source": [
    "# Understand the MemorySavor configuration object\n",
    "# memory.config_specs"
   ]
  },
  {
   "cell_type": "code",
   "execution_count": null,
   "id": "999043aa-6aaa-49c3-bd15-eaf3864686d0",
   "metadata": {},
   "outputs": [],
   "source": [
    "# view what is currently stored in memory for the conversation\n",
    "# memory.blobs"
   ]
  },
  {
   "cell_type": "code",
   "execution_count": 55,
   "id": "0ba9b5f6-c142-4b11-b6ff-8078a4020807",
   "metadata": {},
   "outputs": [
    {
     "name": "stdout",
     "output_type": "stream",
     "text": [
      "limit to max_results:20\n"
     ]
    }
   ],
   "source": [
    "catalog = 'development'\n",
    "list_schemas_response = agent_executor.invoke(\n",
    "    {\n",
    "        \"messages\": [\n",
    "            HumanMessage(\n",
    "                f\"Can you show me the first 20 schemas in the {catalog} catalog?\")\n",
    "        ]\n",
    "    }, agent_session\n",
    ")"
   ]
  },
  {
   "cell_type": "code",
   "execution_count": 57,
   "id": "ccbbc8d2-cc58-45c1-b583-9182a34aa9a4",
   "metadata": {},
   "outputs": [
    {
     "data": {
      "text/plain": [
       "[AIMessage(content=[{'text': \"I'll list the schemas in the development catalog.\", 'type': 'text'}, {'id': 'toolu_01D2KhiM4ngf8gL6kiyCtihj', 'input': {'catalog_name': 'development', 'max_results': 20}, 'name': 'list_schemas', 'type': 'tool_use'}], additional_kwargs={}, response_metadata={'id': 'msg_01VdmmS2FQ4NZLSmND9Akbgr', 'model': 'claude-3-5-sonnet-20241022', 'stop_reason': 'tool_use', 'stop_sequence': None, 'usage': {'cache_creation_input_tokens': 0, 'cache_read_input_tokens': 0, 'input_tokens': 1310, 'output_tokens': 85, 'server_tool_use': None, 'service_tier': 'standard'}, 'model_name': 'claude-3-5-sonnet-20241022'}, id='run--d590c38a-a80d-4543-b517-be5dcf5d22c2-0', tool_calls=[{'name': 'list_schemas', 'args': {'catalog_name': 'development', 'max_results': 20}, 'id': 'toolu_01D2KhiM4ngf8gL6kiyCtihj', 'type': 'tool_call'}], usage_metadata={'input_tokens': 1310, 'output_tokens': 85, 'total_tokens': 1395, 'input_token_details': {'cache_read': 0, 'cache_creation': 0}}),\n",
       " ToolMessage(content=\"catalog_name='development' schemas=['consumer_behavior_events', 'information_schema', 'team_cdp_experimentation', 'team_nike_innovation', 'templates']\", name='list_schemas', id='062f60af-e290-4b19-9240-de9a5dcb311c', tool_call_id='toolu_01D2KhiM4ngf8gL6kiyCtihj')]"
      ]
     },
     "execution_count": 57,
     "metadata": {},
     "output_type": "execute_result"
    }
   ],
   "source": [
    "list_schemas_response[\"messages\"][-2:]"
   ]
  },
  {
   "cell_type": "code",
   "execution_count": 58,
   "id": "86fda040-ea71-4fab-ac2b-62af80eaa01b",
   "metadata": {},
   "outputs": [
    {
     "name": "stdout",
     "output_type": "stream",
     "text": [
      "limit to max_results:10\n"
     ]
    }
   ],
   "source": [
    "schema_name = 'consumer_behavior_events'\n",
    "list_tables_response = agent_executor.invoke(\n",
    "    {\n",
    "        \"messages\": [\n",
    "            HumanMessage(f\"Thank you. Using the same parent catalog, can you show me the first 10 tables under the {schema_name} schema?\")\n",
    "        ]\n",
    "    }, agent_session\n",
    ")"
   ]
  },
  {
   "cell_type": "code",
   "execution_count": 65,
   "id": "9027016e-48a7-473f-aa72-6cb4a21dd63f",
   "metadata": {},
   "outputs": [
    {
     "data": {
      "text/plain": [
       "\"catalog_name='development' schema_name='consumer_behavior_events' tables=['development.consumer_behavior_events.caas_mobile']\""
      ]
     },
     "execution_count": 65,
     "metadata": {},
     "output_type": "execute_result"
    }
   ],
   "source": [
    "(list_tables_response[\"messages\"][-1:])[0].content"
   ]
  },
  {
   "cell_type": "code",
   "execution_count": 66,
   "id": "1cc3766a-fc90-433d-8c98-f2ed79c5ccdf",
   "metadata": {},
   "outputs": [],
   "source": [
    "table='caas_mobile'\n",
    "# commenting out the table creates an interesting conversation\n",
    "table_details_response = agent_executor.invoke(\n",
    "    {\n",
    "        \"messages\": [\n",
    "            HumanMessage(f\"Thank you. Using the same parent catalog and current schema, can you find more details about the {table} table?\")\n",
    "        ]\n",
    "    }, agent_session\n",
    ")"
   ]
  },
  {
   "cell_type": "code",
   "execution_count": 68,
   "id": "47382dd4-18ae-4960-b5b1-2629a2a0bc77",
   "metadata": {},
   "outputs": [
    {
     "data": {
      "text/plain": [
       "[AIMessage(content=\"I notice you've used a placeholder {inspect_table} in your request. Based on the previous results, I can see there's only one table available in this schema: 'caas_mobile'. Would you like me to get the details for the caas_mobile table? Please confirm or specify a different table name you'd like to inspect.\", additional_kwargs={}, response_metadata={'id': 'msg_012LHiS5PkDQ8eLThHj6wZK6', 'model': 'claude-3-5-sonnet-20241022', 'stop_reason': 'end_turn', 'stop_sequence': None, 'usage': {'cache_creation_input_tokens': 0, 'cache_read_input_tokens': 0, 'input_tokens': 1670, 'output_tokens': 75, 'server_tool_use': None, 'service_tier': 'standard'}, 'model_name': 'claude-3-5-sonnet-20241022'}, id='run--a6217cc4-fa05-4dd9-86e3-5b1d8b894233-0', usage_metadata={'input_tokens': 1670, 'output_tokens': 75, 'total_tokens': 1745, 'input_token_details': {'cache_read': 0, 'cache_creation': 0}})]"
      ]
     },
     "execution_count": 68,
     "metadata": {},
     "output_type": "execute_result"
    }
   ],
   "source": [
    "table_details_response[\"messages\"][-1:]"
   ]
  },
  {
   "cell_type": "code",
   "execution_count": null,
   "id": "cb26be20-3ede-42a1-88c1-715f88c58430",
   "metadata": {},
   "outputs": [],
   "source": [
    "auto_selection_response = agent_executor.invoke(\n",
    "    {\n",
    "        \"messages\": [\n",
    "            HumanMessage(\"Thank you. Let's do what you recommended\")\n",
    "        ]\n",
    "    }, agent_session\n",
    ")"
   ]
  },
  {
   "cell_type": "code",
   "execution_count": null,
   "id": "107226f0-79da-46e2-a1f6-a4f52fdcb7cb",
   "metadata": {},
   "outputs": [],
   "source": [
    "auto_selection_response[\"messages\"][-1].pretty_print()"
   ]
  },
  {
   "cell_type": "code",
   "execution_count": 73,
   "id": "89582982-ab9f-401b-aac0-8f02e471b632",
   "metadata": {},
   "outputs": [],
   "source": [
    "provide_app_suggestions = agent_executor.invoke(\n",
    "    {\n",
    "        \"messages\": [\n",
    "            HumanMessage(\"Thank you. Using the current table can you show me how to use it as a streaming data source using PySpark and Delta Lake. Use startingVersion of 1 and write out to another delta table called mock_stream in the same catalog.schema\")\n",
    "        ]\n",
    "    }, agent_session)"
   ]
  },
  {
   "cell_type": "code",
   "execution_count": 74,
   "id": "86f3e2e8-dfa8-440c-95d7-52bb6b537802",
   "metadata": {},
   "outputs": [
    {
     "name": "stdout",
     "output_type": "stream",
     "text": [
      "==================================\u001b[1m Ai Message \u001b[0m==================================\n",
      "\n",
      "Here's a concise PySpark example to stream from the caas_mobile table to a mock_stream table:\n",
      "\n",
      "```python\n",
      "from pyspark.sql.functions import *\n",
      "\n",
      "# Source table path\n",
      "source_table = \"development.consumer_behavior_events.caas_mobile\"\n",
      "# Target table path\n",
      "target_table = \"development.consumer_behavior_events.mock_stream\"\n",
      "\n",
      "# Read as stream from version 1\n",
      "stream_df = spark.readStream \\\n",
      "    .format(\"delta\") \\\n",
      "    .option(\"startingVersion\", 1) \\\n",
      "    .table(source_table)\n",
      "\n",
      "# Write stream to target delta table\n",
      "query = stream_df.writeStream \\\n",
      "    .format(\"delta\") \\\n",
      "    .option(\"checkpointLocation\", \"/tmp/checkpoint/mock_stream\") \\\n",
      "    .option(\"mergeSchema\", \"true\") \\\n",
      "    .table(target_table)\n",
      "\n",
      "# Wait for termination (in production you'd handle this differently)\n",
      "query.awaitTermination()\n",
      "```\n",
      "\n",
      "Key points about this code:\n",
      "- Uses readStream with Delta format\n",
      "- Specifies startingVersion=1\n",
      "- Writes to another Delta table\n",
      "- Includes checkpoint location for fault tolerance\n",
      "- Enables schema merging for flexibility\n",
      "\n",
      "You might want to add error handling and proper checkpoint path management for production use.\n"
     ]
    }
   ],
   "source": [
    "provide_app_suggestions[\"messages\"][-1].pretty_print()"
   ]
  },
  {
   "cell_type": "code",
   "execution_count": 76,
   "id": "50f2432e-793b-4c4f-9e82-9185e8fb59a9",
   "metadata": {},
   "outputs": [],
   "source": [
    "delta_app_demo_cont = agent_executor.invoke(\n",
    "    {\n",
    "        \"messages\": [\n",
    "            HumanMessage(\"\"\"\n",
    "            Can we add a simple transformation? \n",
    "            I'd like to explicitly call out the column names as a select operation\n",
    "            \"\"\")\n",
    "        ]\n",
    "    }, agent_session)"
   ]
  },
  {
   "cell_type": "code",
   "execution_count": null,
   "id": "1bbd0e58-0584-4201-8272-943ebdab8b29",
   "metadata": {},
   "outputs": [],
   "source": [
    "delta_app_demo_cont[\"messages\"][-1].pretty_print()"
   ]
  },
  {
   "cell_type": "code",
   "execution_count": null,
   "id": "37438cf4-46c6-4117-83fd-a4f40eeee6ec",
   "metadata": {},
   "outputs": [],
   "source": []
  }
 ],
 "metadata": {
  "kernelspec": {
   "display_name": "Python 3 (ipykernel)",
   "language": "python",
   "name": "python3"
  },
  "language_info": {
   "codemirror_mode": {
    "name": "ipython",
    "version": 3
   },
   "file_extension": ".py",
   "mimetype": "text/x-python",
   "name": "python",
   "nbconvert_exporter": "python",
   "pygments_lexer": "ipython3",
   "version": "3.9.6"
  }
 },
 "nbformat": 4,
 "nbformat_minor": 5
}
