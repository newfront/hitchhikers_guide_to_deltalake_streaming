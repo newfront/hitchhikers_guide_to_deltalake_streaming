{
 "cells": [
  {
   "cell_type": "code",
   "execution_count": 1,
   "id": "0dee137e-d40f-4c7a-ba28-b3e5e73640d9",
   "metadata": {
    "tags": []
   },
   "outputs": [],
   "source": [
    "# run first. then have fun.\n",
    "from pyspark.sql.functions import col, current_timestamp, to_date, datediff\n",
    "from delta.tables import DeltaTable\n",
    "\n",
    "# keep the default compression codec as zstd\n",
    "spark.conf.set(\"spark.sql.parquet.compression.codec\", \"zstd\")\n",
    "\n",
    "# common dirs, paths\n",
    "dataset_dir = '/opt/spark/work-dir/hitchhikers_guide/datasets/ecomm_behavior_data'\n",
    "delta_path = f\"{dataset_dir}/delta\""
   ]
  },
  {
   "cell_type": "markdown",
   "id": "68d45c1f-9690-4bb7-a4f3-a01d4e491bfb",
   "metadata": {},
   "source": [
    "# Restoring Tables\n",
    "> no polish required. (well some)\n",
    "\n",
    "**Fact**: Delta Lake tables are comprised of two parts. The metadata, and the physical files representing the table.\n",
    "\n",
    "Remember to keep this fact in mind, since it means that **while problems might exist in the current version** of a given table, **that doesn't mean the table is corrupt** (in most cases). So before our 3am \"fast thinking\" brain comes up with a solution like (drop the table, and we can figure it out later), take a quick pause... remember don't panic, there is probably a very reasonable explaination for 'said PAGER'."
   ]
  },
  {
   "cell_type": "markdown",
   "id": "c01b1420-4302-45f7-9bd9-35c2ff288b6f",
   "metadata": {},
   "source": [
    "## Problem:\n",
    "The Streaming Application just came to a screetching halt and no longer exists (failed, and is now no more). The last exception that was thrown stated that there was a [`MetadataChangedException`](https://docs.delta.io/latest/concurrency-control.html#metadatachangedexception). So what exactly just happened?\n"
   ]
  },
  {
   "cell_type": "code",
   "execution_count": null,
   "id": "58b49c59-9e6f-4903-9860-347447763a3c",
   "metadata": {},
   "outputs": [],
   "source": []
  }
 ],
 "metadata": {
  "kernelspec": {
   "display_name": "Python 3 (ipykernel)",
   "language": "python",
   "name": "python3"
  },
  "language_info": {
   "codemirror_mode": {
    "name": "ipython",
    "version": 3
   },
   "file_extension": ".py",
   "mimetype": "text/x-python",
   "name": "python",
   "nbconvert_exporter": "python",
   "pygments_lexer": "ipython3",
   "version": "3.9.2"
  }
 },
 "nbformat": 4,
 "nbformat_minor": 5
}
