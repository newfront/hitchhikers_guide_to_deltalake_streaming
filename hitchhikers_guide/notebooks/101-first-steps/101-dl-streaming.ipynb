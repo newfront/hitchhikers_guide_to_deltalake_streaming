{
 "cells": [
  {
   "cell_type": "code",
   "execution_count": 2,
   "id": "a457036d-1d98-46e0-a64e-52faa61300e1",
   "metadata": {
    "tags": []
   },
   "outputs": [],
   "source": [
    "# run first. then have fun.\n",
    "from pyspark.sql.functions import col, current_timestamp, to_date, datediff\n",
    "# stats and agg functions\n",
    "from pyspark.sql.functions import count, session_window, window, sum, min, max, percentile_approx\n",
    "\n",
    "from delta.tables import DeltaTable\n",
    "\n",
    "# keep the default compression codec as zstd\n",
    "spark.conf.set(\"spark.sql.parquet.compression.codec\", \"zstd\")\n",
    "\n",
    "# common dirs, paths\n",
    "dataset_dir = '/opt/spark/work-dir/hitchhikers_guide/datasets/ecomm_behavior_data'\n",
    "delta_path = f\"{dataset_dir}/delta\"\n",
    "\n",
    "# managed table information (from 100-streaming-first-steps)\n",
    "dl_table_name = \"ecomm_by_day\"\n",
    "dl_managed_table = f\"default.{dl_table_name}\""
   ]
  },
  {
   "cell_type": "markdown",
   "id": "2c37f33a-778d-446f-b041-2820c1a257b2",
   "metadata": {},
   "source": [
    "# Intro to Delta Lake Streaming\n",
    "The following section will reuse the **Delta Lake** `default.ecomm_by_day` table created during [Streaming First Steps](./streaming-first-steps.ipynb).\n",
    "\n",
    "> note: run the following cell to check if you have the local table. You should see `[Table(name='ecomm_by_day', database='default', description=None, tableType='MANAGED', isTemporary=False)]` somewhere in the list (if you have more than one from the work in the Guide)"
   ]
  },
  {
   "cell_type": "code",
   "execution_count": null,
   "id": "b4a3f372-ea71-436e-9182-25d66c7b989f",
   "metadata": {
    "tags": []
   },
   "outputs": [],
   "source": [
    "# a few helpful methods for setting the local context\n",
    "# which database like `use that_database` in SQL\n",
    "# with unity catalog (spark.catalog.setCurrentCatalog....)\n",
    "spark.catalog.setCurrentDatabase(\"default\")\n",
    "spark.catalog.listTables()\n",
    "spark.catalog.tableExists(dl_table_name)\n",
    "spark.table(dl_managed_table)\n"
   ]
  },
  {
   "cell_type": "markdown",
   "id": "6598b8a9-bfb1-49aa-86c9-cc9b1b67f5b8",
   "metadata": {
    "tags": []
   },
   "source": [
    "> Note: If you see `java.sql.SQLException: Failed to start database 'metastore_db' with class loader jdk.internal.loader.ClassLoaders$AppClassLoader...` then you need to detach the `kernel` from the other notebook you have open. You can only have one notebook running with the local Metastore."
   ]
  },
  {
   "cell_type": "markdown",
   "id": "fcd9a92d-0b69-4131-9a17-ccbfe76f97fe",
   "metadata": {},
   "source": [
    "## Successful Streaming Begins with Metadata (lots and lots of metadata)\n",
    "> In other words, if you don't understand how the table is laid out, what the structure of the table is (columns, types, is the table narrow or wide? do you know what any of the columns actually are?\n",
    "\n",
    "Remember, when in lost or in doubt, always consult the data (metadata). To Peek at the Table Metadata with `detail()`\n",
    "* - Use `DeltaTable.forName(spark, 'catalog.schema.table|schema.table|table').detail()` \n",
    "* - or `DeltaTable.forPath(spark, '/path/to/table/).detail()` for Unmanaged tables."
   ]
  },
  {
   "cell_type": "code",
   "execution_count": null,
   "id": "5075440a-f931-40ea-886e-4249cd10b806",
   "metadata": {
    "tags": []
   },
   "outputs": [],
   "source": [
    "## Starting Small (Baby Steps)\n",
    "\n",
    "dt_ecomm = DeltaTable.forName(spark, dl_managed_table)\n",
    "table_details = dt_ecomm.detail()\n",
    "\n",
    "# go on, take a peek (no one's looking)\n",
    "table_details.printSchema()"
   ]
  },
  {
   "cell_type": "markdown",
   "id": "9bcfbfd3-2669-4451-9dcf-a0f21b621e2f",
   "metadata": {},
   "source": [
    "### Table Details. Providing you with all the ... well details\n",
    "Scanning the StructType of the `detail()` dataframe gives you a lot of data. The following use cases can be solved with the metadata:\n",
    "\n",
    "```\n",
    "root\n",
    " |-- format: string (nullable = true)\n",
    " |-- id: string (nullable = true)\n",
    " |-- name: string (nullable = true)\n",
    " |-- description: string (nullable = true)\n",
    " |-- location: string (nullable = true)\n",
    " |-- createdAt: timestamp (nullable = true)\n",
    " |-- lastModified: timestamp (nullable = true)\n",
    " |-- partitionColumns: array (nullable = true)\n",
    " |    |-- element: string (containsNull = true)\n",
    " |-- numFiles: long (nullable = true)\n",
    " |-- sizeInBytes: long (nullable = true)\n",
    " |-- properties: map (nullable = true)\n",
    " |    |-- key: string\n",
    " |    |-- value: string (valueContainsNull = true)\n",
    " |-- minReaderVersion: integer (nullable = true)\n",
    " |-- minWriterVersion: integer (nullable = true)\n",
    " |-- tableFeatures: array (nullable = true)\n",
    " |    |-- element: string (containsNull = true)\n",
    "```\n",
    "\n",
    "1. **Calculate Table Freshness**: `abs(current_time()-{table.lastModified})`: To answer the universal question of - \"How Fresh Is It?\".\n",
    "2. **How Fast is the Table Growing?**: Size does matter. If we have two tables, tableA is 100gb and has `createdAt` of one year ago, and tableB is 100gb and was created yesterday, then we've got a scalability monster. Using the `freshness` technique, you can calculate the `days` a table has `existed`, and calculate the `avg` bytes per day using `sizeInBytes`.\n",
    "3. **What is the Table Telling Us?**: Using the `properties` map, we can easily view ALL Table Properties, including those used to `automate` Delta Lake like `delta.logRetentionDuration` or those *we bring to the table* - pun truly intended. Like `catalog.team_name`"
   ]
  },
  {
   "cell_type": "code",
   "execution_count": 11,
   "id": "5c3eb912-19c2-4354-8abf-954701bde8eb",
   "metadata": {
    "tags": []
   },
   "outputs": [
    {
     "name": "stdout",
     "output_type": "stream",
     "text": [
      "+--------------------------+----------+-----------------------+-----------------------+---------+---------+\n",
      "|now                       |todaysDate|createdAt              |lastModified           |ageInDays|staleDays|\n",
      "+--------------------------+----------+-----------------------+-----------------------+---------+---------+\n",
      "|2023-06-29 16:36:49.052902|2023-06-29|2023-06-29 16:10:49.734|2023-06-29 16:25:33.914|0        |0        |\n",
      "+--------------------------+----------+-----------------------+-----------------------+---------+---------+\n",
      "\n",
      "\n",
      "Don't Panic!\n",
      "\n",
      "The table 'default.ecomm_by_day' has a known classification of 'all-access'.\n",
      "\n",
      "The table is owned by the following team 'dldg_authors'.\n",
      "\n",
      "If we need contact them via slack @ https://delta-users.slack.com/archives/CG9LR6LN4\n",
      "\n"
     ]
    }
   ],
   "source": [
    "# Feel Free to Mess with the following cell to get used to the data available to you about the ecomm_by_day table.\n",
    "from pyspark.sql.functions import col, current_timestamp, to_date, datediff\n",
    "tbl_dets = (\n",
    "    table_details\n",
    "    .withColumn(\"now\", current_timestamp())\n",
    "    .withColumn(\"todaysDate\", to_date(col(\"now\")))\n",
    "    .withColumn(\"ageInDays\", datediff(col(\"todaysDate\"),to_date(\"createdAt\")))\n",
    "    .withColumn(\"staleDays\", datediff(col(\"todaysDate\"),to_date(\"lastModified\")))\n",
    ")\n",
    "# view all the time-based info on the table.\n",
    "(tbl_dets\n",
    " .select(\n",
    "     \"now\",\n",
    "     \"todaysDate\",\n",
    "     \"createdAt\",\n",
    "     \"lastModified\",\n",
    "     \"ageInDays\",\n",
    "     \"staleDays\")\n",
    " .show(truncate=False)\n",
    ")\n",
    "\n",
    "# fetch the dataframe as a local Row\n",
    "dets = tbl_dets.first()\n",
    "# see it's a Row...<class 'pyspark.sql.types.Row'>\n",
    "#print(type(dets))\n",
    "team_name = dets['properties']['catalog.team_name']\n",
    "team_slack = dets['properties']['catalog.engineering.comms.slack']\n",
    "table_classifiction = dets['properties']['catalog.table.classification']\n",
    "\n",
    "# stick to the details\n",
    "print(f\"\"\"\n",
    "Don't Panic!\\n\n",
    "The table '{dets.name}' has a known classification of '{table_classifiction}'.\\n\n",
    "The table is owned by the following team '{team_name}'.\\n\n",
    "If we need contact them via slack @ {team_slack}\n",
    "\"\"\")\n",
    "\n",
    "# or remember not to panic, everything is under control\n",
    "#print(f\"\"\"\n",
    "#I am no longer panicking.\\n \n",
    "#Why you ask?\\n\n",
    "#I know that I can count on {team_name} to deliver gold data, otherwise...\\n\n",
    "#to slack ({team_slack}) we ride questions in hand about the TABLE {dets.name}.\\n\n",
    "#Which happened to be created on {dets.createdAt} and last updated at {dets.lastModified}...\n",
    "#\"\"\")"
   ]
  },
  {
   "cell_type": "markdown",
   "id": "77c57779-c0a0-4ad8-8810-0a335719ca09",
   "metadata": {},
   "source": [
    "## Inspecting the Volume, Size, and Charateristics of a Delta Table\n",
    "> there are many uses for math in a career as a data engineer. One of them is back of the envelope (or mostly right maths!)"
   ]
  },
  {
   "cell_type": "code",
   "execution_count": 13,
   "id": "1474d650-5a72-47ea-9214-b327b0a75da8",
   "metadata": {
    "tags": []
   },
   "outputs": [
    {
     "name": "stdout",
     "output_type": "stream",
     "text": [
      "+--------+--------------------+------------------+\n",
      "|numFiles|TableSizeInMegaBytes|      avgMBPerFile|\n",
      "+--------+--------------------+------------------+\n",
      "|     142|         2397.278692|16.882244309859153|\n",
      "+--------+--------------------+------------------+\n",
      "\n"
     ]
    }
   ],
   "source": [
    "bytesToMB = 1000000\n",
    "(tbl_dets\n",
    " .select(\n",
    "     col(\"numFiles\"),\n",
    "     (col(\"sizeInBytes\")/bytesToMB)\n",
    "       .alias(\"TableSizeInMegaBytes\"),\n",
    "     ((col(\"sizeInBytes\")/bytesToMB)/col(\"numFiles\"))\n",
    "       .alias(\"avgMBPerFile\")\n",
    " ).show()\n",
    ")"
   ]
  },
  {
   "cell_type": "markdown",
   "id": "3b0fae51-ea43-4a0d-83ee-b2b4fb2fdfc2",
   "metadata": {},
   "source": [
    "## What We've Learned about the Dataset\n",
    "> Note: The following information is based on the 'complete' ecomm dataset. The full 15gb csv. 807mb is the size on disk after zstd compression and Delta encoding. \n",
    "\n",
    "1. The naive average megabytes per file is around `17mb`. If you run `ls -lh` across any given day, you'll see more of an odd split between say 3mb and 18mb due to non optimized, non-bin backed table data on disk.\n",
    "    - (or the very *improbably* you may see exactly the value `0.0058685MB` if you are using the ***-sm*** dataset)\n",
    "2. There are `142` files taking up a `~2.4gb` for the `entire` table.\n",
    "    - (or even more improbably exactly `4` files taking up `0.023474MB` for the whole table)\n",
    "3. There are probably many more `rows` of data in the table, so if we wanted to get a 'quick' count, then that would be a good idea too. That can give us more `approximate` math to work with (rows/day) - even if we are off - we are better informed with approximate math than wild guesses and hopes and dreams.\n",
    "    - (unless we are looking for Magrathea or being attacked by Vorgons)\n"
   ]
  },
  {
   "cell_type": "code",
   "execution_count": 15,
   "id": "de32047a-73c9-46fc-9858-178cbf1bab06",
   "metadata": {
    "tags": []
   },
   "outputs": [
    {
     "name": "stderr",
     "output_type": "stream",
     "text": [
      "[Stage 42:============================================>           (20 + 4) / 25]\r"
     ]
    },
    {
     "name": "stdout",
     "output_type": "stream",
     "text": [
      "\n",
      "The Table has 109950743 rows.\n",
      "\n",
      "*Daily Rows of 774301.0070422535\n",
      "\n",
      "Total Partitions in Table 61\n",
      "\n",
      "*Avg Files per Partition 2.3278688524590163\n",
      "\n",
      "*Avg Row Size 21.80320593195082 in Bytes\n",
      "\n",
      "*Avg Rows per Delta Lake File: 332622.2635885737\n",
      "\n",
      "Records per Second: 8.961817211137193\n",
      "\n",
      "Records per Hour: 32262.541960093895\n",
      "\n"
     ]
    },
    {
     "name": "stderr",
     "output_type": "stream",
     "text": [
      "                                                                                \r"
     ]
    }
   ],
   "source": [
    "# convert the DeltaTable reference to a DataFrame\n",
    "seconds_in_day = 86400\n",
    "dt_as_df = dt_ecomm.toDF()\n",
    "total_rows = dt_as_df.count()\n",
    "\n",
    "# calculate the total number of partitions\n",
    "# cheating since we are just taking the first of many (or fail if none - we know it is event_date, but still)\n",
    "partitionCol = (dt_ecomm\n",
    "                .detail()\n",
    "                .first()[\"partitionColumns\"][0])\n",
    "total_partitions = (dt_as_df\n",
    "                    .select(col(partitionCol))\n",
    "                    .distinct()\n",
    "                    .count())\n",
    "avg_files_per_partition = dets['numFiles']/total_partitions\n",
    "rows_per_day = total_rows/dets['numFiles']\n",
    "avg_row_size = dets['sizeInBytes']/total_rows\n",
    "\n",
    "# the * denotes maybe accurate, maybe really off. \n",
    "# - This is mostly cheap approximations (and maybe accurate math)\n",
    "print(f\"\"\"\n",
    "The Table has {total_rows} rows.\\n\n",
    "*Daily Rows of {rows_per_day}\\n\n",
    "Total Partitions in Table {total_partitions}\\n\n",
    "*Avg Files per Partition {avg_files_per_partition}\\n\n",
    "*Avg Row Size {avg_row_size} in Bytes\\n\n",
    "*Avg Rows per Delta Lake File: {rows_per_day/avg_files_per_partition}\\n\n",
    "Records per Second: {rows_per_day/seconds_in_day}\\n\n",
    "Records per Hour: {rows_per_day/24}\n",
    "\"\"\")"
   ]
  },
  {
   "cell_type": "markdown",
   "id": "301bd253-cb85-4fc6-a278-30cbe11d3256",
   "metadata": {},
   "source": [
    "# Our First Delta Lake Streaming Operation\n",
    "> Clap your Hands! Or Celebrate However you want. It's time to be Streaming\n",
    "\n",
    "Because we have potentially a gigantic amount of data - (Or depending on the adventure you chose a smaller set of 60, yes it should have been 42, but time...) - regardless, it is time to create our first streaming application.\n",
    "\n",
    "## What We'll Need\n",
    "1. A Place to Store our Application Metadata. Luckily we have our Local File Sytem, so we can just store the application data there for now. (See [common application directory](../../applications/README.md) to understand a little more.\n",
    "2. A [Way of Restricting the Volume of Data We Read](https://docs.delta.io/latest/delta-streaming.html#limit-input-rate)\n",
    "3. A [Means of Ignoring Things](https://docs.databricks.com/structured-streaming/delta-lake.html#ignore-updates-and-deletes) we don't currently care about.\n",
    "3. A Way of Limiting the Frequency in which our Application Runs (just like we want to limit the volume of data, when we start learning how to work with Streaming Data, it is better to slowly increase the rate which we will learn how to do.)"
   ]
  },
  {
   "cell_type": "code",
   "execution_count": null,
   "id": "fb2ca66b-c1d7-4df1-be63-2685949069e0",
   "metadata": {
    "tags": []
   },
   "outputs": [],
   "source": [
    "#spark.sql(\"drop table default.ecomm_aggs_table\")"
   ]
  },
  {
   "cell_type": "code",
   "execution_count": null,
   "id": "c78ea8fe-c4ab-48cd-b3e6-65aa4fadf7a3",
   "metadata": {
    "tags": []
   },
   "outputs": [
    {
     "name": "stderr",
     "output_type": "stream",
     "text": [
      "                                                                                \r"
     ]
    }
   ],
   "source": [
    "# read from the `default.ecomm_by_day` table, modify the read options to limit the maxFilesPerTrigger\n",
    "# read up to 4 files, do a simple projection (select colA, colB)\n",
    "# write out to a new Delta Lake table. \n",
    "# Checkpoint the progress so we can `pick up where we left off`\n",
    "\n",
    "app_name = \"dl_streaming_aggs\"\n",
    "app_version = \"v0.0.1\"\n",
    "checkpoint_dir = \"../../applications\"\n",
    "checkpoint_path = f\"{checkpoint_dir}/{app_name}/{app_version}/_checkpoints\"\n",
    "print(f\"checkpoint_path={checkpoint_path}\")\n",
    "ecomm_aggs_table = 'default.ecomm_aggs_table'\n",
    "\n",
    "spark.conf.set(\"spark.sql.shuffle.partitions\", \"32\")\n",
    "# create the streaming Delta source object\n",
    "ecomm_by_day_limited = (\n",
    "    spark.readStream\n",
    "    .format(\"delta\")\n",
    "    .option(\"maxFilesPerTrigger\", 1)\n",
    "    .option(\"ignoreChanges\", True)\n",
    "    .table(dl_managed_table)\n",
    ")\n",
    "\n",
    "# view the schema for the table (since we know everything else about it now too)\n",
    "ecomm_by_day_limited.printSchema()\n",
    "\n",
    "# next select the columns we care about (feel free to switch things up here too)\n",
    "ecomm_aggs = (\n",
    "    ecomm_by_day_limited\n",
    "    .withWatermark(\"event_time\", '10 minutes')\n",
    "    .select(\"event_time\", \"event_type\", \"product_id\", \"user_session\", \"user_id\", \"event_date\")\n",
    "    .groupBy(window(\"event_time\", \"30 minutes\"), \"user_id\", \"product_id\", \"event_date\")\n",
    "    .agg(count(\"event_type\").alias('session_events'))\n",
    ")\n",
    "\n",
    "# next create the streaming sink\n",
    "\n",
    "streamingQuery = (\n",
    "    ecomm_aggs.writeStream\n",
    "    .format(\"delta\")\n",
    "    .queryName(\"ecomm_aggs\")\n",
    "    .option(\"checkpointLocation\", checkpoint_path)\n",
    "    .outputMode(\"append\")\n",
    "    .partitionBy(\"event_date\")\n",
    "    .option(\"overwriteSchema\", False)\n",
    "    # triggers allow us to control the frequency in which a job will run. \n",
    "    # For the java nerds (me included) triggers run like scheduledThreadPools when using `processingTime` \n",
    "    # and once, will fire once and then the job will complete.\n",
    "    #.trigger(processingTime='42 seconds')\n",
    "    .trigger(availableNow=True)\n",
    "    .toTable(ecomm_aggs_table)\n",
    ")"
   ]
  },
  {
   "cell_type": "markdown",
   "id": "0fae0347-0f25-49d3-90f9-9e5ca8977281",
   "metadata": {
    "tags": []
   },
   "source": [
    "## Controlling the StreamingQuery\n",
    "1. We returned a `streamingQuery` object when we executed the last cell before. The Streaming Query object provides you with a gateway into the realtime metrics and behavior of your Delta-Spark based application performance.\n",
    "\n",
    "2. Given the application is `triggering` every `30s` that means twice a minute we'll have more data, as the job slowly chews through the 72 files of the data set, pulling in 600k files per tick.\n",
    "\n",
    "Take a look at the metadata provided to you by the `streamingQuery`. Think about how impressive the numbers are."
   ]
  },
  {
   "cell_type": "code",
   "execution_count": 29,
   "id": "4f5c9735-e6e2-4354-99ad-f252b0b6a8d0",
   "metadata": {
    "tags": []
   },
   "outputs": [
    {
     "data": {
      "text/plain": [
       "{'id': '3141c605-1730-456b-91c8-f7103abb5df5',\n",
       " 'runId': '0577f9c0-5f46-420c-8711-b6fd7f4cef8d',\n",
       " 'name': 'ecomm_aggs',\n",
       " 'timestamp': '2023-06-29T16:44:21.600Z',\n",
       " 'batchId': 7,\n",
       " 'numInputRows': 1318379,\n",
       " 'inputRowsPerSecond': 434821.56992084434,\n",
       " 'processedRowsPerSecond': 465529.30790960457,\n",
       " 'durationMs': {'addBatch': 2751,\n",
       "  'getBatch': 1,\n",
       "  'latestOffset': 0,\n",
       "  'queryPlanning': 7,\n",
       "  'triggerExecution': 2831,\n",
       "  'walCommit': 33},\n",
       " 'eventTime': {'avg': '2019-10-06T11:39:45.529Z',\n",
       "  'max': '2019-10-06T23:59:59.000Z',\n",
       "  'min': '2019-10-06T00:00:00.000Z',\n",
       "  'watermark': '2019-10-05T16:26:18.000Z'},\n",
       " 'stateOperators': [{'operatorName': 'stateStoreSave',\n",
       "   'numRowsTotal': 908444,\n",
       "   'numRowsUpdated': 870615,\n",
       "   'allUpdatesTimeMs': 3160,\n",
       "   'numRowsRemoved': 0,\n",
       "   'allRemovalsTimeMs': 162,\n",
       "   'commitTimeMs': 1093,\n",
       "   'memoryUsedBytes': 200046208,\n",
       "   'numRowsDroppedByWatermark': 0,\n",
       "   'numShufflePartitions': 32,\n",
       "   'numStateStoreInstances': 32,\n",
       "   'customMetrics': {'loadedMapCacheHitCount': 288,\n",
       "    'loadedMapCacheMissCount': 32,\n",
       "    'stateOnCurrentVersionSizeBytes': 193461440}}],\n",
       " 'sources': [{'description': 'DeltaSource[file:/opt/spark/work-dir/hitchhikers_guide/notebooks/101-first-steps/spark-warehouse/ecomm_by_day]',\n",
       "   'startOffset': {'sourceVersion': 1,\n",
       "    'reservoirId': '847218ed-15b1-4d8e-ab85-6282ec38a707',\n",
       "    'reservoirVersion': 29,\n",
       "    'index': 6,\n",
       "    'isStartingVersion': True},\n",
       "   'endOffset': {'sourceVersion': 1,\n",
       "    'reservoirId': '847218ed-15b1-4d8e-ab85-6282ec38a707',\n",
       "    'reservoirVersion': 29,\n",
       "    'index': 7,\n",
       "    'isStartingVersion': True},\n",
       "   'latestOffset': None,\n",
       "   'numInputRows': 1318379,\n",
       "   'inputRowsPerSecond': 434821.56992084434,\n",
       "   'processedRowsPerSecond': 465529.30790960457}],\n",
       " 'sink': {'description': 'DeltaSink[file:/opt/spark/work-dir/hitchhikers_guide/notebooks/101-first-steps/spark-warehouse/ecomm_aggs_table]',\n",
       "  'numOutputRows': -1}}"
      ]
     },
     "execution_count": 29,
     "metadata": {},
     "output_type": "execute_result"
    },
    {
     "name": "stderr",
     "output_type": "stream",
     "text": [
      "                                                                                \r"
     ]
    }
   ],
   "source": [
    "streamingQuery.lastProgress"
   ]
  },
  {
   "cell_type": "code",
   "execution_count": 34,
   "id": "e767e750-2019-4683-b3ce-4343b6ffd015",
   "metadata": {
    "tags": []
   },
   "outputs": [
    {
     "name": "stdout",
     "output_type": "stream",
     "text": [
      "\n",
      "input_rows_a_second:535215.9450897572\n",
      "\n",
      "processed_rows_a_second: 378528.3793876027\n",
      "\n",
      "\n"
     ]
    },
    {
     "name": "stderr",
     "output_type": "stream",
     "text": [
      "[Stage 181:=========================================>             (24 + 4) / 32]\r"
     ]
    }
   ],
   "source": [
    "lprog = streamingQuery.lastProgress\n",
    "input_rows_sec = lprog['inputRowsPerSecond']\n",
    "processed_rows_sec = lprog['processedRowsPerSecond']\n",
    "\n",
    "print(f\"\"\"\n",
    "input_rows_a_second:{input_rows_sec}\\n\n",
    "processed_rows_a_second: {processed_rows_sec}\\n\n",
    "\"\"\")"
   ]
  },
  {
   "cell_type": "markdown",
   "id": "b994d389-df47-4a30-b344-831e3da1a9b2",
   "metadata": {
    "tags": []
   },
   "source": [
    "^^ The prior output from the StreamingQueryListener is an aggregation of the collected runtime metadata, and statistical\n",
    "behavior captured during the last microBatch. You'll notice that we started on index 16, and endingOffset was 17.\n",
    "\n",
    "# Viewing the Delta Lake Information in the Streaming Query Stats\n",
    "```\n",
    "'startOffset': {\n",
    "  'sourceVersion': 1,\n",
    "  'reservoirId': '027b3701-5c07-46d4-9d96-e5539f81e8bf',\n",
    "  'reservoirVersion': 33,\n",
    "  'index': 16,\n",
    "  'isStartingVersion': True},\n",
    "'endOffset': {\n",
    "  'sourceVersion': 1,\n",
    "  'reservoirId': '027b3701-5c07-46d4-9d96-e5539f81e8bf',\n",
    "  'reservoirVersion': 33,\n",
    "  'index': 17,\n",
    "  'isStartingVersion': True\n",
    "}\n",
    "```\n",
    "\n",
    "This means we can take a look at the operations in the `/_checkpoints/offsets/17` directory. \n",
    "\n",
    "```\n",
    "v1\n",
    "{\"batchWatermarkMs\":1570578599000,\"batchTimestampMs\":1687853100013,\"conf\":{\"spark.sql.streaming.stateStore.providerClass\":\"org.apache.spark.sql.execution.streaming.state.HDFSBackedStateStoreProvider\",\"spark.sql.streaming.join.stateFormatVersion\":\"2\",\"spark.sql.streaming.stateStore.compression.codec\":\"lz4\",\"spark.sql.streaming.stateStore.rocksdb.formatVersion\":\"5\",\"spark.sql.streaming.statefulOperator.useStrictDistribution\":\"true\",\"spark.sql.streaming.flatMapGroupsWithState.stateFormatVersion\":\"2\",\"spark.sql.streaming.multipleWatermarkPolicy\":\"min\",\"spark.sql.streaming.aggregation.stateFormatVersion\":\"2\",\"spark.sql.shuffle.partitions\":\"200\"}}\n",
    "{\"sourceVersion\":1,\"reservoirId\":\"027b3701-5c07-46d4-9d96-e5539f81e8bf\",\"reservoirVersion\":33,\"index\":17,\"isStartingVersion\":true}\n",
    "```"
   ]
  },
  {
   "cell_type": "code",
   "execution_count": 35,
   "id": "8c85a0a7-513e-42f8-82b4-a279b6f0d9b7",
   "metadata": {
    "tags": []
   },
   "outputs": [
    {
     "name": "stderr",
     "output_type": "stream",
     "text": [
      "                                                                                \r"
     ]
    },
    {
     "data": {
      "text/plain": [
       "{'message': 'Processing new data',\n",
       " 'isDataAvailable': True,\n",
       " 'isTriggerActive': True}"
      ]
     },
     "execution_count": 35,
     "metadata": {},
     "output_type": "execute_result"
    },
    {
     "name": "stderr",
     "output_type": "stream",
     "text": [
      "                                                                                \r"
     ]
    }
   ],
   "source": [
    "streamingQuery.status"
   ]
  },
  {
   "cell_type": "code",
   "execution_count": 38,
   "id": "4c02d514-5320-4e1d-abfc-1ef6497ab69b",
   "metadata": {
    "tags": []
   },
   "outputs": [],
   "source": [
    "streamingQuery.stop()"
   ]
  },
  {
   "cell_type": "markdown",
   "id": "03e9d7ff-acb3-4450-b718-ca434ec7aca8",
   "metadata": {
    "tags": []
   },
   "source": [
    "## Applications have State in the form of Checkpoints. \n",
    "> Delta maintains its state in the terms of completed atomic transactions.\n",
    "\n",
    "The application checkpoints track where the application has last successfully read from the Delta Lake table (source), and the application also keeps track of the delta version based on the resulting transformation and insert into the (sink). In our case we read from the `default.ecomm_by_day` and did some windowed aggregations for events per session, and then recorded the results in a new table named `default.ecomm_aggs_table`.\n",
    "\n",
    "Let's peak at the checkpoint data. Open up `"
   ]
  },
  {
   "cell_type": "markdown",
   "id": "b0f8787b-836c-4101-a126-279de702238d",
   "metadata": {
    "tags": []
   },
   "source": [
    "## View the Checkpoint Data\n",
    "> when you are managing a streaming application you will need to be familiar with both the Delta Log, as well as your application's own 'transaction' history which is stored in the 'checkpoints'"
   ]
  },
  {
   "cell_type": "code",
   "execution_count": 41,
   "id": "611cc35e-a070-4f2a-b084-6d068fbb7d9d",
   "metadata": {
    "tags": []
   },
   "outputs": [
    {
     "name": "stdout",
     "output_type": "stream",
     "text": [
      "total 4\n",
      "drwxr-xr-x 46 NBuser NBuser 1472 Jun 29 16:44 commits\n",
      "-rw-r--r--  1 NBuser NBuser   45 Jun 29 16:42 metadata\n",
      "drwxr-xr-x 48 NBuser NBuser 1536 Jun 29 16:44 offsets\n",
      "drwxr-xr-x  3 NBuser NBuser   96 Jun 29 16:42 state\n",
      "21\n",
      "23\n",
      "v1\n",
      "{\"batchWatermarkMs\":1570924199000,\"batchTimestampMs\":1688057094849,\"conf\":{\"spark.sql.streaming.stateStore.providerClass\":\"org.apache.spark.sql.execution.streaming.state.HDFSBackedStateStoreProvider\",\"spark.sql.streaming.join.stateFormatVersion\":\"2\",\"spark.sql.streaming.stateStore.compression.codec\":\"lz4\",\"spark.sql.streaming.stateStore.rocksdb.formatVersion\":\"5\",\"spark.sql.streaming.statefulOperator.useStrictDistribution\":\"true\",\"spark.sql.streaming.flatMapGroupsWithState.stateFormatVersion\":\"2\",\"spark.sql.streaming.multipleWatermarkPolicy\":\"min\",\"spark.sql.streaming.aggregation.stateFormatVersion\":\"2\",\"spark.sql.shuffle.partitions\":\"32\"}}\n",
      "{\"sourceVersion\":1,\"reservoirId\":\"847218ed-15b1-4d8e-ab85-6282ec38a707\",\"reservoirVersion\":29,\"index\":21,\"isStartingVersion\":true}"
     ]
    }
   ],
   "source": [
    "%%sh\n",
    "ls -l ../../applications/dl_streaming_aggs/v0.0.1/_checkpoints/\n",
    "# ls -l ../../applications/dl_streaming_aggs/v0.0.1/_checkpoints/commits/\n",
    "# get the last modifed file in the dir (limit to 1) - this is the last commit version (microbatch number - for structured streaming)\n",
    "ls -t ../../applications/dl_streaming_aggs/v0.0.1/_checkpoints/commits/ | head -1\n",
    "\n",
    "# use the latest version (21 right now for me... 42 maybe for you...)\n",
    "#cat ../../applications/dl_streaming_aggs/v0.0.1/_checkpoints/commits/21\n",
    "# view the commit info\n",
    "#cat ../../applications/dl_streaming_aggs/v0.0.1/_checkpoints/commits/21\n",
    "\n",
    "# view the total number of commits in the commits dir\n",
    "#ls -l ../../applications/dl_streaming_aggs/v0.0.1/_checkpoints/commits/ | wc -l\n",
    "\n",
    "# cat ../../applications/dl_streaming_aggs/v0.0.1/_checkpoints/metadata \n",
    "# ls -l ../../applications/dl_streaming_aggs/v0.0.1/_checkpoints/offsets\n",
    "cat ../../applications/dl_streaming_aggs/v0.0.1/_checkpoints/offsets/21"
   ]
  },
  {
   "cell_type": "markdown",
   "id": "ce70c11e-dcbb-4c49-a1cc-cb051d90ce59",
   "metadata": {
    "tags": []
   },
   "source": [
    "## The Fruits of our Quick Labor\n",
    "The shopping aggregations is our own 'sessionization' based on things that would work for the hitchhikers guide to Delta Lake streaming. Have we learned a lot from the data? Maybe. Have we learned a lot more about how Delta Lake works? Surely."
   ]
  },
  {
   "cell_type": "code",
   "execution_count": 42,
   "id": "e3f2b354-6637-4a54-b30f-d1672f39fa59",
   "metadata": {
    "tags": []
   },
   "outputs": [
    {
     "name": "stdout",
     "output_type": "stream",
     "text": [
      "+------------------------------------------+---------+----------+----------+--------------+\n",
      "|window                                    |user_id  |product_id|event_date|session_events|\n",
      "+------------------------------------------+---------+----------+----------+--------------+\n",
      "|{2019-10-01 23:30:00, 2019-10-02 00:00:00}|552401544|1005142   |2019-10-01|2             |\n",
      "|{2019-10-01 23:30:00, 2019-10-02 00:00:00}|516588862|28714159  |2019-10-01|1             |\n",
      "|{2019-10-01 23:30:00, 2019-10-02 00:00:00}|545908509|4804572   |2019-10-01|1             |\n",
      "|{2019-10-01 23:30:00, 2019-10-02 00:00:00}|539266150|21800077  |2019-10-01|1             |\n",
      "|{2019-10-01 23:30:00, 2019-10-02 00:00:00}|516085824|34800198  |2019-10-01|1             |\n",
      "|{2019-10-01 23:30:00, 2019-10-02 00:00:00}|547382477|1003441   |2019-10-01|2             |\n",
      "|{2019-10-01 23:30:00, 2019-10-02 00:00:00}|552401544|1004266   |2019-10-01|1             |\n",
      "|{2019-10-01 23:30:00, 2019-10-02 00:00:00}|514533649|5100376   |2019-10-01|2             |\n",
      "|{2019-10-01 23:30:00, 2019-10-02 00:00:00}|517813670|26600109  |2019-10-01|1             |\n",
      "|{2019-10-01 23:30:00, 2019-10-02 00:00:00}|516085824|34800092  |2019-10-01|1             |\n",
      "+------------------------------------------+---------+----------+----------+--------------+\n",
      "only showing top 10 rows\n",
      "\n"
     ]
    }
   ],
   "source": [
    "(spark.read\n",
    " .table(\"default.ecomm_aggs_table\")\n",
    " .where(col(\"event_date\").isin(\"2019-10-01\",\"2019-10-02\"))\n",
    " .show(10, truncate=False))"
   ]
  },
  {
   "cell_type": "markdown",
   "id": "2bd05bd4-7963-4c40-8e08-b9df76a296ca",
   "metadata": {
    "tags": []
   },
   "source": [
    "## Extra Homework: Finding Neat Patterns in the Data\n",
    "> shopping is fun. We all do it, some of us even enjoy it. Regardless of your style, the one thing we have in common is that not one of us really shops the same. Investigate the 42 million shopping data points from this dataset to understand how people are shopping. "
   ]
  },
  {
   "cell_type": "code",
   "execution_count": 43,
   "id": "4a68175a-e3ca-4181-949f-331b041ed2bf",
   "metadata": {
    "tags": []
   },
   "outputs": [
    {
     "name": "stdout",
     "output_type": "stream",
     "text": [
      "+-------------------+----------+----------+------------------------------------+---------+\n",
      "|event_time         |event_type|product_id|user_session                        |user_id  |\n",
      "+-------------------+----------+----------+------------------------------------+---------+\n",
      "|2019-10-03 08:40:22|view      |4803399   |a4a0ca8b-ac59-40e0-bd43-b3eb9c55c8c2|512547914|\n",
      "|2019-10-03 15:57:31|view      |4100126   |be9dfb74-42e0-4aba-a3b5-6fd668b11b29|556448302|\n",
      "|2019-10-03 04:08:14|cart      |1004856   |8df80f64-2ffe-4582-b550-17caaaf9e8a5|539188121|\n",
      "|2019-10-03 19:50:20|view      |4300136   |bce391eb-feaf-4d5b-a837-be19cc5bc0ef|516884810|\n",
      "|2019-10-03 08:40:22|view      |1307294   |c5e90c47-4561-41d0-a1db-a6bc526f9236|532217436|\n",
      "|2019-10-03 15:57:31|view      |1004858   |06f9e14c-c24d-4ab9-96b8-776a6eeb06ae|556447869|\n",
      "|2019-10-03 04:08:14|view      |1004566   |be2091a9-0984-41d3-84ba-97ee127c8363|534644707|\n",
      "|2019-10-03 19:50:20|view      |12719961  |f9210eae-101d-4112-a41c-0d3e4f312f91|513123355|\n",
      "|2019-10-03 08:40:23|view      |1004741   |5cde37c3-a8ca-4237-ae68-5d1ac18f5082|515002328|\n",
      "|2019-10-03 15:57:31|view      |10502429  |0fca6c99-5b21-428c-9e44-4122adbd6baa|547310018|\n",
      "|2019-10-03 04:08:14|view      |1004252   |f7c032c5-7d75-42c3-b042-7db5f1006213|537297932|\n",
      "|2019-10-03 19:50:20|view      |1004720   |20918cdd-7ccb-4cbb-bef3-97e8a103d328|530971215|\n",
      "|2019-10-03 08:40:23|view      |1005017   |b524d665-1061-4eec-8290-c83e8f9c1ab7|518638278|\n",
      "|2019-10-03 15:57:31|purchase  |1005126   |8548adf3-c371-4338-8ad9-039ebc95d86a|519145698|\n",
      "|2019-10-03 04:08:14|view      |1305976   |4a2cf126-71e4-4570-b63b-ba91e85aa49d|513612959|\n",
      "|2019-10-03 19:50:20|view      |9101405   |2e27c50b-ea4e-4911-ae91-295125da2978|551676169|\n",
      "|2019-10-03 08:40:23|view      |12201776  |27f105bf-0d85-4ace-8ade-75fbec17422a|519249629|\n",
      "|2019-10-03 15:57:31|view      |22700859  |8550959d-18c9-4171-bd22-ae4a0bd0b903|550193479|\n",
      "|2019-10-03 04:08:14|view      |1004767   |9eef4efe-04c2-428d-b632-778c25850c7c|541695613|\n",
      "|2019-10-03 19:50:20|view      |26400588  |1f313176-7687-454c-aa6a-d6b906aa9495|526825670|\n",
      "|2019-10-03 08:40:23|view      |27000010  |679d3f00-80b0-40ad-a3c3-bab6b5685029|554747991|\n",
      "|2019-10-03 15:57:31|view      |1004873   |4c4dbc86-9edd-4053-9b18-adab7eb707b0|556447966|\n",
      "|2019-10-03 04:08:14|view      |4803121   |ddb30aa0-4143-47bc-9a05-8de8506d14cf|520316333|\n",
      "|2019-10-03 19:50:20|view      |7005293   |8ebae5e6-3aff-4d36-990c-c6a0bfe8955a|517137136|\n",
      "|2019-10-03 08:40:23|view      |11500741  |1a8dee99-2ad3-4589-a327-5ebc2c474c0e|556298291|\n",
      "|2019-10-03 15:57:31|view      |1003363   |5757144b-c31b-404f-8c34-b93c1ea3f7d1|525170420|\n",
      "|2019-10-03 04:08:14|view      |7004509   |44f7d8a2-e9f2-46d6-bc7f-4cc8ca573ddf|513063453|\n",
      "|2019-10-03 19:50:20|view      |49800025  |bb3fbb2a-a701-4ca6-978d-c26d6aa0affb|536487761|\n",
      "|2019-10-03 08:40:23|view      |1801382   |5338da7e-7d58-4747-9f7e-fe12c475b1a7|541529870|\n",
      "|2019-10-03 15:57:31|view      |21401593  |e2197c41-53ec-48d2-958f-d99bc6dea0ce|546409923|\n",
      "|2019-10-03 04:08:14|view      |20700289  |a0eb448c-222c-415f-9db5-08116bac6a1f|512755820|\n",
      "|2019-10-03 19:50:20|view      |16900106  |05e5ac19-d4b9-42f5-aca0-2a38f513fc68|541593552|\n",
      "|2019-10-03 08:40:23|view      |1700403   |86c1276a-3bda-4530-9f6e-ab4d92d01fc6|552173787|\n",
      "|2019-10-03 15:57:31|view      |1004434   |e28c8eb8-89ff-4b8e-a0de-829ae1a89858|556447330|\n",
      "|2019-10-03 04:08:14|view      |1004870   |8bd69e31-2c92-4c70-9c0a-db4d33e75af4|555945008|\n",
      "|2019-10-03 19:50:20|cart      |1801901   |80bfc0b2-d4d1-42b9-ad26-2524683aa99e|512763671|\n",
      "|2019-10-03 08:40:23|view      |3500285   |1a89c1e6-9ee4-426e-90f1-804950a94042|544963819|\n",
      "|2019-10-03 15:57:31|view      |1004433   |33adb64d-758e-45f1-ba9c-8e3671a8d901|541735907|\n",
      "|2019-10-03 04:08:14|view      |22700128  |38e708b0-9b92-4d7c-86f7-81d2c60f4acc|518842440|\n",
      "|2019-10-03 19:50:21|view      |1005014   |e1260cbd-cbff-4887-8a41-ce20f9ec9b22|525298455|\n",
      "|2019-10-03 08:40:23|view      |2100093   |cda9cd61-399a-422e-b239-4396175d8dad|513956937|\n",
      "|2019-10-03 15:57:31|view      |13200019  |5c154857-ba7d-44d5-b3ed-8efc846d804c|514630803|\n",
      "|2019-10-03 04:08:14|view      |1004496   |a6e1f236-abb2-41c9-ad03-417b6c93b669|520158205|\n",
      "|2019-10-03 19:50:21|view      |41600022  |0c6f99a7-c0f8-4351-8d4c-ac366e3b14ee|537105573|\n",
      "|2019-10-03 08:40:23|view      |1801712   |0b63e207-1ff6-4621-a54b-5fc00548ce4c|555942252|\n",
      "|2019-10-03 15:57:31|view      |28718016  |862627ad-700c-4718-9faf-87aa7f831ff2|542402864|\n",
      "|2019-10-03 04:08:14|view      |17700486  |269576fb-8561-4d28-bb13-366abb2c737c|516577494|\n",
      "|2019-10-03 19:50:21|view      |1004246   |dac2a770-f01e-4132-bec5-ef46ed352eec|512790662|\n",
      "|2019-10-03 08:40:23|view      |1005102   |d47e9e74-919a-4fc4-a98a-8f5c623c3dd7|533545235|\n",
      "|2019-10-03 15:57:31|view      |48200027  |f03515f3-acdc-4b8c-afeb-2d0f2d91379a|517976326|\n",
      "|2019-10-03 04:08:14|view      |1004566   |90e6e0da-a034-4a25-a39c-71023dd5e954|540305064|\n",
      "|2019-10-03 19:50:21|view      |5800977   |72ec2dc2-2b6c-4c82-b97d-72b3f8918044|524164566|\n",
      "|2019-10-03 08:40:23|view      |4802036   |2aecd969-f964-4627-a315-81fab2f158fa|547533515|\n",
      "|2019-10-03 15:57:31|view      |5100566   |367eb18e-67ec-4f97-b5b5-a977e204d7ad|515679211|\n",
      "|2019-10-03 04:08:15|view      |1004741   |52be0ca2-9529-46d3-87eb-0f9fab6426f9|513396518|\n",
      "|2019-10-03 19:50:21|view      |26200020  |d2536fcf-d1b2-44c3-be85-bec8006f9c76|544507261|\n",
      "|2019-10-03 08:40:23|view      |22600030  |ec5966d5-53f0-4fa7-a7ae-1090a5e19545|532437436|\n",
      "|2019-10-03 15:57:31|view      |1004530   |850397b8-d2d8-43e6-b418-420a9f48b572|512708481|\n",
      "|2019-10-03 04:08:15|view      |6200358   |41a19e3f-4544-446c-86d3-a03485862226|515187069|\n",
      "|2019-10-03 19:50:22|view      |30000127  |258fc47c-64cc-466f-98dc-956f15cda8a2|546461005|\n",
      "|2019-10-03 08:40:24|view      |1306591   |9e8379dc-402f-46a4-ad42-c139b31d2b08|519136296|\n",
      "|2019-10-03 15:57:31|cart      |1004251   |bcc02ae5-15e8-4f1e-a791-29bfd57dbcb2|514033699|\n",
      "|2019-10-03 04:08:15|view      |7203078   |7119ee1a-e8dc-4180-98d6-8919686a1909|512486671|\n",
      "|2019-10-03 19:50:22|view      |6800658   |23d32687-765d-40a4-aa40-01f8efb57018|518576220|\n",
      "|2019-10-03 08:40:24|view      |21401223  |75dfbfa0-95c9-4541-8719-f45fddf2decf|556300664|\n",
      "|2019-10-03 15:57:31|view      |2800083   |8477bbe4-ce20-4791-803e-82bc1e795cae|555569736|\n",
      "|2019-10-03 04:08:15|purchase  |5100375   |f298dbdc-7c9d-4be7-ba94-6ed2f44e8162|515127939|\n",
      "|2019-10-03 19:50:22|view      |1005187   |a688cbb0-56c5-4ca1-af01-9bd2e22e963a|520957366|\n",
      "|2019-10-03 08:40:24|view      |1004886   |8c648df4-3b9f-4065-be1f-27c4678386ed|520941311|\n",
      "|2019-10-03 15:57:31|view      |1004159   |582781b5-bc61-4227-99df-435f70244c4b|512528672|\n",
      "|2019-10-03 04:08:15|view      |1004720   |14820ed5-dd80-44ef-bcf4-1701c0abb5a2|547534349|\n",
      "|2019-10-03 19:50:22|view      |32401066  |2f58670e-ff07-4686-87ed-dbf809c725e0|513196084|\n",
      "|2019-10-03 08:40:24|view      |12718922  |fb075266-182d-4c11-b5f7-4e4dcdabd4a7|513605798|\n",
      "|2019-10-03 15:57:31|view      |1004565   |30e9869a-5c2a-4b52-a3f9-569c30845a84|518492158|\n",
      "|2019-10-03 04:08:15|view      |4000195   |a8a91d87-ec66-4198-bf6b-39f91f63c97c|550585663|\n",
      "|2019-10-03 19:50:22|view      |1004249   |7db33051-025a-4937-a554-898619eb7f3e|523420098|\n",
      "|2019-10-03 08:40:24|view      |45500010  |a0b867b3-ad57-43d5-a9dd-b0699ee276b1|518643831|\n",
      "|2019-10-03 15:57:31|view      |17500578  |1d0bb954-a17a-4af1-96f6-ae7941830133|515119222|\n",
      "|2019-10-03 04:08:15|view      |1005105   |4389e337-cc16-46e9-8f50-994a186930cf|512384696|\n",
      "|2019-10-03 19:50:22|view      |1801581   |48887294-84f7-4f61-8961-119863bff425|520302514|\n",
      "|2019-10-03 08:40:24|view      |2601938   |c79a20fb-6a4c-4259-8f94-2d0beee0184b|556300756|\n",
      "|2019-10-03 15:57:31|view      |1003535   |b17e136a-e973-45cd-8850-2ed48f48ce7a|517610639|\n",
      "|2019-10-03 04:08:15|view      |2700618   |f1b4ebe4-f4e3-41cc-a7c4-e7c353d8ed47|532825888|\n",
      "|2019-10-03 19:50:22|view      |1003317   |55e6f5cb-048b-42d8-afe0-11fb9f94b86d|513135929|\n",
      "|2019-10-03 08:40:24|view      |7900846   |fa1434cb-9bac-48dd-ada6-baa9fe721ccf|515236681|\n",
      "|2019-10-03 15:57:31|view      |3601500   |448398ce-68af-4109-9139-c98b40cb1f99|547854810|\n",
      "|2019-10-03 04:08:15|view      |28712207  |14933140-8b1e-4c4c-adad-65103ca8a8f5|554494070|\n",
      "|2019-10-03 19:50:22|view      |3700359   |d3706895-2d32-4432-b464-bc8dc4fe1cba|513087701|\n",
      "|2019-10-03 08:40:24|view      |4804295   |7ffc7967-32c5-4b8f-b915-7a6ad2613319|521717716|\n",
      "|2019-10-03 15:57:31|view      |8800754   |80f53118-ccdd-4ec3-afc5-997846a714dd|515904914|\n",
      "|2019-10-03 04:08:15|view      |12800087  |9f28bb19-2227-4709-b151-ca376ee9c32c|513649985|\n",
      "|2019-10-03 19:50:23|view      |5100376   |463963a3-3481-4ec6-9c12-51df912b200e|550753763|\n",
      "|2019-10-03 08:40:24|view      |12704501  |a5b71069-a2d8-49e3-81a4-d680067a7302|530008177|\n",
      "|2019-10-03 15:57:31|view      |26403284  |ea7bc3f3-6a30-4075-8f22-2e633fbf09d5|519978275|\n",
      "|2019-10-03 04:08:15|view      |1005105   |7e1ab2c3-b897-46ae-b142-96a7c3588750|542729909|\n",
      "|2019-10-03 19:50:23|view      |1801382   |0f992091-14d3-46ce-8f72-c553967840a2|527753577|\n",
      "|2019-10-03 08:40:25|view      |1004805   |239952ba-8ed7-4a60-9444-044887d167c9|512478600|\n",
      "|2019-10-03 15:57:31|view      |1003285   |5283508f-dd49-4f2b-b713-e378a1d9091d|514295247|\n",
      "|2019-10-03 04:08:15|view      |1005104   |570b1695-aed2-4bfb-9596-e77df3098013|518084880|\n",
      "|2019-10-03 19:50:23|view      |1002544   |dbe68171-e053-4adc-967f-b31f6cff184a|516439740|\n",
      "+-------------------+----------+----------+------------------------------------+---------+\n",
      "only showing top 100 rows\n",
      "\n"
     ]
    }
   ],
   "source": [
    "(spark.read\n",
    " .table(dl_managed_table)\n",
    " .select(\"event_time\", \"event_type\", \"product_id\", \"user_session\", \"user_id\")\n",
    " .show(100, truncate=False)\n",
    ")"
   ]
  },
  {
   "cell_type": "code",
   "execution_count": null,
   "id": "e5cb4f97-dcfb-4b49-a523-5eaeca53642e",
   "metadata": {
    "tags": []
   },
   "outputs": [],
   "source": [
    "# find a user who has an interesting shopping pattern\n",
    "# this user comes back frequently, views, comes back, and 10 days from the first\n",
    "# view finally makes a purchase\n",
    "\n",
    "(spark.read\n",
    " .table(dl_managed_table)\n",
    " .select(\"event_time\", \"event_type\", \"product_id\", \"user_id\", \"user_session\")\n",
    " .where(col(\"user_id\").eqNullSafe(516224384))\n",
    " .show(100, truncate=False)\n",
    ")"
   ]
  },
  {
   "cell_type": "markdown",
   "id": "1026cfd7-e080-41ca-aaf4-d28644ff8b53",
   "metadata": {},
   "source": [
    "# Cleaning up with Vacuum.\n",
    "We are done with the introduction to Streaming. The First steps covers creating tables, and modifying the table properties, as well as understanding a little more about the structure of a Delta Lake table. During normal processing, you most likely overwrote, or deleted some data, for each transaction that affects the data in a given Delta Lake table, there are some artifacts (call it orphaned data or files) that are no longer needed for the *CURRENT* version of the Delta Lake table. We will learn more about using `vacuum` while preserving enough history to `undo`, `rewind`, or `time-travel` to a particular point in Table Time under "
   ]
  },
  {
   "cell_type": "code",
   "execution_count": null,
   "id": "ec289a34-e8b0-4c76-b9c5-eace8ef765d4",
   "metadata": {
    "tags": []
   },
   "outputs": [],
   "source": [
    "spark.conf.set(\"spark.databricks.delta.retentionDurationCheck.enabled\",\"false\")\n",
    "DeltaTable.forName(spark, ecomm_aggs_table).vacuum(retentionHours=0)\n",
    "spark.conf.set(\"spark.databricks.delta.retentionDurationCheck.enabled\",\"true\")"
   ]
  }
 ],
 "metadata": {
  "kernelspec": {
   "display_name": "Python 3 (ipykernel)",
   "language": "python",
   "name": "python3"
  },
  "language_info": {
   "codemirror_mode": {
    "name": "ipython",
    "version": 3
   },
   "file_extension": ".py",
   "mimetype": "text/x-python",
   "name": "python",
   "nbconvert_exporter": "python",
   "pygments_lexer": "ipython3",
   "version": "3.9.2"
  }
 },
 "nbformat": 4,
 "nbformat_minor": 5
}