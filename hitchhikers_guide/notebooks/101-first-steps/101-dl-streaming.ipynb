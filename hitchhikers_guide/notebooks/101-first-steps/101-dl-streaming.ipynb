{
 "cells": [
  {
   "cell_type": "code",
   "execution_count": 9,
   "id": "a457036d-1d98-46e0-a64e-52faa61300e1",
   "metadata": {
    "tags": []
   },
   "outputs": [],
   "source": [
    "# run first. then have fun.\n",
    "from pyspark.sql.functions import col, current_timestamp, to_date, datediff\n",
    "# stats and agg functions\n",
    "from pyspark.sql.functions import count, session_window, window, sum, min, max, percentile_approx\n",
    "\n",
    "from delta.tables import DeltaTable\n",
    "\n",
    "# keep the default compression codec as zstd\n",
    "spark.conf.set(\"spark.sql.parquet.compression.codec\", \"zstd\")\n",
    "\n",
    "# common dirs, paths\n",
    "dataset_dir = '/opt/spark/work-dir/hitchhikers_guide/datasets/ecomm_behavior_data'\n",
    "delta_path = f\"{dataset_dir}/delta\"\n",
    "\n",
    "# managed table information (from 100-streaming-first-steps)\n",
    "dl_unmanaged_table = \"ecomm\"\n",
    "dl_managed_table = \"ecomm_by_day\""
   ]
  },
  {
   "cell_type": "code",
   "execution_count": 10,
   "id": "05c6ea0a-cdaf-42c6-a1d3-e18293c0b61b",
   "metadata": {
    "tags": []
   },
   "outputs": [
    {
     "data": {
      "text/plain": [
       "'file:/opt/spark/work-dir/hitchhikers_guide/warehouse'"
      ]
     },
     "execution_count": 10,
     "metadata": {},
     "output_type": "execute_result"
    }
   ],
   "source": [
    "spark.conf.get(\"spark.sql.warehouse.dir\")"
   ]
  },
  {
   "cell_type": "markdown",
   "id": "2c37f33a-778d-446f-b041-2820c1a257b2",
   "metadata": {},
   "source": [
    "# Intro to Delta Lake Streaming\n",
    "The following section will reuse the **Delta Lake** `default.ecomm_by_day` table created during [Streaming First Steps](./streaming-first-steps.ipynb).\n",
    "\n",
    "> note: run the following cell to check if you have the local table. You should see `[Table(name='ecomm_by_day', database='default', description=None, tableType='MANAGED', isTemporary=False)]` somewhere in the list (if you have more than one from the work in the Guide)"
   ]
  },
  {
   "cell_type": "code",
   "execution_count": 11,
   "id": "b4a3f372-ea71-436e-9182-25d66c7b989f",
   "metadata": {
    "tags": []
   },
   "outputs": [
    {
     "data": {
      "text/plain": [
       "DataFrame[event_time: timestamp, event_type: string, product_id: int, category_id: bigint, category_code: string, brand: string, price: float, user_id: int, user_session: string, event_date: date]"
      ]
     },
     "execution_count": 11,
     "metadata": {},
     "output_type": "execute_result"
    }
   ],
   "source": [
    "# a few helpful methods for setting the local context\n",
    "# which database like `use that_database` in SQL\n",
    "# with unity catalog (spark.catalog.setCurrentCatalog....)\n",
    "spark.catalog.setCurrentDatabase(\"default\")\n",
    "spark.catalog.listTables()\n",
    "spark.catalog.tableExists(dl_unmanaged_table)\n",
    "spark.table(dl_managed_table)\n"
   ]
  },
  {
   "cell_type": "markdown",
   "id": "6598b8a9-bfb1-49aa-86c9-cc9b1b67f5b8",
   "metadata": {
    "tags": []
   },
   "source": [
    "> Note: If you see `java.sql.SQLException: Failed to start database 'metastore_db' with class loader jdk.internal.loader.ClassLoaders$AppClassLoader...` then you need to detach the `kernel` from the other notebook you have open. You can only have one notebook running with the local Metastore."
   ]
  },
  {
   "cell_type": "markdown",
   "id": "fcd9a92d-0b69-4131-9a17-ccbfe76f97fe",
   "metadata": {},
   "source": [
    "## Successful Streaming Begins with Metadata (lots and lots of metadata)\n",
    "> In other words, if you don't understand how the table is laid out, what the structure of the table is (columns, types, is the table narrow or wide? do you know what any of the columns actually are?\n",
    "\n",
    "Remember, when in lost or in doubt, always consult the data (metadata). To Peek at the Table Metadata with `detail()`\n",
    "* - Use `DeltaTable.forName(spark, 'catalog.schema.table|schema.table|table').detail()` \n",
    "* - or `DeltaTable.forPath(spark, '/path/to/table/).detail()` for Unmanaged tables."
   ]
  },
  {
   "cell_type": "code",
   "execution_count": 12,
   "id": "5075440a-f931-40ea-886e-4249cd10b806",
   "metadata": {
    "tags": []
   },
   "outputs": [
    {
     "name": "stdout",
     "output_type": "stream",
     "text": [
      "root\n",
      " |-- format: string (nullable = true)\n",
      " |-- id: string (nullable = true)\n",
      " |-- name: string (nullable = true)\n",
      " |-- description: string (nullable = true)\n",
      " |-- location: string (nullable = true)\n",
      " |-- createdAt: timestamp (nullable = true)\n",
      " |-- lastModified: timestamp (nullable = true)\n",
      " |-- partitionColumns: array (nullable = true)\n",
      " |    |-- element: string (containsNull = true)\n",
      " |-- numFiles: long (nullable = true)\n",
      " |-- sizeInBytes: long (nullable = true)\n",
      " |-- properties: map (nullable = true)\n",
      " |    |-- key: string\n",
      " |    |-- value: string (valueContainsNull = true)\n",
      " |-- minReaderVersion: integer (nullable = true)\n",
      " |-- minWriterVersion: integer (nullable = true)\n",
      " |-- tableFeatures: array (nullable = true)\n",
      " |    |-- element: string (containsNull = true)\n",
      "\n"
     ]
    }
   ],
   "source": [
    "## Starting Small (Baby Steps)\n",
    "\n",
    "dt_ecomm = DeltaTable.forName(spark, dl_managed_table)\n",
    "table_details = dt_ecomm.detail()\n",
    "\n",
    "# go on, take a peek (no one's looking)\n",
    "table_details.printSchema()"
   ]
  },
  {
   "cell_type": "markdown",
   "id": "9bcfbfd3-2669-4451-9dcf-a0f21b621e2f",
   "metadata": {},
   "source": [
    "### Table Details. Providing you with all the ... well details\n",
    "Scanning the StructType of the `detail()` dataframe gives you a lot of data. The following use cases can be solved with the metadata:\n",
    "\n",
    "```\n",
    "root\n",
    " |-- format: string (nullable = true)\n",
    " |-- id: string (nullable = true)\n",
    " |-- name: string (nullable = true)\n",
    " |-- description: string (nullable = true)\n",
    " |-- location: string (nullable = true)\n",
    " |-- createdAt: timestamp (nullable = true)\n",
    " |-- lastModified: timestamp (nullable = true)\n",
    " |-- partitionColumns: array (nullable = true)\n",
    " |    |-- element: string (containsNull = true)\n",
    " |-- numFiles: long (nullable = true)\n",
    " |-- sizeInBytes: long (nullable = true)\n",
    " |-- properties: map (nullable = true)\n",
    " |    |-- key: string\n",
    " |    |-- value: string (valueContainsNull = true)\n",
    " |-- minReaderVersion: integer (nullable = true)\n",
    " |-- minWriterVersion: integer (nullable = true)\n",
    " |-- tableFeatures: array (nullable = true)\n",
    " |    |-- element: string (containsNull = true)\n",
    "```\n",
    "\n",
    "1. **Calculate Table Freshness**: `abs(current_time()-{table.lastModified})`: To answer the universal question of - \"How Fresh Is It?\".\n",
    "2. **How Fast is the Table Growing?**: Size does matter. If we have two tables, tableA is 100gb and has `createdAt` of one year ago, and tableB is 100gb and was created yesterday, then we've got a scalability monster. Using the `freshness` technique, you can calculate the `days` a table has `existed`, and calculate the `avg` bytes per day using `sizeInBytes`.\n",
    "3. **What is the Table Telling Us?**: Using the `properties` map, we can easily view ALL Table Properties, including those used to `automate` Delta Lake like `delta.logRetentionDuration` or those *we bring to the table* - pun truly intended. Like `catalog.team_name`"
   ]
  },
  {
   "cell_type": "code",
   "execution_count": 13,
   "id": "5c3eb912-19c2-4354-8abf-954701bde8eb",
   "metadata": {
    "tags": []
   },
   "outputs": [
    {
     "name": "stdout",
     "output_type": "stream",
     "text": [
      "+--------------------------+----------+-----------------------+-----------------------+---------+---------+\n",
      "|now                       |todaysDate|createdAt              |lastModified           |ageInDays|staleDays|\n",
      "+--------------------------+----------+-----------------------+-----------------------+---------+---------+\n",
      "|2024-06-03 22:00:18.006635|2024-06-03|2024-06-03 21:51:13.192|2024-06-03 21:51:16.791|0        |0        |\n",
      "+--------------------------+----------+-----------------------+-----------------------+---------+---------+\n",
      "\n",
      "\n",
      "Don't Panic!\n",
      "\n",
      "The table 'spark_catalog.default.ecomm_by_day' has a known classification of 'all-access'.\n",
      "\n",
      "The table is owned by the following team 'dldg_authors'.\n",
      "\n",
      "If we need contact them via slack @ https://delta-users.slack.com/archives/CG9LR6LN4\n",
      "\n"
     ]
    }
   ],
   "source": [
    "# Feel Free to Mess with the following cell to get used to the data available to you about the ecomm_by_day table.\n",
    "from pyspark.sql.functions import col, current_timestamp, to_date, datediff\n",
    "tbl_dets = (\n",
    "    table_details\n",
    "    .withColumn(\"now\", current_timestamp())\n",
    "    .withColumn(\"todaysDate\", to_date(col(\"now\")))\n",
    "    .withColumn(\"ageInDays\", datediff(col(\"todaysDate\"),to_date(\"createdAt\")))\n",
    "    .withColumn(\"staleDays\", datediff(col(\"todaysDate\"),to_date(\"lastModified\")))\n",
    ")\n",
    "# view all the time-based info on the table.\n",
    "(tbl_dets\n",
    " .select(\n",
    "     \"now\",\n",
    "     \"todaysDate\",\n",
    "     \"createdAt\",\n",
    "     \"lastModified\",\n",
    "     \"ageInDays\",\n",
    "     \"staleDays\")\n",
    " .show(truncate=False)\n",
    ")\n",
    "\n",
    "# fetch the dataframe as a local Row\n",
    "dets = tbl_dets.first()\n",
    "# see it's a Row...<class 'pyspark.sql.types.Row'>\n",
    "#print(type(dets))\n",
    "team_name = dets['properties']['catalog.team_name']\n",
    "team_slack = dets['properties']['catalog.engineering.comms.slack']\n",
    "table_classifiction = dets['properties']['catalog.table.classification']\n",
    "\n",
    "# stick to the details\n",
    "print(f\"\"\"\n",
    "Don't Panic!\\n\n",
    "The table '{dets.name}' has a known classification of '{table_classifiction}'.\\n\n",
    "The table is owned by the following team '{team_name}'.\\n\n",
    "If we need contact them via slack @ {team_slack}\n",
    "\"\"\")\n",
    "\n",
    "# or remember not to panic, everything is under control\n",
    "#print(f\"\"\"\n",
    "#I am no longer panicking.\\n \n",
    "#Why you ask?\\n\n",
    "#I know that I can count on {team_name} to deliver gold data, otherwise...\\n\n",
    "#to slack ({team_slack}) we ride questions in hand about the TABLE {dets.name}.\\n\n",
    "#Which happened to be created on {dets.createdAt} and last updated at {dets.lastModified}...\n",
    "#\"\"\")"
   ]
  },
  {
   "cell_type": "markdown",
   "id": "77c57779-c0a0-4ad8-8810-0a335719ca09",
   "metadata": {},
   "source": [
    "## Inspecting the Volume, Size, and Charateristics of a Delta Table\n",
    "> there are many uses for math in a career as a data engineer. One of them is back of the envelope (or mostly right maths!)"
   ]
  },
  {
   "cell_type": "code",
   "execution_count": 14,
   "id": "1474d650-5a72-47ea-9214-b327b0a75da8",
   "metadata": {
    "tags": []
   },
   "outputs": [
    {
     "name": "stdout",
     "output_type": "stream",
     "text": [
      "+--------+--------------------+------------+\n",
      "|numFiles|TableSizeInMegaBytes|avgMBPerFile|\n",
      "+--------+--------------------+------------+\n",
      "|       1|            0.005801|    0.005801|\n",
      "+--------+--------------------+------------+\n",
      "\n"
     ]
    }
   ],
   "source": [
    "bytesToMB = 1000000\n",
    "(tbl_dets\n",
    " .select(\n",
    "     col(\"numFiles\"),\n",
    "     (col(\"sizeInBytes\")/bytesToMB)\n",
    "       .alias(\"TableSizeInMegaBytes\"),\n",
    "     ((col(\"sizeInBytes\")/bytesToMB)/col(\"numFiles\"))\n",
    "       .alias(\"avgMBPerFile\")\n",
    " ).show()\n",
    ")"
   ]
  },
  {
   "cell_type": "markdown",
   "id": "3b0fae51-ea43-4a0d-83ee-b2b4fb2fdfc2",
   "metadata": {},
   "source": [
    "## What We've Learned about the Dataset\n",
    "> Note: The following information is based on the 'complete' ecomm dataset. The full 15gb csv. 807mb is the size on disk after zstd compression and Delta encoding. \n",
    "\n",
    "1. The naive average megabytes per file is around `17mb`. If you run `ls -lh` across any given day, you'll see more of an odd split between say 3mb and 18mb due to non optimized, non-bin backed table data on disk.\n",
    "    - (or the very *improbably* you may see exactly the value `0.0058685MB` if you are using the ***-sm*** dataset)\n",
    "2. There are `142` files taking up a `~2.4gb` for the `entire` table.\n",
    "    - (or even more improbably exactly `4` files taking up `0.023474MB` for the whole table)\n",
    "3. There are probably many more `rows` of data in the table, so if we wanted to get a 'quick' count, then that would be a good idea too. That can give us more `approximate` math to work with (rows/day) - even if we are off - we are better informed with approximate math than wild guesses and hopes and dreams.\n",
    "    - (unless we are looking for Magrathea or being attacked by Vorgons)\n"
   ]
  },
  {
   "cell_type": "code",
   "execution_count": 15,
   "id": "de32047a-73c9-46fc-9858-178cbf1bab06",
   "metadata": {
    "tags": []
   },
   "outputs": [
    {
     "name": "stdout",
     "output_type": "stream",
     "text": [
      "\n",
      "The Table has 64 rows.\n",
      "\n",
      "*Daily Rows of 64.0\n",
      "\n",
      "Total Partitions in Table 1\n",
      "\n",
      "*Avg Files per Partition 1.0\n",
      "\n",
      "*Avg Row Size 90.640625 in Bytes\n",
      "\n",
      "*Avg Rows per Delta Lake File: 64.0\n",
      "\n",
      "Records per Second: 0.0007407407407407407\n",
      "\n",
      "Records per Hour: 2.6666666666666665\n",
      "\n"
     ]
    }
   ],
   "source": [
    "# convert the DeltaTable reference to a DataFrame\n",
    "seconds_in_day = 86400\n",
    "dt_as_df = dt_ecomm.toDF()\n",
    "total_rows = dt_as_df.count()\n",
    "\n",
    "# calculate the total number of partitions\n",
    "# cheating since we are just taking the first of many (or fail if none - we know it is event_date, but still)\n",
    "partitionCol = (dt_ecomm\n",
    "                .detail()\n",
    "                .first()[\"partitionColumns\"][0])\n",
    "total_partitions = (dt_as_df\n",
    "                    .select(col(partitionCol))\n",
    "                    .distinct()\n",
    "                    .count())\n",
    "avg_files_per_partition = dets['numFiles']/total_partitions if total_partitions != 0 else 0\n",
    "rows_per_day = total_rows/dets['numFiles'] if dets['numFiles'] != 0 else 0\n",
    "avg_row_size = dets['sizeInBytes']/total_rows if total_rows !=0 else 0\n",
    "\n",
    "# the * denotes maybe accurate, maybe really off. \n",
    "# - This is mostly cheap approximations (and maybe accurate math)\n",
    "print(f\"\"\"\n",
    "The Table has {total_rows} rows.\\n\n",
    "*Daily Rows of {rows_per_day}\\n\n",
    "Total Partitions in Table {total_partitions}\\n\n",
    "*Avg Files per Partition {avg_files_per_partition}\\n\n",
    "*Avg Row Size {avg_row_size} in Bytes\\n\n",
    "*Avg Rows per Delta Lake File: {rows_per_day/avg_files_per_partition if avg_files_per_partition != 0 else 0}\\n\n",
    "Records per Second: {rows_per_day/seconds_in_day}\\n\n",
    "Records per Hour: {rows_per_day/24}\n",
    "\"\"\")"
   ]
  },
  {
   "cell_type": "markdown",
   "id": "301bd253-cb85-4fc6-a278-30cbe11d3256",
   "metadata": {},
   "source": [
    "# Our First Delta Lake Streaming Operation\n",
    "> Clap your Hands! Or Celebrate However you want. It's time to be Streaming\n",
    "\n",
    "Because we have potentially a gigantic amount of data - (Or depending on the adventure you chose a smaller set of 60, yes it should have been 42, but time...) - regardless, it is time to create our first streaming application.\n",
    "\n",
    "## What We'll Need\n",
    "1. A Place to Store our Application Metadata. Luckily we have our Local File Sytem, so we can just store the application data there for now. (See [common application directory](../../applications/README.md) to understand a little more.\n",
    "2. A [Way of Restricting the Volume of Data We Read](https://docs.delta.io/latest/delta-streaming.html#limit-input-rate)\n",
    "3. A [Means of Ignoring Things](https://docs.databricks.com/structured-streaming/delta-lake.html#ignore-updates-and-deletes) we don't currently care about.\n",
    "3. A Way of Limiting the Frequency in which our Application Runs (just like we want to limit the volume of data, when we start learning how to work with Streaming Data, it is better to slowly increase the rate which we will learn how to do.)"
   ]
  },
  {
   "cell_type": "code",
   "execution_count": 16,
   "id": "fb2ca66b-c1d7-4df1-be63-2685949069e0",
   "metadata": {
    "tags": []
   },
   "outputs": [],
   "source": [
    "#spark.sql(\"drop table default.ecomm_aggs_table\")"
   ]
  },
  {
   "cell_type": "code",
   "execution_count": 17,
   "id": "c78ea8fe-c4ab-48cd-b3e6-65aa4fadf7a3",
   "metadata": {
    "tags": []
   },
   "outputs": [
    {
     "name": "stdout",
     "output_type": "stream",
     "text": [
      "checkpoint_path=../../applications/dl_streaming_aggs/v0.0.1/_checkpoints\n",
      "root\n",
      " |-- event_time: timestamp (nullable = true)\n",
      " |-- event_type: string (nullable = true)\n",
      " |-- product_id: integer (nullable = true)\n",
      " |-- category_id: long (nullable = true)\n",
      " |-- category_code: string (nullable = true)\n",
      " |-- brand: string (nullable = true)\n",
      " |-- price: float (nullable = true)\n",
      " |-- user_id: integer (nullable = true)\n",
      " |-- user_session: string (nullable = true)\n",
      " |-- event_date: date (nullable = true)\n",
      "\n"
     ]
    },
    {
     "name": "stderr",
     "output_type": "stream",
     "text": [
      "24/06/03 22:00:21 WARN HiveExternalCatalog: Couldn't find corresponding Hive SerDe for data source provider delta. Persisting data source table `spark_catalog`.`default`.`ecomm_aggs_table` into Hive metastore in Spark SQL specific format, which is NOT compatible with Hive.\n",
      "24/06/03 22:00:21 WARN ResolveWriteToStream: spark.sql.adaptive.enabled is not supported in streaming DataFrames/Datasets and will be disabled.\n"
     ]
    }
   ],
   "source": [
    "# read from the `default.ecomm_by_day` table, modify the read options to limit the maxFilesPerTrigger\n",
    "# read up to 4 files, do a simple projection (select colA, colB)\n",
    "# write out to a new Delta Lake table. \n",
    "# Checkpoint the progress so we can `pick up where we left off`\n",
    "\n",
    "app_name = \"dl_streaming_aggs\"\n",
    "app_version = \"v0.0.1\"\n",
    "checkpoint_dir = \"../../applications\"\n",
    "checkpoint_path = f\"{checkpoint_dir}/{app_name}/{app_version}/_checkpoints\"\n",
    "print(f\"checkpoint_path={checkpoint_path}\")\n",
    "ecomm_aggs_table = 'default.ecomm_aggs_table'\n",
    "\n",
    "spark.conf.set(\"spark.sql.shuffle.partitions\", \"32\")\n",
    "# create the streaming Delta source object\n",
    "ecomm_by_day_limited = (\n",
    "    spark.readStream\n",
    "    .format(\"delta\")\n",
    "    .option(\"maxFilesPerTrigger\", 4)\n",
    "    .option(\"ignoreChanges\", True)\n",
    "    .option(\"withEventTimeOrder\", True)\n",
    "    .table(dl_managed_table)\n",
    ")\n",
    "\n",
    "# view the schema for the table (since we know everything else about it now too)\n",
    "ecomm_by_day_limited.printSchema()\n",
    "\n",
    "# next select the columns we care about (feel free to switch things up here too)\n",
    "ecomm_aggs = (\n",
    "    ecomm_by_day_limited\n",
    "    .withWatermark(\"event_time\", '10 minutes')\n",
    "    .select(\"event_time\", \"event_type\", \"product_id\", \"user_session\", \"user_id\", \"event_date\")\n",
    "    .groupBy(window(\"event_time\", \"30 minutes\"), \"user_id\", \"product_id\", \"event_date\")\n",
    "    .agg(count(\"event_type\").alias('session_events'))\n",
    ")\n",
    "\n",
    "# next create the streaming sink\n",
    "\n",
    "streamingQuery = (\n",
    "    ecomm_aggs.writeStream\n",
    "    .format(\"delta\")\n",
    "    .queryName(\"ecomm_aggs\")\n",
    "    .option(\"checkpointLocation\", checkpoint_path)\n",
    "    .outputMode(\"append\")\n",
    "    .partitionBy(\"event_date\")\n",
    "    .option(\"overwriteSchema\", False)\n",
    "    # triggers allow us to control the frequency in which a job will run. \n",
    "    # For the java nerds (me included) triggers run like scheduledThreadPools when using `processingTime` \n",
    "    # and once, will fire once and then the job will complete.\n",
    "    #.trigger(processingTime='42 seconds')\n",
    "    .trigger(availableNow=True)\n",
    "    .toTable(ecomm_aggs_table)\n",
    ")"
   ]
  },
  {
   "cell_type": "markdown",
   "id": "0fae0347-0f25-49d3-90f9-9e5ca8977281",
   "metadata": {
    "tags": []
   },
   "source": [
    "## Controlling the StreamingQuery\n",
    "1. We returned a `streamingQuery` object when we executed the last cell before. The Streaming Query object provides you with a gateway into the realtime metrics and behavior of your Delta-Spark based application performance.\n",
    "\n",
    "2. Given the application is `triggering` every `30s` that means twice a minute we'll have more data, as the job slowly chews through the 72 files of the data set, pulling in 600k files per tick.\n",
    "\n",
    "Take a look at the metadata provided to you by the `streamingQuery`. Think about how impressive the numbers are."
   ]
  },
  {
   "cell_type": "code",
   "execution_count": 28,
   "id": "4f5c9735-e6e2-4354-99ad-f252b0b6a8d0",
   "metadata": {
    "tags": []
   },
   "outputs": [
    {
     "data": {
      "text/plain": [
       "{'id': '3c9e757e-e2ee-4930-bcf2-82568d9c2084',\n",
       " 'runId': '84eb0639-e11a-4214-b8b5-ae265245f82b',\n",
       " 'name': 'ecomm_aggs',\n",
       " 'timestamp': '2024-06-03T22:00:27.137Z',\n",
       " 'batchId': 1,\n",
       " 'numInputRows': 0,\n",
       " 'inputRowsPerSecond': 0.0,\n",
       " 'processedRowsPerSecond': 0.0,\n",
       " 'durationMs': {'addBatch': 2067,\n",
       "  'commitOffsets': 41,\n",
       "  'getBatch': 0,\n",
       "  'latestOffset': 35,\n",
       "  'queryPlanning': 18,\n",
       "  'triggerExecution': 2209,\n",
       "  'walCommit': 43},\n",
       " 'eventTime': {'watermark': '2019-09-30T23:50:50.000Z'},\n",
       " 'stateOperators': [{'operatorName': 'stateStoreSave',\n",
       "   'numRowsTotal': 58,\n",
       "   'numRowsUpdated': 0,\n",
       "   'allUpdatesTimeMs': 29,\n",
       "   'numRowsRemoved': 0,\n",
       "   'allRemovalsTimeMs': 47,\n",
       "   'commitTimeMs': 2426,\n",
       "   'memoryUsedBytes': 31480,\n",
       "   'numRowsDroppedByWatermark': 0,\n",
       "   'numShufflePartitions': 32,\n",
       "   'numStateStoreInstances': 32,\n",
       "   'customMetrics': {'loadedMapCacheHitCount': 64,\n",
       "    'loadedMapCacheMissCount': 0,\n",
       "    'stateOnCurrentVersionSizeBytes': 17496}}],\n",
       " 'sources': [{'description': 'DeltaSource[file:/opt/spark/work-dir/hitchhikers_guide/warehouse/ecomm_by_day]',\n",
       "   'startOffset': {'sourceVersion': 1,\n",
       "    'reservoirId': 'c47aee70-429d-40b7-99ef-96d6c0238bc9',\n",
       "    'reservoirVersion': 2,\n",
       "    'index': 0,\n",
       "    'isStartingVersion': True},\n",
       "   'endOffset': {'sourceVersion': 1,\n",
       "    'reservoirId': 'c47aee70-429d-40b7-99ef-96d6c0238bc9',\n",
       "    'reservoirVersion': 2,\n",
       "    'index': 0,\n",
       "    'isStartingVersion': True},\n",
       "   'latestOffset': None,\n",
       "   'numInputRows': 0,\n",
       "   'inputRowsPerSecond': 0.0,\n",
       "   'processedRowsPerSecond': 0.0}],\n",
       " 'sink': {'description': 'DeltaSink[file:/opt/spark/work-dir/hitchhikers_guide/warehouse/ecomm_aggs_table]',\n",
       "  'numOutputRows': -1}}"
      ]
     },
     "execution_count": 28,
     "metadata": {},
     "output_type": "execute_result"
    }
   ],
   "source": [
    "streamingQuery.lastProgress"
   ]
  },
  {
   "cell_type": "code",
   "execution_count": 29,
   "id": "e767e750-2019-4683-b3ce-4343b6ffd015",
   "metadata": {
    "tags": []
   },
   "outputs": [
    {
     "name": "stdout",
     "output_type": "stream",
     "text": [
      "\n",
      "input_rows_a_second:0.0\n",
      "\n",
      "processed_rows_a_second: 0.0\n",
      "\n",
      "\n"
     ]
    }
   ],
   "source": [
    "lprog = streamingQuery.lastProgress\n",
    "input_rows_sec = lprog['inputRowsPerSecond']\n",
    "processed_rows_sec = lprog['processedRowsPerSecond']\n",
    "\n",
    "print(f\"\"\"\n",
    "input_rows_a_second:{input_rows_sec}\\n\n",
    "processed_rows_a_second: {processed_rows_sec}\\n\n",
    "\"\"\")"
   ]
  },
  {
   "cell_type": "markdown",
   "id": "b994d389-df47-4a30-b344-831e3da1a9b2",
   "metadata": {
    "tags": []
   },
   "source": [
    "^^ The prior output from the StreamingQueryListener is an aggregation of the collected runtime metadata, and statistical\n",
    "behavior captured during the last microBatch. You'll notice that we started on index 16, and endingOffset was 17.\n",
    "\n",
    "# Viewing the Delta Lake Information in the Streaming Query Stats\n",
    "```\n",
    "'startOffset': {\n",
    "  'sourceVersion': 1,\n",
    "  'reservoirId': '027b3701-5c07-46d4-9d96-e5539f81e8bf',\n",
    "  'reservoirVersion': 33,\n",
    "  'index': 16,\n",
    "  'isStartingVersion': True},\n",
    "'endOffset': {\n",
    "  'sourceVersion': 1,\n",
    "  'reservoirId': '027b3701-5c07-46d4-9d96-e5539f81e8bf',\n",
    "  'reservoirVersion': 33,\n",
    "  'index': 17,\n",
    "  'isStartingVersion': True\n",
    "}\n",
    "```\n",
    "\n",
    "This means we can take a look at the operations in the `/_checkpoints/offsets/17` directory. \n",
    "\n",
    "```\n",
    "v1\n",
    "{\"batchWatermarkMs\":1570578599000,\"batchTimestampMs\":1687853100013,\"conf\":{\"spark.sql.streaming.stateStore.providerClass\":\"org.apache.spark.sql.execution.streaming.state.HDFSBackedStateStoreProvider\",\"spark.sql.streaming.join.stateFormatVersion\":\"2\",\"spark.sql.streaming.stateStore.compression.codec\":\"lz4\",\"spark.sql.streaming.stateStore.rocksdb.formatVersion\":\"5\",\"spark.sql.streaming.statefulOperator.useStrictDistribution\":\"true\",\"spark.sql.streaming.flatMapGroupsWithState.stateFormatVersion\":\"2\",\"spark.sql.streaming.multipleWatermarkPolicy\":\"min\",\"spark.sql.streaming.aggregation.stateFormatVersion\":\"2\",\"spark.sql.shuffle.partitions\":\"200\"}}\n",
    "{\"sourceVersion\":1,\"reservoirId\":\"027b3701-5c07-46d4-9d96-e5539f81e8bf\",\"reservoirVersion\":33,\"index\":17,\"isStartingVersion\":true}\n",
    "```"
   ]
  },
  {
   "cell_type": "code",
   "execution_count": 30,
   "id": "8c85a0a7-513e-42f8-82b4-a279b6f0d9b7",
   "metadata": {
    "tags": []
   },
   "outputs": [
    {
     "data": {
      "text/plain": [
       "{'message': 'Stopped', 'isDataAvailable': False, 'isTriggerActive': False}"
      ]
     },
     "execution_count": 30,
     "metadata": {},
     "output_type": "execute_result"
    }
   ],
   "source": [
    "streamingQuery.status"
   ]
  },
  {
   "cell_type": "code",
   "execution_count": 31,
   "id": "4c02d514-5320-4e1d-abfc-1ef6497ab69b",
   "metadata": {
    "tags": []
   },
   "outputs": [],
   "source": [
    "streamingQuery.stop()"
   ]
  },
  {
   "cell_type": "markdown",
   "id": "03e9d7ff-acb3-4450-b718-ca434ec7aca8",
   "metadata": {
    "tags": []
   },
   "source": [
    "## Applications have State in the form of Checkpoints. \n",
    "> Delta maintains its state in the terms of completed atomic transactions.\n",
    "\n",
    "The application checkpoints track where the application has last successfully read from the Delta Lake table (source), and the application also keeps track of the delta version based on the resulting transformation and insert into the (sink). In our case we read from the `default.ecomm_by_day` and did some windowed aggregations for events per session, and then recorded the results in a new table named `default.ecomm_aggs_table`.\n",
    "\n",
    "Let's peak at the checkpoint data. Open up `"
   ]
  },
  {
   "cell_type": "markdown",
   "id": "b0f8787b-836c-4101-a126-279de702238d",
   "metadata": {
    "tags": []
   },
   "source": [
    "## View the Checkpoint Data\n",
    "> when you are managing a streaming application you will need to be familiar with both the Delta Log, as well as your application's own 'transaction' history which is stored in the 'checkpoints'"
   ]
  },
  {
   "cell_type": "code",
   "execution_count": 32,
   "id": "611cc35e-a070-4f2a-b084-6d068fbb7d9d",
   "metadata": {
    "tags": []
   },
   "outputs": [
    {
     "name": "stdout",
     "output_type": "stream",
     "text": [
      "total 4\n",
      "drwxr-xr-x 6 NBuser NBuser 192 Jun  3 22:00 commits\n",
      "-rw-r--r-- 1 NBuser NBuser  45 Jun  3 22:00 metadata\n",
      "drwxr-xr-x 6 NBuser NBuser 192 Jun  3 22:00 offsets\n",
      "drwxr-xr-x 3 NBuser NBuser  96 Jun  3 22:00 state\n",
      "../../applications/dl_streaming_aggs/v0.0.1/_checkpoints/commits/1\n",
      "v1\n",
      "{\"nextBatchWatermarkMs\":1569887450000}---\n",
      "TOTAL FILES IN CHECKPOINT DIRECTORY\n",
      "3\n"
     ]
    }
   ],
   "source": [
    "%%bash\n",
    "ls -l ../../applications/dl_streaming_aggs/v0.0.1/_checkpoints/\n",
    "# ls -l ../../applications/dl_streaming_aggs/v0.0.1/_checkpoints/commits/\n",
    "# get the last modifed file in the dir (limit to 1) - this is the last commit version (microbatch number - for structured streaming)\n",
    "\n",
    "# find the latest checkpoint in the checkpoints directory for the streaming application\n",
    "unset -v last_checkpoint\n",
    "for file in \"../../applications/dl_streaming_aggs/v0.0.1/_checkpoints/commits\"/*; do\n",
    "  [[ $file -nt $last_checkpoint ]] && last_checkpoint=$file\n",
    "done\n",
    "\n",
    "echo \"${last_checkpoint}\"\n",
    "# view the commit info\n",
    "cat $last_checkpoint\n",
    "echo \"---\"\n",
    "echo \"TOTAL FILES IN CHECKPOINT DIRECTORY\"\n",
    "# view the total number of commits in the commits dir\n",
    "ls -l ../../applications/dl_streaming_aggs/v0.0.1/_checkpoints/commits/ | wc -l\n",
    "\n",
    "# cat ../../applications/dl_streaming_aggs/v0.0.1/_checkpoints/metadata \n",
    "# ls -l ../../applications/dl_streaming_aggs/v0.0.1/_checkpoints/offsets\n",
    "#cat ../../applications/dl_streaming_aggs/v0.0.1/_checkpoints/offsets/1"
   ]
  },
  {
   "cell_type": "markdown",
   "id": "ce70c11e-dcbb-4c49-a1cc-cb051d90ce59",
   "metadata": {
    "tags": []
   },
   "source": [
    "## The Fruits of our Quick Labor\n",
    "The shopping aggregations is our own 'sessionization' based on things that would work for the hitchhikers guide to Delta Lake streaming. Have we learned a lot from the data? Maybe. Have we learned a lot more about how Delta Lake works? Surely."
   ]
  },
  {
   "cell_type": "code",
   "execution_count": 33,
   "id": "e3f2b354-6637-4a54-b30f-d1672f39fa59",
   "metadata": {
    "tags": []
   },
   "outputs": [
    {
     "name": "stdout",
     "output_type": "stream",
     "text": [
      "+------+-------+----------+----------+--------------+\n",
      "|window|user_id|product_id|event_date|session_events|\n",
      "+------+-------+----------+----------+--------------+\n",
      "+------+-------+----------+----------+--------------+\n",
      "\n"
     ]
    }
   ],
   "source": [
    "(spark.read\n",
    " .table(\"default.ecomm_aggs_table\")\n",
    " .where(col(\"event_date\").isin(\"2019-10-01\",\"2019-10-02\"))\n",
    " .show(10, truncate=False))"
   ]
  },
  {
   "cell_type": "markdown",
   "id": "2bd05bd4-7963-4c40-8e08-b9df76a296ca",
   "metadata": {
    "tags": []
   },
   "source": [
    "## Extra Homework: Finding Neat Patterns in the Data\n",
    "> shopping is fun. We all do it, some of us even enjoy it. Regardless of your style, the one thing we have in common is that not one of us really shops the same. Investigate the 42 million shopping data points from this dataset to understand how people are shopping. "
   ]
  },
  {
   "cell_type": "code",
   "execution_count": 34,
   "id": "4a68175a-e3ca-4181-949f-331b041ed2bf",
   "metadata": {
    "tags": []
   },
   "outputs": [
    {
     "name": "stdout",
     "output_type": "stream",
     "text": [
      "+-------------------+----------+----------+------------------------------------+---------+\n",
      "|event_time         |event_type|product_id|user_session                        |user_id  |\n",
      "+-------------------+----------+----------+------------------------------------+---------+\n",
      "|2019-10-01 00:00:00|view      |44600062  |72d76fde-8bb3-4e00-8c23-a032dfed738c|541312140|\n",
      "|2019-10-01 00:00:00|view      |3900821   |9333dfbd-b87a-4708-9857-6336556b0fcc|554748717|\n",
      "|2019-10-01 00:00:01|view      |17200506  |566511c2-e2e3-422b-b695-cf8e6e792ca8|519107250|\n",
      "|2019-10-01 00:00:01|view      |1307067   |7c90fc70-0e80-4590-96f3-13c02c18c713|550050854|\n",
      "|2019-10-01 00:00:04|view      |1004237   |c6bd7419-2748-4c56-95b4-8cec9ff8b80d|535871217|\n",
      "|2019-10-01 00:00:05|view      |1480613   |0d0d91c2-c9c2-4e81-90a5-86594dec0db9|512742880|\n",
      "|2019-10-01 00:00:08|view      |17300353  |4fe811e9-91de-46da-90c3-bbd87ed3a65d|555447699|\n",
      "|2019-10-01 00:00:08|view      |31500053  |6280d577-25c8-4147-99a7-abc6048498d6|550978835|\n",
      "|2019-10-01 00:00:10|view      |28719074  |ac1cd4e5-a3ce-4224-a2d7-ff660a105880|520571932|\n",
      "|2019-10-01 00:00:11|view      |1004545   |406c46ed-90a4-4787-a43b-59a410c1a5fb|537918940|\n",
      "|2019-10-01 00:00:11|view      |2900536   |b5bdd0b3-4ca2-4c55-939e-9ce44bb50abd|555158050|\n",
      "|2019-10-01 00:00:11|view      |1005011   |50a293fb-5940-41b2-baf3-17af0e812101|530282093|\n",
      "|2019-10-01 00:00:13|view      |3900746   |98b88fa0-d8fa-4b9d-8a71-3dd403afab85|555444559|\n",
      "|2019-10-01 00:00:15|view      |44600062  |72d76fde-8bb3-4e00-8c23-a032dfed738c|541312140|\n",
      "|2019-10-01 00:00:16|view      |13500240  |7f0062d8-ead0-4e0a-96f6-43a0b79a2fc4|555446365|\n",
      "|2019-10-01 00:00:17|view      |23100006  |17566c27-0a8f-4506-9f30-c6a2ccbf583b|513642368|\n",
      "|2019-10-01 00:00:18|view      |1801995   |e3151795-c355-4efa-acf6-e1fe1bebeee5|537192226|\n",
      "|2019-10-01 00:00:18|view      |10900029  |901b9e3c-3f8f-4147-a442-c25d5c5ed332|519528062|\n",
      "|2019-10-01 00:00:19|view      |1306631   |7c90fc70-0e80-4590-96f3-13c02c18c713|550050854|\n",
      "|2019-10-01 00:00:19|view      |1005135   |c6bd7419-2748-4c56-95b4-8cec9ff8b80d|535871217|\n",
      "|2019-10-01 00:00:20|view      |1003306   |6ec635da-ea15-4a5d-96b4-c8ca9d38f89f|555446831|\n",
      "|2019-10-01 00:00:20|view      |4803399   |8a6afed4-77f8-40c9-8e76-e062b28216ce|555428858|\n",
      "|2019-10-01 00:00:22|view      |1480714   |0d0d91c2-c9c2-4e81-90a5-86594dec0db9|512742880|\n",
      "|2019-10-01 00:00:23|view      |1004739   |9882d21f-2c5f-496b-90d4-a1503edb6562|519530528|\n",
      "|2019-10-01 00:00:23|view      |6200260   |7d9a8784-7b6c-426e-9924-9f688812fd71|538645907|\n",
      "|2019-10-01 00:00:24|view      |1003306   |6ec635da-ea15-4a5d-96b4-c8ca9d38f89f|555446831|\n",
      "|2019-10-01 00:00:24|view      |34700031  |f27a45f8-fb98-459a-96a6-45271f56a987|539512263|\n",
      "|2019-10-01 00:00:25|view      |3900990   |5459fbe4-2aa5-42b9-9064-05f853218fe0|554748717|\n",
      "|2019-10-01 00:00:25|view      |27500014  |74d40a28-41f9-4325-bbae-b179bd2c0a38|555217733|\n",
      "|2019-10-01 00:00:25|view      |19001139  |83f584ed-c7f7-442e-8ae9-713cb27fdece|525734504|\n",
      "|2019-10-01 00:00:26|view      |28719071  |ac1cd4e5-a3ce-4224-a2d7-ff660a105880|520571932|\n",
      "|2019-10-01 00:00:26|view      |13500046  |7f0062d8-ead0-4e0a-96f6-43a0b79a2fc4|555446365|\n",
      "|2019-10-01 00:00:27|view      |31501072  |6280d577-25c8-4147-99a7-abc6048498d6|550978835|\n",
      "|2019-10-01 00:00:27|view      |10800001  |5fe9d0a0-0de6-47de-a55a-eae9f89475cd|539194858|\n",
      "|2019-10-01 00:00:28|view      |28600026  |889da81c-2cfc-4df6-a038-ed436c79ee80|555447224|\n",
      "|2019-10-01 00:00:28|view      |26200591  |99617d1c-1b5a-42f8-99f1-42ad83a6155f|548449430|\n",
      "|2019-10-01 00:00:28|view      |28714755  |99877fbe-d5a8-475e-a662-66bc9d29b6f8|555447570|\n",
      "|2019-10-01 00:00:30|view      |3701388   |0e30e1c0-4d3e-4e1a-90e3-ab93b5f5c1a2|515342595|\n",
      "|2019-10-01 00:00:31|view      |3900746   |98b88fa0-d8fa-4b9d-8a71-3dd403afab85|555444559|\n",
      "|2019-10-01 00:00:31|view      |28718079  |75fb5d0c-e907-4293-9c87-2419c2a7709d|545323115|\n",
      "|2019-10-01 00:00:33|view      |2700239   |f102dd9b-1cbc-4271-b1f8-a34548d02ec3|521242564|\n",
      "|2019-10-01 00:00:33|view      |28717908  |2034798f-43f2-8bcb-b169-c5f04a7a5a4f|513798668|\n",
      "|2019-10-01 00:00:34|view      |26200591  |b50d1ae8-1948-4517-8460-09b7601ceef6|555447748|\n",
      "|2019-10-01 00:00:35|view      |3701244   |d90a6f2f-0d0f-47cf-9fe9-62db93dffdb9|515535834|\n",
      "|2019-10-01 00:00:35|view      |4300070   |bb8e28c8-d11f-428a-95e7-056e974fe835|544648245|\n",
      "|2019-10-01 00:00:35|view      |3601505   |5ec9bd77-beef-443e-b987-62ffb55b8132|526631741|\n",
      "|2019-10-01 00:00:36|view      |12712064  |828dbd8e-8683-409b-aef6-6a94ac983b45|515454339|\n",
      "|2019-10-01 00:00:36|view      |3600575   |bd0302ef-c5ca-4b6a-b916-95cc2840c72c|554754045|\n",
      "|2019-10-01 00:00:36|view      |2900475   |6eaaf55a-7bbe-4b3d-95a8-f3b3e31c39c8|533078094|\n",
      "|2019-10-01 00:00:36|view      |1004767   |9a206ba2-37c7-4354-9d31-37ff3bb297ed|512558158|\n",
      "+-------------------+----------+----------+------------------------------------+---------+\n",
      "only showing top 50 rows\n",
      "\n"
     ]
    }
   ],
   "source": [
    "(spark.read\n",
    " .table(dl_managed_table)\n",
    " .select(\"event_time\", \"event_type\", \"product_id\", \"user_session\", \"user_id\")\n",
    " .show(50, truncate=False)\n",
    ")"
   ]
  },
  {
   "cell_type": "code",
   "execution_count": 35,
   "id": "e5cb4f97-dcfb-4b49-a523-5eaeca53642e",
   "metadata": {
    "tags": []
   },
   "outputs": [
    {
     "name": "stdout",
     "output_type": "stream",
     "text": [
      "+----------+----------+----------+-------+------------+\n",
      "|event_time|event_type|product_id|user_id|user_session|\n",
      "+----------+----------+----------+-------+------------+\n",
      "+----------+----------+----------+-------+------------+\n",
      "\n"
     ]
    }
   ],
   "source": [
    "# find a user who has an interesting shopping pattern\n",
    "# this user comes back frequently, views, comes back, and 10 days from the first\n",
    "# view finally makes a purchase\n",
    "\n",
    "(spark.read\n",
    " .table(dl_managed_table)\n",
    " .select(\"event_time\", \"event_type\", \"product_id\", \"user_id\", \"user_session\")\n",
    " .where(col(\"user_id\").eqNullSafe(516224384))\n",
    " .show(50, truncate=False)\n",
    ")"
   ]
  },
  {
   "cell_type": "markdown",
   "id": "1026cfd7-e080-41ca-aaf4-d28644ff8b53",
   "metadata": {},
   "source": [
    "# Cleaning up with Vacuum.\n",
    "We are done with the introduction to Streaming. The First steps covers creating tables, and modifying the table properties, as well as understanding a little more about the structure of a Delta Lake table. During normal processing, you most likely overwrote, or deleted some data, for each transaction that affects the data in a given Delta Lake table, there are some artifacts (call it orphaned data or files) that are no longer needed for the *CURRENT* version of the Delta Lake table. We will learn more about using `vacuum` while preserving enough history to `undo`, `rewind`, or `time-travel` to a particular point in Table Time under "
   ]
  },
  {
   "cell_type": "code",
   "execution_count": 36,
   "id": "ec289a34-e8b0-4c76-b9c5-eace8ef765d4",
   "metadata": {
    "tags": []
   },
   "outputs": [
    {
     "name": "stderr",
     "output_type": "stream",
     "text": [
      "                                                                                \r"
     ]
    },
    {
     "name": "stdout",
     "output_type": "stream",
     "text": [
      "Deleted 0 files and directories in a total of 1 directories.\n"
     ]
    },
    {
     "name": "stderr",
     "output_type": "stream",
     "text": [
      "24/06/03 22:33:43 WARN JavaUtils: Attempt to delete using native Unix OS command failed for path = /tmp/blockmgr-c84de906-7921-4b7a-90a7-8b2c3a0f1cd0. Falling back to Java IO way\n",
      "java.io.IOException: Failed to delete: /tmp/blockmgr-c84de906-7921-4b7a-90a7-8b2c3a0f1cd0\n",
      "\tat org.apache.spark.network.util.JavaUtils.deleteRecursivelyUsingUnixNative(JavaUtils.java:173)\n",
      "\tat org.apache.spark.network.util.JavaUtils.deleteRecursively(JavaUtils.java:109)\n",
      "\tat org.apache.spark.network.util.JavaUtils.deleteRecursively(JavaUtils.java:90)\n",
      "\tat org.apache.spark.util.SparkFileUtils.deleteRecursively(SparkFileUtils.scala:121)\n",
      "\tat org.apache.spark.util.SparkFileUtils.deleteRecursively$(SparkFileUtils.scala:120)\n",
      "\tat org.apache.spark.util.Utils$.deleteRecursively(Utils.scala:1126)\n",
      "\tat org.apache.spark.storage.DiskBlockManager.$anonfun$doStop$1(DiskBlockManager.scala:368)\n",
      "\tat org.apache.spark.storage.DiskBlockManager.$anonfun$doStop$1$adapted(DiskBlockManager.scala:364)\n",
      "\tat scala.collection.IndexedSeqOptimized.foreach(IndexedSeqOptimized.scala:36)\n",
      "\tat scala.collection.IndexedSeqOptimized.foreach$(IndexedSeqOptimized.scala:33)\n",
      "\tat scala.collection.mutable.ArrayOps$ofRef.foreach(ArrayOps.scala:198)\n",
      "\tat org.apache.spark.storage.DiskBlockManager.doStop(DiskBlockManager.scala:364)\n",
      "\tat org.apache.spark.storage.DiskBlockManager.$anonfun$addShutdownHook$2(DiskBlockManager.scala:346)\n",
      "\tat org.apache.spark.util.SparkShutdownHook.run(ShutdownHookManager.scala:214)\n",
      "\tat org.apache.spark.util.SparkShutdownHookManager.$anonfun$runAll$2(ShutdownHookManager.scala:188)\n",
      "\tat scala.runtime.java8.JFunction0$mcV$sp.apply(JFunction0$mcV$sp.java:23)\n",
      "\tat org.apache.spark.util.Utils$.logUncaughtExceptions(Utils.scala:1928)\n",
      "\tat org.apache.spark.util.SparkShutdownHookManager.$anonfun$runAll$1(ShutdownHookManager.scala:188)\n",
      "\tat scala.runtime.java8.JFunction0$mcV$sp.apply(JFunction0$mcV$sp.java:23)\n",
      "\tat scala.util.Try$.apply(Try.scala:213)\n",
      "\tat org.apache.spark.util.SparkShutdownHookManager.runAll(ShutdownHookManager.scala:188)\n",
      "\tat org.apache.spark.util.SparkShutdownHookManager$$anon$2.run(ShutdownHookManager.scala:178)\n",
      "\tat java.base/java.util.concurrent.Executors$RunnableAdapter.call(Unknown Source)\n",
      "\tat java.base/java.util.concurrent.FutureTask.run(Unknown Source)\n",
      "\tat java.base/java.util.concurrent.ThreadPoolExecutor.runWorker(Unknown Source)\n",
      "\tat java.base/java.util.concurrent.ThreadPoolExecutor$Worker.run(Unknown Source)\n",
      "\tat java.base/java.lang.Thread.run(Unknown Source)\n",
      "24/06/03 22:33:43 WARN JavaUtils: Attempt to delete using native Unix OS command failed for path = /tmp/blockmgr-c84de906-7921-4b7a-90a7-8b2c3a0f1cd0. Falling back to Java IO way\n",
      "java.io.IOException: Failed to delete: /tmp/blockmgr-c84de906-7921-4b7a-90a7-8b2c3a0f1cd0\n",
      "\tat org.apache.spark.network.util.JavaUtils.deleteRecursivelyUsingUnixNative(JavaUtils.java:173)\n",
      "\tat org.apache.spark.network.util.JavaUtils.deleteRecursively(JavaUtils.java:109)\n",
      "\tat org.apache.spark.network.util.JavaUtils.deleteRecursively(JavaUtils.java:90)\n",
      "\tat org.apache.spark.util.SparkFileUtils.deleteRecursively(SparkFileUtils.scala:121)\n",
      "\tat org.apache.spark.util.SparkFileUtils.deleteRecursively$(SparkFileUtils.scala:120)\n",
      "\tat org.apache.spark.util.Utils$.deleteRecursively(Utils.scala:1126)\n",
      "\tat org.apache.spark.storage.DiskBlockManager.$anonfun$doStop$1(DiskBlockManager.scala:368)\n",
      "\tat org.apache.spark.storage.DiskBlockManager.$anonfun$doStop$1$adapted(DiskBlockManager.scala:364)\n",
      "\tat scala.collection.IndexedSeqOptimized.foreach(IndexedSeqOptimized.scala:36)\n",
      "\tat scala.collection.IndexedSeqOptimized.foreach$(IndexedSeqOptimized.scala:33)\n",
      "\tat scala.collection.mutable.ArrayOps$ofRef.foreach(ArrayOps.scala:198)\n",
      "\tat org.apache.spark.storage.DiskBlockManager.doStop(DiskBlockManager.scala:364)\n",
      "\tat org.apache.spark.storage.DiskBlockManager.stop(DiskBlockManager.scala:359)\n",
      "\tat org.apache.spark.storage.BlockManager.stop(BlockManager.scala:2124)\n",
      "\tat org.apache.spark.SparkEnv.stop(SparkEnv.scala:95)\n",
      "\tat org.apache.spark.SparkContext.$anonfun$stop$25(SparkContext.scala:2310)\n",
      "\tat org.apache.spark.util.Utils$.tryLogNonFatalError(Utils.scala:1375)\n",
      "\tat org.apache.spark.SparkContext.stop(SparkContext.scala:2310)\n",
      "\tat org.apache.spark.SparkContext.stop(SparkContext.scala:2216)\n",
      "\tat org.apache.spark.api.java.JavaSparkContext.stop(JavaSparkContext.scala:550)\n",
      "\tat java.base/jdk.internal.reflect.NativeMethodAccessorImpl.invoke0(Native Method)\n",
      "\tat java.base/jdk.internal.reflect.NativeMethodAccessorImpl.invoke(Unknown Source)\n",
      "\tat java.base/jdk.internal.reflect.DelegatingMethodAccessorImpl.invoke(Unknown Source)\n",
      "\tat java.base/java.lang.reflect.Method.invoke(Unknown Source)\n",
      "\tat py4j.reflection.MethodInvoker.invoke(MethodInvoker.java:244)\n",
      "\tat py4j.reflection.ReflectionEngine.invoke(ReflectionEngine.java:374)\n",
      "\tat py4j.Gateway.invoke(Gateway.java:282)\n",
      "\tat py4j.commands.AbstractCommand.invokeMethod(AbstractCommand.java:132)\n",
      "\tat py4j.commands.CallCommand.execute(CallCommand.java:79)\n",
      "\tat py4j.ClientServerConnection.waitForCommands(ClientServerConnection.java:182)\n",
      "\tat py4j.ClientServerConnection.run(ClientServerConnection.java:106)\n",
      "\tat java.base/java.lang.Thread.run(Unknown Source)\n",
      "24/06/03 22:33:43 WARN JavaUtils: Attempt to delete using native Unix OS command failed for path = /tmp/blockmgr-c84de906-7921-4b7a-90a7-8b2c3a0f1cd0/0c. Falling back to Java IO way\n",
      "java.io.IOException: Failed to delete: /tmp/blockmgr-c84de906-7921-4b7a-90a7-8b2c3a0f1cd0/0c\n",
      "\tat org.apache.spark.network.util.JavaUtils.deleteRecursivelyUsingUnixNative(JavaUtils.java:173)\n",
      "\tat org.apache.spark.network.util.JavaUtils.deleteRecursively(JavaUtils.java:109)\n",
      "\tat org.apache.spark.network.util.JavaUtils.deleteRecursivelyUsingJavaIO(JavaUtils.java:129)\n",
      "\tat org.apache.spark.network.util.JavaUtils.deleteRecursively(JavaUtils.java:117)\n",
      "\tat org.apache.spark.network.util.JavaUtils.deleteRecursively(JavaUtils.java:90)\n",
      "\tat org.apache.spark.util.SparkFileUtils.deleteRecursively(SparkFileUtils.scala:121)\n",
      "\tat org.apache.spark.util.SparkFileUtils.deleteRecursively$(SparkFileUtils.scala:120)\n",
      "\tat org.apache.spark.util.Utils$.deleteRecursively(Utils.scala:1126)\n",
      "\tat org.apache.spark.storage.DiskBlockManager.$anonfun$doStop$1(DiskBlockManager.scala:368)\n",
      "\tat org.apache.spark.storage.DiskBlockManager.$anonfun$doStop$1$adapted(DiskBlockManager.scala:364)\n",
      "\tat scala.collection.IndexedSeqOptimized.foreach(IndexedSeqOptimized.scala:36)\n",
      "\tat scala.collection.IndexedSeqOptimized.foreach$(IndexedSeqOptimized.scala:33)\n",
      "\tat scala.collection.mutable.ArrayOps$ofRef.foreach(ArrayOps.scala:198)\n",
      "\tat org.apache.spark.storage.DiskBlockManager.doStop(DiskBlockManager.scala:364)\n",
      "\tat org.apache.spark.storage.DiskBlockManager.stop(DiskBlockManager.scala:359)\n",
      "\tat org.apache.spark.storage.BlockManager.stop(BlockManager.scala:2124)\n",
      "\tat org.apache.spark.SparkEnv.stop(SparkEnv.scala:95)\n",
      "\tat org.apache.spark.SparkContext.$anonfun$stop$25(SparkContext.scala:2310)\n",
      "\tat org.apache.spark.util.Utils$.tryLogNonFatalError(Utils.scala:1375)\n",
      "\tat org.apache.spark.SparkContext.stop(SparkContext.scala:2310)\n",
      "\tat org.apache.spark.SparkContext.stop(SparkContext.scala:2216)\n",
      "\tat org.apache.spark.api.java.JavaSparkContext.stop(JavaSparkContext.scala:550)\n",
      "\tat java.base/jdk.internal.reflect.NativeMethodAccessorImpl.invoke0(Native Method)\n",
      "\tat java.base/jdk.internal.reflect.NativeMethodAccessorImpl.invoke(Unknown Source)\n",
      "\tat java.base/jdk.internal.reflect.DelegatingMethodAccessorImpl.invoke(Unknown Source)\n",
      "\tat java.base/java.lang.reflect.Method.invoke(Unknown Source)\n",
      "\tat py4j.reflection.MethodInvoker.invoke(MethodInvoker.java:244)\n",
      "\tat py4j.reflection.ReflectionEngine.invoke(ReflectionEngine.java:374)\n",
      "\tat py4j.Gateway.invoke(Gateway.java:282)\n",
      "\tat py4j.commands.AbstractCommand.invokeMethod(AbstractCommand.java:132)\n",
      "\tat py4j.commands.CallCommand.execute(CallCommand.java:79)\n",
      "\tat py4j.ClientServerConnection.waitForCommands(ClientServerConnection.java:182)\n",
      "\tat py4j.ClientServerConnection.run(ClientServerConnection.java:106)\n",
      "\tat java.base/java.lang.Thread.run(Unknown Source)\n",
      "24/06/03 22:33:43 WARN JavaUtils: Attempt to delete using native Unix OS command failed for path = /tmp/blockmgr-c84de906-7921-4b7a-90a7-8b2c3a0f1cd0/0c. Falling back to Java IO way\n",
      "java.io.IOException: Failed to delete: /tmp/blockmgr-c84de906-7921-4b7a-90a7-8b2c3a0f1cd0/0c\n",
      "\tat org.apache.spark.network.util.JavaUtils.deleteRecursivelyUsingUnixNative(JavaUtils.java:173)\n",
      "\tat org.apache.spark.network.util.JavaUtils.deleteRecursively(JavaUtils.java:109)\n",
      "\tat org.apache.spark.network.util.JavaUtils.deleteRecursivelyUsingJavaIO(JavaUtils.java:129)\n",
      "\tat org.apache.spark.network.util.JavaUtils.deleteRecursively(JavaUtils.java:117)\n",
      "\tat org.apache.spark.network.util.JavaUtils.deleteRecursively(JavaUtils.java:90)\n",
      "\tat org.apache.spark.util.SparkFileUtils.deleteRecursively(SparkFileUtils.scala:121)\n",
      "\tat org.apache.spark.util.SparkFileUtils.deleteRecursively$(SparkFileUtils.scala:120)\n",
      "\tat org.apache.spark.util.Utils$.deleteRecursively(Utils.scala:1126)\n",
      "\tat org.apache.spark.storage.DiskBlockManager.$anonfun$doStop$1(DiskBlockManager.scala:368)\n",
      "\tat org.apache.spark.storage.DiskBlockManager.$anonfun$doStop$1$adapted(DiskBlockManager.scala:364)\n",
      "\tat scala.collection.IndexedSeqOptimized.foreach(IndexedSeqOptimized.scala:36)\n",
      "\tat scala.collection.IndexedSeqOptimized.foreach$(IndexedSeqOptimized.scala:33)\n",
      "\tat scala.collection.mutable.ArrayOps$ofRef.foreach(ArrayOps.scala:198)\n",
      "\tat org.apache.spark.storage.DiskBlockManager.doStop(DiskBlockManager.scala:364)\n",
      "\tat org.apache.spark.storage.DiskBlockManager.$anonfun$addShutdownHook$2(DiskBlockManager.scala:346)\n",
      "\tat org.apache.spark.util.SparkShutdownHook.run(ShutdownHookManager.scala:214)\n",
      "\tat org.apache.spark.util.SparkShutdownHookManager.$anonfun$runAll$2(ShutdownHookManager.scala:188)\n",
      "\tat scala.runtime.java8.JFunction0$mcV$sp.apply(JFunction0$mcV$sp.java:23)\n",
      "\tat org.apache.spark.util.Utils$.logUncaughtExceptions(Utils.scala:1928)\n",
      "\tat org.apache.spark.util.SparkShutdownHookManager.$anonfun$runAll$1(ShutdownHookManager.scala:188)\n",
      "\tat scala.runtime.java8.JFunction0$mcV$sp.apply(JFunction0$mcV$sp.java:23)\n",
      "\tat scala.util.Try$.apply(Try.scala:213)\n",
      "\tat org.apache.spark.util.SparkShutdownHookManager.runAll(ShutdownHookManager.scala:188)\n",
      "\tat org.apache.spark.util.SparkShutdownHookManager$$anon$2.run(ShutdownHookManager.scala:178)\n",
      "\tat java.base/java.util.concurrent.Executors$RunnableAdapter.call(Unknown Source)\n",
      "\tat java.base/java.util.concurrent.FutureTask.run(Unknown Source)\n",
      "\tat java.base/java.util.concurrent.ThreadPoolExecutor.runWorker(Unknown Source)\n",
      "\tat java.base/java.util.concurrent.ThreadPoolExecutor$Worker.run(Unknown Source)\n",
      "\tat java.base/java.lang.Thread.run(Unknown Source)\n",
      "ERROR:root:Exception while sending command.\n",
      "Traceback (most recent call last):\n",
      "  File \"/opt/spark/python/lib/py4j-0.10.9.7-src.zip/py4j/clientserver.py\", line 516, in send_command\n",
      "    raise Py4JNetworkError(\"Answer from Java side is empty\")\n",
      "py4j.protocol.Py4JNetworkError: Answer from Java side is empty\n",
      "\n",
      "During handling of the above exception, another exception occurred:\n",
      "\n",
      "Traceback (most recent call last):\n",
      "  File \"/opt/spark/python/lib/py4j-0.10.9.7-src.zip/py4j/java_gateway.py\", line 1038, in send_command\n",
      "    response = connection.send_command(command)\n",
      "  File \"/opt/spark/python/lib/py4j-0.10.9.7-src.zip/py4j/clientserver.py\", line 539, in send_command\n",
      "    raise Py4JNetworkError(\n",
      "py4j.protocol.Py4JNetworkError: Error while sending or receiving\n"
     ]
    }
   ],
   "source": [
    "spark.conf.set(\"spark.databricks.delta.retentionDurationCheck.enabled\",\"false\")\n",
    "DeltaTable.forName(spark, ecomm_aggs_table).vacuum(retentionHours=0)\n",
    "spark.conf.set(\"spark.databricks.delta.retentionDurationCheck.enabled\",\"true\")"
   ]
  },
  {
   "cell_type": "code",
   "execution_count": null,
   "id": "27270b28-039e-4ccc-8220-df5111d7955b",
   "metadata": {},
   "outputs": [],
   "source": []
  }
 ],
 "metadata": {
  "kernelspec": {
   "display_name": "Python 3 (ipykernel)",
   "language": "python",
   "name": "python3"
  },
  "language_info": {
   "codemirror_mode": {
    "name": "ipython",
    "version": 3
   },
   "file_extension": ".py",
   "mimetype": "text/x-python",
   "name": "python",
   "nbconvert_exporter": "python",
   "pygments_lexer": "ipython3",
   "version": "3.8.10"
  }
 },
 "nbformat": 4,
 "nbformat_minor": 5
}
