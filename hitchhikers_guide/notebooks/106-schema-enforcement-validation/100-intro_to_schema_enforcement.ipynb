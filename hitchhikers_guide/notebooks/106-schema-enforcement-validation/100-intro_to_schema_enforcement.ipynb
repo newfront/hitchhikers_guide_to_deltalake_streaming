{
 "cells": [
  {
   "cell_type": "markdown",
   "id": "9329ddab-39e9-4ce9-846b-268a924139ed",
   "metadata": {},
   "source": [
    "# Striking a Fine Balance Between Fast and Easy, and Fast and Accurate\n",
    "> schema-enforcement is policiing the precious 'structure' of your 'existing' table.\n",
    "> if it does the job right, then no harm may come to said 'schema'"
   ]
  },
  {
   "cell_type": "markdown",
   "id": "1916f6ef-981e-42f2-810d-952eb8f3c014",
   "metadata": {},
   "source": [
    "## Use Case One: Import to Delta from Parquet to generate initial Schema"
   ]
  },
  {
   "cell_type": "code",
   "execution_count": 21,
   "id": "61405f62-3d95-4503-b2ae-3abc4b3bb2c0",
   "metadata": {
    "tags": []
   },
   "outputs": [],
   "source": [
    "from delta.tables import DeltaTable\n",
    "from pyspark.sql.functions import col, concat_ws, sha1"
   ]
  },
  {
   "cell_type": "code",
   "execution_count": 65,
   "id": "6077962a-4e58-44b7-909f-3d870629e2c2",
   "metadata": {},
   "outputs": [],
   "source": [
    "table_path = \"/opt/spark/work-dir/hitchhikers_guide/datasets/ecomm_behavior_data/delta/ecomm/\"\n",
    "\n",
    "# using an existing table (we must not screw this up!)\n",
    "dt = DeltaTable.forPath(spark, table_path)"
   ]
  },
  {
   "cell_type": "code",
   "execution_count": 66,
   "id": "eaddee52-6373-42b7-bb2d-b2411b140389",
   "metadata": {},
   "outputs": [],
   "source": [
    "results = (\n",
    "    dt.toDF()\n",
    "    .where(\n",
    "        col(\"event_date\").isin([\"2019-10-01\",\"2019-10-02\"])\n",
    "    )\n",
    "    .limit(10)\n",
    ")"
   ]
  },
  {
   "cell_type": "code",
   "execution_count": 67,
   "id": "e4d071fc-61e0-44fa-95b9-6dc7963950aa",
   "metadata": {},
   "outputs": [
    {
     "name": "stdout",
     "output_type": "stream",
     "text": [
      "+-------------------+----------+----------+-------------------+--------------------+----------+-------+---------+--------------------+----------+\n",
      "|         event_time|event_type|product_id|        category_id|       category_code|     brand|  price|  user_id|        user_session|event_date|\n",
      "+-------------------+----------+----------+-------------------+--------------------+----------+-------+---------+--------------------+----------+\n",
      "|2019-10-01 00:00:00|      view|  44600062|2103807459595387724|                NULL|  shiseido|  35.79|541312140|72d76fde-8bb3-4e0...|2019-10-01|\n",
      "|2019-10-01 10:45:06|      view|  28717654|2053013565639492569|       apparel.shoes|      NULL|   99.1|548846299|2cef6570-ab23-4d2...|2019-10-01|\n",
      "|2019-10-01 00:00:00|      view|   3900821|2053013552326770905|appliances.enviro...|      aqua|   33.2|554748717|9333dfbd-b87a-470...|2019-10-01|\n",
      "|2019-10-01 10:45:06|      view|   1307336|2053013558920217191|  computers.notebook|      asus| 357.25|555589651|49c30221-e410-41d...|2019-10-01|\n",
      "|2019-10-01 00:00:01|      view|  17200506|2053013559792632471|furniture.living_...|      NULL|  543.1|519107250|566511c2-e2e3-422...|2019-10-01|\n",
      "|2019-10-01 10:45:06|      view|  12705409|2053013553559896355|                NULL|bfgoodrich|  52.77|512678039|eeb2e389-1e20-4a9...|2019-10-01|\n",
      "|2019-10-01 00:00:01|      view|   1307067|2053013558920217191|  computers.notebook|    lenovo| 251.74|550050854|7c90fc70-0e80-459...|2019-10-01|\n",
      "|2019-10-01 10:45:06|      view|   1004249|2053013555631882655|electronics.smart...|     apple| 738.39|514416090|442f9c0b-93a0-456...|2019-10-01|\n",
      "|2019-10-01 00:00:04|      view|   1004237|2053013555631882655|electronics.smart...|     apple|1081.98|535871217|c6bd7419-2748-4c5...|2019-10-01|\n",
      "|2019-10-01 10:45:06|      view|   3600661|2053013563810775923|appliances.kitche...|   samsung| 295.49|555577245|47012c6d-fa63-476...|2019-10-01|\n",
      "+-------------------+----------+----------+-------------------+--------------------+----------+-------+---------+--------------------+----------+\n",
      "\n"
     ]
    }
   ],
   "source": [
    "results.show()"
   ]
  },
  {
   "cell_type": "markdown",
   "id": "a3341a10-383b-4ffb-a261-c1594af97c39",
   "metadata": {},
   "source": [
    "## Schema Enforcement is Here for Us. It isn't acting against us.\n",
    "> It is normal for us to need to make changes to our tables.\n",
    "> \n",
    "> After all, that is part of our job description. The way we make the modifications is what is really important.\n",
    "\n",
    "Ask yourself if you are making the _correct_ change to a given table. Also ask yourself if you are making a _breaking_change_?\n",
    "\n"
   ]
  },
  {
   "cell_type": "code",
   "execution_count": 68,
   "id": "a8016145-b222-4162-9d05-e0805a35423e",
   "metadata": {},
   "outputs": [],
   "source": [
    "# If we add a random column to our `results` \n",
    "# and then overwrite the two days of data using the `event_time` column in our `partitionBy` clause — that could corrupt the rest of the table (if this was parquet)\n",
    "\n",
    "# this is simple enough: concat two columns, and then hash them with sha1, and add a new column named `category_id_event_type_col` (bad name... I know!)\n",
    "lets_break_stuff = (\n",
    "    results.withColumn(\n",
    "        \"category_id_event_type_col\", \n",
    "        sha1(concat_ws(\"_\", col(\"event_type\"), col(\"category_id\")))\n",
    "    )\n",
    ")"
   ]
  },
  {
   "cell_type": "code",
   "execution_count": 69,
   "id": "148c4ad6-404b-4667-96f2-26e0537f07f0",
   "metadata": {},
   "outputs": [
    {
     "name": "stdout",
     "output_type": "stream",
     "text": [
      "+-------------------+----------+----------+-------------------+--------------------+----------+-------+---------+--------------------+----------+--------------------------+\n",
      "|         event_time|event_type|product_id|        category_id|       category_code|     brand|  price|  user_id|        user_session|event_date|category_id_event_type_col|\n",
      "+-------------------+----------+----------+-------------------+--------------------+----------+-------+---------+--------------------+----------+--------------------------+\n",
      "|2019-10-01 00:00:00|      view|  44600062|2103807459595387724|                NULL|  shiseido|  35.79|541312140|72d76fde-8bb3-4e0...|2019-10-01|      04fea625d663b0f33...|\n",
      "|2019-10-01 10:45:06|      view|  28717654|2053013565639492569|       apparel.shoes|      NULL|   99.1|548846299|2cef6570-ab23-4d2...|2019-10-01|      5b9e1f86433535cc5...|\n",
      "|2019-10-01 00:00:00|      view|   3900821|2053013552326770905|appliances.enviro...|      aqua|   33.2|554748717|9333dfbd-b87a-470...|2019-10-01|      66417fb4f02131edd...|\n",
      "|2019-10-01 10:45:06|      view|   1307336|2053013558920217191|  computers.notebook|      asus| 357.25|555589651|49c30221-e410-41d...|2019-10-01|      2c852e8c7d025a4bd...|\n",
      "|2019-10-01 00:00:01|      view|  17200506|2053013559792632471|furniture.living_...|      NULL|  543.1|519107250|566511c2-e2e3-422...|2019-10-01|      93b57b466290af771...|\n",
      "|2019-10-01 10:45:06|      view|  12705409|2053013553559896355|                NULL|bfgoodrich|  52.77|512678039|eeb2e389-1e20-4a9...|2019-10-01|      730f4370c8cecca6e...|\n",
      "|2019-10-01 00:00:01|      view|   1307067|2053013558920217191|  computers.notebook|    lenovo| 251.74|550050854|7c90fc70-0e80-459...|2019-10-01|      2c852e8c7d025a4bd...|\n",
      "|2019-10-01 10:45:06|      view|   1004249|2053013555631882655|electronics.smart...|     apple| 738.39|514416090|442f9c0b-93a0-456...|2019-10-01|      2ad2130b3bafca64b...|\n",
      "|2019-10-01 00:00:04|      view|   1004237|2053013555631882655|electronics.smart...|     apple|1081.98|535871217|c6bd7419-2748-4c5...|2019-10-01|      2ad2130b3bafca64b...|\n",
      "|2019-10-01 10:45:06|      view|   3600661|2053013563810775923|appliances.kitche...|   samsung| 295.49|555577245|47012c6d-fa63-476...|2019-10-01|      d27d424d44c7779f6...|\n",
      "+-------------------+----------+----------+-------------------+--------------------+----------+-------+---------+--------------------+----------+--------------------------+\n",
      "\n"
     ]
    }
   ],
   "source": [
    "lets_break_stuff.show()"
   ]
  },
  {
   "cell_type": "markdown",
   "id": "faad443f-2c30-435c-9fa1-3c914813b0ff",
   "metadata": {},
   "source": [
    "## Delta Will Step in to Stop Us if we are being Naughty\n",
    "> Go ahead. Try to modify the schema.\n",
    "\n",
    "The following will attempt to add the new `category_id_event_type_col` and drop the useful `product_id` column. While this is just an example of how Delta Schema Enforcement comes to the rescue and saves the day, it is also something to be aware of. We don't need to break things by accident. "
   ]
  },
  {
   "cell_type": "code",
   "execution_count": 70,
   "id": "5ef28799-0e75-47de-89af-319240234998",
   "metadata": {},
   "outputs": [
    {
     "ename": "AnalysisException",
     "evalue": "A schema mismatch detected when writing to the Delta table (Table ID: e09582e2-ff59-47ba-a624-ff6d6855dcb5).\nTo enable schema migration using DataFrameWriter or DataStreamWriter, please set:\n'.option(\"mergeSchema\", \"true\")'.\nFor other operations, set the session configuration\nspark.databricks.delta.schema.autoMerge.enabled to \"true\". See the documentation\nspecific to the operation for details.\n\nTable schema:\nroot\n-- event_time: timestamp (nullable = true)\n-- event_type: string (nullable = true)\n-- product_id: integer (nullable = true)\n-- category_id: long (nullable = true)\n-- category_code: string (nullable = true)\n-- brand: string (nullable = true)\n-- price: float (nullable = true)\n-- user_id: integer (nullable = true)\n-- user_session: string (nullable = true)\n-- event_date: date (nullable = true)\n\n\nData schema:\nroot\n-- event_time: timestamp (nullable = true)\n-- event_type: string (nullable = true)\n-- category_id: long (nullable = true)\n-- category_code: string (nullable = true)\n-- brand: string (nullable = true)\n-- price: float (nullable = true)\n-- user_id: integer (nullable = true)\n-- user_session: string (nullable = true)\n-- event_date: date (nullable = true)\n-- category_id_event_type_col: string (nullable = true)\n\n         \nTo overwrite your schema or change partitioning, please set:\n'.option(\"overwriteSchema\", \"true\")'.\n\nNote that the schema can't be overwritten when using\n'replaceWhere'.\n         ",
     "output_type": "error",
     "traceback": [
      "\u001b[0;31m---------------------------------------------------------------------------\u001b[0m",
      "\u001b[0;31mAnalysisException\u001b[0m                         Traceback (most recent call last)",
      "Cell \u001b[0;32mIn[70], line 4\u001b[0m\n\u001b[1;32m      1\u001b[0m \u001b[38;5;66;03m# now here is where we would be making a potentially breaking change\u001b[39;00m\n\u001b[1;32m      2\u001b[0m \u001b[38;5;66;03m# if we drop `product_id` then we no longer understand what \"was purchased\" and the ecomm data no longer is valueable (at least to me).\u001b[39;00m\n\u001b[1;32m      3\u001b[0m (\n\u001b[0;32m----> 4\u001b[0m     \u001b[43mlets_break_stuff\u001b[49m\n\u001b[1;32m      5\u001b[0m \u001b[43m    \u001b[49m\u001b[38;5;241;43m.\u001b[39;49m\u001b[43mdrop\u001b[49m\u001b[43m(\u001b[49m\u001b[38;5;124;43m\"\u001b[39;49m\u001b[38;5;124;43mproduct_id\u001b[39;49m\u001b[38;5;124;43m\"\u001b[39;49m\u001b[43m)\u001b[49m\n\u001b[1;32m      6\u001b[0m \u001b[43m    \u001b[49m\u001b[38;5;241;43m.\u001b[39;49m\u001b[43mwrite\u001b[49m\n\u001b[1;32m      7\u001b[0m \u001b[43m    \u001b[49m\u001b[38;5;241;43m.\u001b[39;49m\u001b[43mformat\u001b[49m\u001b[43m(\u001b[49m\u001b[38;5;124;43m\"\u001b[39;49m\u001b[38;5;124;43mdelta\u001b[39;49m\u001b[38;5;124;43m\"\u001b[39;49m\u001b[43m)\u001b[49m\n\u001b[1;32m      8\u001b[0m \u001b[43m    \u001b[49m\u001b[38;5;241;43m.\u001b[39;49m\u001b[43mmode\u001b[49m\u001b[43m(\u001b[49m\u001b[38;5;124;43m\"\u001b[39;49m\u001b[38;5;124;43moverwrite\u001b[39;49m\u001b[38;5;124;43m\"\u001b[39;49m\u001b[43m)\u001b[49m\n\u001b[1;32m      9\u001b[0m \u001b[43m    \u001b[49m\u001b[38;5;241;43m.\u001b[39;49m\u001b[43mpartitionBy\u001b[49m\u001b[43m(\u001b[49m\u001b[38;5;124;43m\"\u001b[39;49m\u001b[38;5;124;43mevent_date\u001b[39;49m\u001b[38;5;124;43m\"\u001b[39;49m\u001b[43m)\u001b[49m\n\u001b[1;32m     10\u001b[0m \u001b[43m    \u001b[49m\u001b[38;5;241;43m.\u001b[39;49m\u001b[43moption\u001b[49m\u001b[43m(\u001b[49m\u001b[38;5;124;43m\"\u001b[39;49m\u001b[38;5;124;43mpath\u001b[39;49m\u001b[38;5;124;43m\"\u001b[39;49m\u001b[43m,\u001b[49m\u001b[43m \u001b[49m\u001b[43mtable_path\u001b[49m\u001b[43m)\u001b[49m\n\u001b[1;32m     11\u001b[0m \u001b[43m    \u001b[49m\u001b[38;5;241;43m.\u001b[39;49m\u001b[43msave\u001b[49m\u001b[43m(\u001b[49m\u001b[43m)\u001b[49m\n\u001b[1;32m     12\u001b[0m )\n",
      "File \u001b[0;32m/opt/spark/python/pyspark/sql/readwriter.py:1461\u001b[0m, in \u001b[0;36mDataFrameWriter.save\u001b[0;34m(self, path, format, mode, partitionBy, **options)\u001b[0m\n\u001b[1;32m   1459\u001b[0m     \u001b[38;5;28mself\u001b[39m\u001b[38;5;241m.\u001b[39mformat(\u001b[38;5;28mformat\u001b[39m)\n\u001b[1;32m   1460\u001b[0m \u001b[38;5;28;01mif\u001b[39;00m path \u001b[38;5;129;01mis\u001b[39;00m \u001b[38;5;28;01mNone\u001b[39;00m:\n\u001b[0;32m-> 1461\u001b[0m     \u001b[38;5;28;43mself\u001b[39;49m\u001b[38;5;241;43m.\u001b[39;49m\u001b[43m_jwrite\u001b[49m\u001b[38;5;241;43m.\u001b[39;49m\u001b[43msave\u001b[49m\u001b[43m(\u001b[49m\u001b[43m)\u001b[49m\n\u001b[1;32m   1462\u001b[0m \u001b[38;5;28;01melse\u001b[39;00m:\n\u001b[1;32m   1463\u001b[0m     \u001b[38;5;28mself\u001b[39m\u001b[38;5;241m.\u001b[39m_jwrite\u001b[38;5;241m.\u001b[39msave(path)\n",
      "File \u001b[0;32m/opt/spark/python/lib/py4j-0.10.9.7-src.zip/py4j/java_gateway.py:1322\u001b[0m, in \u001b[0;36mJavaMember.__call__\u001b[0;34m(self, *args)\u001b[0m\n\u001b[1;32m   1316\u001b[0m command \u001b[38;5;241m=\u001b[39m proto\u001b[38;5;241m.\u001b[39mCALL_COMMAND_NAME \u001b[38;5;241m+\u001b[39m\\\n\u001b[1;32m   1317\u001b[0m     \u001b[38;5;28mself\u001b[39m\u001b[38;5;241m.\u001b[39mcommand_header \u001b[38;5;241m+\u001b[39m\\\n\u001b[1;32m   1318\u001b[0m     args_command \u001b[38;5;241m+\u001b[39m\\\n\u001b[1;32m   1319\u001b[0m     proto\u001b[38;5;241m.\u001b[39mEND_COMMAND_PART\n\u001b[1;32m   1321\u001b[0m answer \u001b[38;5;241m=\u001b[39m \u001b[38;5;28mself\u001b[39m\u001b[38;5;241m.\u001b[39mgateway_client\u001b[38;5;241m.\u001b[39msend_command(command)\n\u001b[0;32m-> 1322\u001b[0m return_value \u001b[38;5;241m=\u001b[39m \u001b[43mget_return_value\u001b[49m\u001b[43m(\u001b[49m\n\u001b[1;32m   1323\u001b[0m \u001b[43m    \u001b[49m\u001b[43manswer\u001b[49m\u001b[43m,\u001b[49m\u001b[43m \u001b[49m\u001b[38;5;28;43mself\u001b[39;49m\u001b[38;5;241;43m.\u001b[39;49m\u001b[43mgateway_client\u001b[49m\u001b[43m,\u001b[49m\u001b[43m \u001b[49m\u001b[38;5;28;43mself\u001b[39;49m\u001b[38;5;241;43m.\u001b[39;49m\u001b[43mtarget_id\u001b[49m\u001b[43m,\u001b[49m\u001b[43m \u001b[49m\u001b[38;5;28;43mself\u001b[39;49m\u001b[38;5;241;43m.\u001b[39;49m\u001b[43mname\u001b[49m\u001b[43m)\u001b[49m\n\u001b[1;32m   1325\u001b[0m \u001b[38;5;28;01mfor\u001b[39;00m temp_arg \u001b[38;5;129;01min\u001b[39;00m temp_args:\n\u001b[1;32m   1326\u001b[0m     \u001b[38;5;28;01mif\u001b[39;00m \u001b[38;5;28mhasattr\u001b[39m(temp_arg, \u001b[38;5;124m\"\u001b[39m\u001b[38;5;124m_detach\u001b[39m\u001b[38;5;124m\"\u001b[39m):\n",
      "File \u001b[0;32m/opt/spark/python/pyspark/errors/exceptions/captured.py:185\u001b[0m, in \u001b[0;36mcapture_sql_exception.<locals>.deco\u001b[0;34m(*a, **kw)\u001b[0m\n\u001b[1;32m    181\u001b[0m converted \u001b[38;5;241m=\u001b[39m convert_exception(e\u001b[38;5;241m.\u001b[39mjava_exception)\n\u001b[1;32m    182\u001b[0m \u001b[38;5;28;01mif\u001b[39;00m \u001b[38;5;129;01mnot\u001b[39;00m \u001b[38;5;28misinstance\u001b[39m(converted, UnknownException):\n\u001b[1;32m    183\u001b[0m     \u001b[38;5;66;03m# Hide where the exception came from that shows a non-Pythonic\u001b[39;00m\n\u001b[1;32m    184\u001b[0m     \u001b[38;5;66;03m# JVM exception message.\u001b[39;00m\n\u001b[0;32m--> 185\u001b[0m     \u001b[38;5;28;01mraise\u001b[39;00m converted \u001b[38;5;28;01mfrom\u001b[39;00m \u001b[38;5;28;01mNone\u001b[39;00m\n\u001b[1;32m    186\u001b[0m \u001b[38;5;28;01melse\u001b[39;00m:\n\u001b[1;32m    187\u001b[0m     \u001b[38;5;28;01mraise\u001b[39;00m\n",
      "\u001b[0;31mAnalysisException\u001b[0m: A schema mismatch detected when writing to the Delta table (Table ID: e09582e2-ff59-47ba-a624-ff6d6855dcb5).\nTo enable schema migration using DataFrameWriter or DataStreamWriter, please set:\n'.option(\"mergeSchema\", \"true\")'.\nFor other operations, set the session configuration\nspark.databricks.delta.schema.autoMerge.enabled to \"true\". See the documentation\nspecific to the operation for details.\n\nTable schema:\nroot\n-- event_time: timestamp (nullable = true)\n-- event_type: string (nullable = true)\n-- product_id: integer (nullable = true)\n-- category_id: long (nullable = true)\n-- category_code: string (nullable = true)\n-- brand: string (nullable = true)\n-- price: float (nullable = true)\n-- user_id: integer (nullable = true)\n-- user_session: string (nullable = true)\n-- event_date: date (nullable = true)\n\n\nData schema:\nroot\n-- event_time: timestamp (nullable = true)\n-- event_type: string (nullable = true)\n-- category_id: long (nullable = true)\n-- category_code: string (nullable = true)\n-- brand: string (nullable = true)\n-- price: float (nullable = true)\n-- user_id: integer (nullable = true)\n-- user_session: string (nullable = true)\n-- event_date: date (nullable = true)\n-- category_id_event_type_col: string (nullable = true)\n\n         \nTo overwrite your schema or change partitioning, please set:\n'.option(\"overwriteSchema\", \"true\")'.\n\nNote that the schema can't be overwritten when using\n'replaceWhere'.\n         "
     ]
    }
   ],
   "source": [
    "# now here is where we would be making a potentially breaking change\n",
    "# if we drop `product_id` then we no longer understand what \"was purchased\" and the ecomm data no longer is valueable (at least to me).\n",
    "(\n",
    "    lets_break_stuff\n",
    "    .drop(\"product_id\")\n",
    "    .write\n",
    "    .format(\"delta\")\n",
    "    .mode(\"overwrite\")\n",
    "    .partitionBy(\"event_date\")\n",
    "    .option(\"path\", table_path)\n",
    "    .save()\n",
    ")"
   ]
  },
  {
   "cell_type": "markdown",
   "id": "35dfeb9d-29e5-4e41-81b8-c5e2a82d30cc",
   "metadata": {},
   "source": [
    "# We have Options when it comes to How We Modify the Table\n",
    "> Just like in life. There are always choices to make. For Delta, we can either \"automatically\" adapt to schema changes (if we trust our upstream data sources), or we can \"opt-in\" to schema changes.\n",
    "\n",
    "## When to Automatically Opt-In to Schema Changes\n",
    "If you have a high level of trust in the upstream data product (source, team, owners) and you want to \"allow\" changes to flow that respect **type saftey** then we can use `.option(\"mergeSchema\", \"true\")` to automatically \"reflect\" changes.\n",
    "\n",
    "## When to Opt-In to Schema Changes\n",
    "If we ignore the fact that we can **automatically** merge type-safe changes to our Delta tables, then we can run traditional `ALTER TABLE name ADD COLUMNS` to manually reflect the changes to the table we are expecting. This is the traditional route, but when it comes to \"what\" flows downstream. Always remember that it is better to have a job fail with an AnalysisException than for potentially problematic changes to blindly flow down to your own data customers.\n"
   ]
  },
  {
   "cell_type": "code",
   "execution_count": 71,
   "id": "af49f47e-30bb-4b07-86f7-84d1453d8620",
   "metadata": {},
   "outputs": [
    {
     "name": "stderr",
     "output_type": "stream",
     "text": [
      "                                                                                \r"
     ]
    },
    {
     "data": {
      "text/plain": [
       "DataFrame[]"
      ]
     },
     "execution_count": 71,
     "metadata": {},
     "output_type": "execute_result"
    }
   ],
   "source": [
    "# Opt-in to the correct changes\n",
    "# if we know we want to keep the change. Then let's do this with respect\n",
    "spark.sql(f\"\"\"\n",
    "ALTER TABLE delta.`{table_path}`\n",
    "ADD COLUMNS (\n",
    "  category_id_event_type_col STRING\n",
    ")\n",
    "\"\"\")"
   ]
  },
  {
   "cell_type": "code",
   "execution_count": 77,
   "id": "2e9a7c99-da00-45d8-a9f2-a47f1362b56f",
   "metadata": {},
   "outputs": [
    {
     "name": "stdout",
     "output_type": "stream",
     "text": [
      "+-------+-----------+-------------------------------------------------------------------------------------------------------------+\n",
      "|version|operation  |operationParameters                                                                                          |\n",
      "+-------+-----------+-------------------------------------------------------------------------------------------------------------+\n",
      "|14     |ADD COLUMNS|{columns -> [{\"column\":{\"name\":\"category_id_event_type_col\",\"type\":\"string\",\"nullable\":true,\"metadata\":{}}}]}|\n",
      "+-------+-----------+-------------------------------------------------------------------------------------------------------------+\n",
      "\n"
     ]
    }
   ],
   "source": [
    "dt2 = DeltaTable.forPath(spark, table_path)\n",
    "dt2.history(1).select(\"version\", \"operation\", \"operationParameters\").show(truncate=False)"
   ]
  },
  {
   "cell_type": "code",
   "execution_count": 78,
   "id": "a82fa9fa-5914-49d4-aea1-daa2b2edefcf",
   "metadata": {},
   "outputs": [],
   "source": [
    "# Use Automatic Merges with a Grain of Salt\n",
    "# The above could have been done by changing the query from \n",
    "\n",
    "(\n",
    "    lets_break_stuff\n",
    "    .drop(\"product_id\")\n",
    "    .write\n",
    "    .format(\"delta\")\n",
    "    .mode(\"overwrite\")\n",
    "    .partitionBy(\"event_date\")\n",
    "    .option(\"mergeSchame\", \"true\")\n",
    "    .option(\"path\", table_path)\n",
    "    .save()\n",
    ")"
   ]
  },
  {
   "cell_type": "code",
   "execution_count": 79,
   "id": "76e4591c-cca0-4416-b257-40bddb41ccef",
   "metadata": {},
   "outputs": [
    {
     "name": "stdout",
     "output_type": "stream",
     "text": [
      "+-------+---------+--------------------------------------------------+\n",
      "|version|operation|operationParameters                               |\n",
      "+-------+---------+--------------------------------------------------+\n",
      "|15     |WRITE    |{mode -> Overwrite, partitionBy -> [\"event_date\"]}|\n",
      "+-------+---------+--------------------------------------------------+\n",
      "\n"
     ]
    }
   ],
   "source": [
    "dt2.history(1).select(\"version\", \"operation\", \"operationParameters\").show(truncate=False)"
   ]
  },
  {
   "cell_type": "code",
   "execution_count": 83,
   "id": "5a92f4ef-847e-4c24-b26b-bf0461cd1cce",
   "metadata": {},
   "outputs": [
    {
     "name": "stdout",
     "output_type": "stream",
     "text": [
      "root\n",
      " |-- event_time: timestamp (nullable = true)\n",
      " |-- event_type: string (nullable = true)\n",
      " |-- product_id: integer (nullable = true)\n",
      " |-- category_id: long (nullable = true)\n",
      " |-- category_code: string (nullable = true)\n",
      " |-- brand: string (nullable = true)\n",
      " |-- price: float (nullable = true)\n",
      " |-- user_id: integer (nullable = true)\n",
      " |-- user_session: string (nullable = true)\n",
      " |-- event_date: date (nullable = true)\n",
      " |-- category_id_event_type_col: string (nullable = true)\n",
      "\n"
     ]
    }
   ],
   "source": [
    "dt2.toDF().printSchema()"
   ]
  },
  {
   "cell_type": "markdown",
   "id": "305b26e5-2317-4b57-bf63-edf416bd0e3b",
   "metadata": {},
   "source": [
    "## It is worth pointing out that \"Delta\" mergeSchema is \"additive\"\n",
    "> In the above example, we `dropped` the `product_id` column, but Delta doesn't care - this will just be a null column\n",
    "> This is a stupid thing to have done, since this means the data now has `null` values vs having `real` values!\n",
    "\n",
    "Luckily, even if we make mistakes we can roll them back."
   ]
  },
  {
   "cell_type": "code",
   "execution_count": 85,
   "id": "5b7b4331-f447-4a6a-a905-38a94392bb0a",
   "metadata": {},
   "outputs": [
    {
     "name": "stdout",
     "output_type": "stream",
     "text": [
      "+-------------------+----------+----------+-------------------+--------------------+----------+-------+---------+--------------------+----------+--------------------------+\n",
      "|         event_time|event_type|product_id|        category_id|       category_code|     brand|  price|  user_id|        user_session|event_date|category_id_event_type_col|\n",
      "+-------------------+----------+----------+-------------------+--------------------+----------+-------+---------+--------------------+----------+--------------------------+\n",
      "|2019-10-01 00:00:00|      view|      NULL|2103807459595387724|                NULL|  shiseido|  35.79|541312140|72d76fde-8bb3-4e0...|2019-10-01|      04fea625d663b0f33...|\n",
      "|2019-10-01 10:45:06|      view|      NULL|2053013565639492569|       apparel.shoes|      NULL|   99.1|548846299|2cef6570-ab23-4d2...|2019-10-01|      5b9e1f86433535cc5...|\n",
      "|2019-10-01 00:00:00|      view|      NULL|2053013552326770905|appliances.enviro...|      aqua|   33.2|554748717|9333dfbd-b87a-470...|2019-10-01|      66417fb4f02131edd...|\n",
      "|2019-10-01 10:45:06|      view|      NULL|2053013558920217191|  computers.notebook|      asus| 357.25|555589651|49c30221-e410-41d...|2019-10-01|      2c852e8c7d025a4bd...|\n",
      "|2019-10-01 00:00:01|      view|      NULL|2053013559792632471|furniture.living_...|      NULL|  543.1|519107250|566511c2-e2e3-422...|2019-10-01|      93b57b466290af771...|\n",
      "|2019-10-01 10:45:06|      view|      NULL|2053013553559896355|                NULL|bfgoodrich|  52.77|512678039|eeb2e389-1e20-4a9...|2019-10-01|      730f4370c8cecca6e...|\n",
      "|2019-10-01 00:00:01|      view|      NULL|2053013558920217191|  computers.notebook|    lenovo| 251.74|550050854|7c90fc70-0e80-459...|2019-10-01|      2c852e8c7d025a4bd...|\n",
      "|2019-10-01 10:45:06|      view|      NULL|2053013555631882655|electronics.smart...|     apple| 738.39|514416090|442f9c0b-93a0-456...|2019-10-01|      2ad2130b3bafca64b...|\n",
      "|2019-10-01 00:00:04|      view|      NULL|2053013555631882655|electronics.smart...|     apple|1081.98|535871217|c6bd7419-2748-4c5...|2019-10-01|      2ad2130b3bafca64b...|\n",
      "|2019-10-01 10:45:06|      view|      NULL|2053013563810775923|appliances.kitche...|   samsung| 295.49|555577245|47012c6d-fa63-476...|2019-10-01|      d27d424d44c7779f6...|\n",
      "+-------------------+----------+----------+-------------------+--------------------+----------+-------+---------+--------------------+----------+--------------------------+\n",
      "\n"
     ]
    }
   ],
   "source": [
    "dt2.toDF().where(col(\"event_date\").isin([\"2019-10-01\",\"2019-10-02\"])).show()"
   ]
  },
  {
   "cell_type": "markdown",
   "id": "911d1540-20a1-448e-88c2-a28b068629fc",
   "metadata": {},
   "source": [
    "# Can you spot the NULL mistake\n",
    "> We dropped the `product_id` column. Not great. Let's get it back"
   ]
  },
  {
   "cell_type": "code",
   "execution_count": 86,
   "id": "58d58120-4e95-4954-a8fb-35628341499d",
   "metadata": {},
   "outputs": [
    {
     "name": "stdout",
     "output_type": "stream",
     "text": [
      "+-------+--------------------+------+--------+-----------+--------------------+----+--------+---------+-----------+--------------+-------------+--------------------+------------+--------------------+\n",
      "|version|           timestamp|userId|userName|  operation| operationParameters| job|notebook|clusterId|readVersion|isolationLevel|isBlindAppend|    operationMetrics|userMetadata|          engineInfo|\n",
      "+-------+--------------------+------+--------+-----------+--------------------+----+--------+---------+-----------+--------------+-------------+--------------------+------------+--------------------+\n",
      "|     15|2024-03-21 00:06:...|  NULL|    NULL|      WRITE|{mode -> Overwrit...|NULL|    NULL|     NULL|         14|  Serializable|        false|{numFiles -> 1, n...|        NULL|Apache-Spark/3.5....|\n",
      "|     14|2024-03-21 00:02:...|  NULL|    NULL|ADD COLUMNS|{columns -> [{\"co...|NULL|    NULL|     NULL|         13|  Serializable|         true|                  {}|        NULL|Apache-Spark/3.5....|\n",
      "+-------+--------------------+------+--------+-----------+--------------------+----+--------+---------+-----------+--------------+-------------+--------------------+------------+--------------------+\n",
      "\n"
     ]
    }
   ],
   "source": [
    "dt2.history(2).show()"
   ]
  },
  {
   "cell_type": "code",
   "execution_count": null,
   "id": "231b0835-2e16-4ad3-866d-09f8ca73a282",
   "metadata": {},
   "outputs": [],
   "source": [
    "dt2.restoreToVersion(14)"
   ]
  },
  {
   "cell_type": "code",
   "execution_count": 88,
   "id": "21f6a51e-ff70-405f-ac44-34893b3fcfd9",
   "metadata": {},
   "outputs": [
    {
     "name": "stderr",
     "output_type": "stream",
     "text": [
      "24/03/21 00:12:11 ERROR NonFateSharingFuture: Failed to get result from future\n",
      "scala.runtime.NonLocalReturnControl\n"
     ]
    },
    {
     "name": "stdout",
     "output_type": "stream",
     "text": [
      "+-------------------+----------+----------+-------------------+--------------------+----------+-------+---------+--------------------+----------+--------------------------+\n",
      "|         event_time|event_type|product_id|        category_id|       category_code|     brand|  price|  user_id|        user_session|event_date|category_id_event_type_col|\n",
      "+-------------------+----------+----------+-------------------+--------------------+----------+-------+---------+--------------------+----------+--------------------------+\n",
      "|2019-10-01 00:00:00|      view|  44600062|2103807459595387724|                NULL|  shiseido|  35.79|541312140|72d76fde-8bb3-4e0...|2019-10-01|                      NULL|\n",
      "|2019-10-01 10:45:06|      view|  28717654|2053013565639492569|       apparel.shoes|      NULL|   99.1|548846299|2cef6570-ab23-4d2...|2019-10-01|                      NULL|\n",
      "|2019-10-01 00:00:00|      view|   3900821|2053013552326770905|appliances.enviro...|      aqua|   33.2|554748717|9333dfbd-b87a-470...|2019-10-01|                      NULL|\n",
      "|2019-10-01 10:45:06|      view|   1307336|2053013558920217191|  computers.notebook|      asus| 357.25|555589651|49c30221-e410-41d...|2019-10-01|                      NULL|\n",
      "|2019-10-01 00:00:01|      view|  17200506|2053013559792632471|furniture.living_...|      NULL|  543.1|519107250|566511c2-e2e3-422...|2019-10-01|                      NULL|\n",
      "|2019-10-01 10:45:06|      view|  12705409|2053013553559896355|                NULL|bfgoodrich|  52.77|512678039|eeb2e389-1e20-4a9...|2019-10-01|                      NULL|\n",
      "|2019-10-01 00:00:01|      view|   1307067|2053013558920217191|  computers.notebook|    lenovo| 251.74|550050854|7c90fc70-0e80-459...|2019-10-01|                      NULL|\n",
      "|2019-10-01 10:45:06|      view|   1004249|2053013555631882655|electronics.smart...|     apple| 738.39|514416090|442f9c0b-93a0-456...|2019-10-01|                      NULL|\n",
      "|2019-10-01 00:00:04|      view|   1004237|2053013555631882655|electronics.smart...|     apple|1081.98|535871217|c6bd7419-2748-4c5...|2019-10-01|                      NULL|\n",
      "|2019-10-01 10:45:06|      view|   3600661|2053013563810775923|appliances.kitche...|   samsung| 295.49|555577245|47012c6d-fa63-476...|2019-10-01|                      NULL|\n",
      "|2019-10-01 00:00:05|      view|   1480613|2053013561092866779|   computers.desktop|    pulser| 908.62|512742880|0d0d91c2-c9c2-4e8...|2019-10-01|                      NULL|\n",
      "|2019-10-01 10:45:06|      view|   6301207|2053013554834964853|appliances.kitche...|    saturn|  13.72|553801453|6dcf67bb-481f-485...|2019-10-01|                      NULL|\n",
      "|2019-10-01 00:00:08|      view|  17300353|2053013553853497655|                NULL|     creed| 380.96|555447699|4fe811e9-91de-46d...|2019-10-01|                      NULL|\n",
      "|2019-10-01 10:45:06|      view|  26300502|2053013563584283495|                NULL|      NULL| 190.74|552818328|88b80a84-e3f5-425...|2019-10-01|                      NULL|\n",
      "|2019-10-01 00:00:08|      view|  31500053|2053013558031024687|                NULL|  luminarc|  41.16|550978835|6280d577-25c8-414...|2019-10-01|                      NULL|\n",
      "|2019-10-01 10:45:06|      view|  27400076|2053013563391345499|                NULL|      NULL|   9.27|555538567|91b4102f-060d-43b...|2019-10-01|                      NULL|\n",
      "|2019-10-01 00:00:10|      view|  28719074|2053013565480109009|  apparel.shoes.keds|     baden| 102.71|520571932|ac1cd4e5-a3ce-422...|2019-10-01|                      NULL|\n",
      "|2019-10-01 10:45:06|      view|   6200323|2053013552293216471|appliances.enviro...|electrolux|  59.18|515063171|5d853e57-1254-44d...|2019-10-01|                      NULL|\n",
      "|2019-10-01 00:00:11|      view|   1004545|2053013555631882655|electronics.smart...|    huawei| 566.01|537918940|406c46ed-90a4-478...|2019-10-01|                      NULL|\n",
      "|2019-10-01 10:45:06|      view|  17200546|2053013559792632471|furniture.living_...|      NULL| 962.44|512597782|b931a40b-221d-439...|2019-10-01|                      NULL|\n",
      "+-------------------+----------+----------+-------------------+--------------------+----------+-------+---------+--------------------+----------+--------------------------+\n",
      "only showing top 20 rows\n",
      "\n"
     ]
    }
   ],
   "source": [
    "dt2.toDF().where(col(\"event_date\").isin([\"2019-10-01\",\"2019-10-02\"])).show()"
   ]
  },
  {
   "cell_type": "markdown",
   "id": "dc348f74-67b9-40fb-976a-bf01af0e21bf",
   "metadata": {},
   "source": [
    "## Great. Even when Schema Enforcement works but we \"do naughty things\" we can restore back to where we were.\n",
    "> No harm. No Foul (or fowl if we are birds...)"
   ]
  },
  {
   "cell_type": "code",
   "execution_count": null,
   "id": "cfaf536f-0e1e-4119-84d5-b461152d28be",
   "metadata": {},
   "outputs": [],
   "source": []
  }
 ],
 "metadata": {
  "kernelspec": {
   "display_name": "Python 3 (ipykernel)",
   "language": "python",
   "name": "python3"
  },
  "language_info": {
   "codemirror_mode": {
    "name": "ipython",
    "version": 3
   },
   "file_extension": ".py",
   "mimetype": "text/x-python",
   "name": "python",
   "nbconvert_exporter": "python",
   "pygments_lexer": "ipython3",
   "version": "3.8.10"
  }
 },
 "nbformat": 4,
 "nbformat_minor": 5
}
