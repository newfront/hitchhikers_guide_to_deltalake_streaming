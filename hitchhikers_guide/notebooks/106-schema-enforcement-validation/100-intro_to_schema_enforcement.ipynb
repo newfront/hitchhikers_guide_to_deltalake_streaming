{
 "cells": [
  {
   "cell_type": "markdown",
   "id": "9329ddab-39e9-4ce9-846b-268a924139ed",
   "metadata": {},
   "source": [
    "# Striking a Fine Balance Between Fast and Easy, and Fast and Accurate\n",
    "> schema-enforcement is policiing the precious 'structure' of your 'existing' table.\n",
    "> if it does the job right, then no harm may come to said 'schema'"
   ]
  },
  {
   "cell_type": "code",
   "execution_count": null,
   "id": "b329fc0b-31ad-4dcd-ab26-089c124d3fdc",
   "metadata": {},
   "outputs": [],
   "source": [
    "## Cloning the Table from "
   ]
  }
 ],
 "metadata": {
  "kernelspec": {
   "display_name": "Python 3 (ipykernel)",
   "language": "python",
   "name": "python3"
  },
  "language_info": {
   "codemirror_mode": {
    "name": "ipython",
    "version": 3
   },
   "file_extension": ".py",
   "mimetype": "text/x-python",
   "name": "python",
   "nbconvert_exporter": "python",
   "pygments_lexer": "ipython3",
   "version": "3.9.2"
  }
 },
 "nbformat": 4,
 "nbformat_minor": 5
}
